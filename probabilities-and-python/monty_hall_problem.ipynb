{
 "cells": [
  {
   "cell_type": "markdown",
   "metadata": {},
   "source": [
    "### Парадокс Монти Холла (Monty Hall problem)"
   ]
  },
  {
   "cell_type": "code",
   "execution_count": 1,
   "metadata": {},
   "outputs": [],
   "source": [
    "import random\r\n",
    "\r\n",
    "\r\n",
    "def monty_hall_stay(choices):\r\n",
    "    random.shuffle(choices)\r\n",
    "    return choices[random.randrange(len(choices))]\r\n",
    "\r\n",
    "def monty_hall_switch(choices):\r\n",
    "    random.shuffle(choices)\r\n",
    "    first_choice = random.randrange(len(choices))\r\n",
    "    # selection of an empty door \r\n",
    "    for i in range(len(choices)):\r\n",
    "        if i != first_choice and not(choices[i]):\r\n",
    "            host_choice = i\r\n",
    "            break\r\n",
    "    # second selection with switch\r\n",
    "    for i in range(len(choices)):\r\n",
    "        if i != first_choice and i != host_choice:\r\n",
    "            return choices[i]"
   ]
  },
  {
   "cell_type": "code",
   "execution_count": 2,
   "metadata": {},
   "outputs": [],
   "source": [
    "# False - empty, True - car\r\n",
    "choices = [False, False, True]\r\n",
    "N = 100000"
   ]
  },
  {
   "cell_type": "markdown",
   "metadata": {},
   "source": [
    "Проверяем вариант с неизменным выбором  \r\n",
    "Вероятность выиграть - частота выигранных попыток:"
   ]
  },
  {
   "cell_type": "code",
   "execution_count": 3,
   "metadata": {},
   "outputs": [
    {
     "name": "stdout",
     "output_type": "stream",
     "text": [
      "0.33289\n"
     ]
    }
   ],
   "source": [
    "print(sum([monty_hall_stay(choices) for _ in range(N)])/N)"
   ]
  },
  {
   "cell_type": "markdown",
   "metadata": {},
   "source": [
    "Проверяем вариант с изменением выбора  \r\n",
    "Вероятность выиграть - частота выигранных попыток:"
   ]
  },
  {
   "cell_type": "code",
   "execution_count": 4,
   "metadata": {},
   "outputs": [
    {
     "name": "stdout",
     "output_type": "stream",
     "text": [
      "0.66704\n"
     ]
    }
   ],
   "source": [
    "print(sum([monty_hall_switch(choices) for _ in range(N)])/N)"
   ]
  }
 ],
 "metadata": {
  "interpreter": {
   "hash": "b3ba2566441a7c06988d0923437866b63cedc61552a5af99d1f4fb67d367b25f"
  },
  "kernelspec": {
   "display_name": "Python 3.8.8 64-bit (conda)",
   "name": "python3"
  },
  "language_info": {
   "codemirror_mode": {
    "name": "ipython",
    "version": 3
   },
   "file_extension": ".py",
   "mimetype": "text/x-python",
   "name": "python",
   "nbconvert_exporter": "python",
   "pygments_lexer": "ipython3",
   "version": "3.8.8"
  }
 },
 "nbformat": 4,
 "nbformat_minor": 5
}