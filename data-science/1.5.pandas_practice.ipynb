{
    "cells": [
        {
            "cell_type": "markdown",
            "source": [
                "# Решение практических заданий pandas"
            ],
            "metadata": {}
        },
        {
            "cell_type": "markdown",
            "source": [
                "Любым удобным для вас способом создайте dataframe c именем my_data,  \r\n",
                "в котором две колонки c именами (type - строки, value - целые числа) и четыре наблюдения в каждой колонке:  \r\n",
                "| type | value |\r\n",
                "| --- | --- |\r\n",
                "| A | 10 |\r\n",
                "| A | 14 |\r\n",
                "| B | 12 |\r\n",
                "| B | 23 |"
            ],
            "metadata": {}
        },
        {
            "cell_type": "code",
            "execution_count": 1,
            "source": [
                "import pandas as pd\r\n",
                "\r\n",
                "my_data = pd.DataFrame({'type': ['A', 'A', 'B', 'B'], 'value': [10, 14, 12, 23]})\r\n",
                "my_data"
            ],
            "outputs": [
                {
                    "output_type": "execute_result",
                    "data": {
                        "text/plain": [
                            "  type  value\n",
                            "0    A     10\n",
                            "1    A     14\n",
                            "2    B     12\n",
                            "3    B     23"
                        ],
                        "text/html": [
                            "<div>\n",
                            "<style scoped>\n",
                            "    .dataframe tbody tr th:only-of-type {\n",
                            "        vertical-align: middle;\n",
                            "    }\n",
                            "\n",
                            "    .dataframe tbody tr th {\n",
                            "        vertical-align: top;\n",
                            "    }\n",
                            "\n",
                            "    .dataframe thead th {\n",
                            "        text-align: right;\n",
                            "    }\n",
                            "</style>\n",
                            "<table border=\"1\" class=\"dataframe\">\n",
                            "  <thead>\n",
                            "    <tr style=\"text-align: right;\">\n",
                            "      <th></th>\n",
                            "      <th>type</th>\n",
                            "      <th>value</th>\n",
                            "    </tr>\n",
                            "  </thead>\n",
                            "  <tbody>\n",
                            "    <tr>\n",
                            "      <th>0</th>\n",
                            "      <td>A</td>\n",
                            "      <td>10</td>\n",
                            "    </tr>\n",
                            "    <tr>\n",
                            "      <th>1</th>\n",
                            "      <td>A</td>\n",
                            "      <td>14</td>\n",
                            "    </tr>\n",
                            "    <tr>\n",
                            "      <th>2</th>\n",
                            "      <td>B</td>\n",
                            "      <td>12</td>\n",
                            "    </tr>\n",
                            "    <tr>\n",
                            "      <th>3</th>\n",
                            "      <td>B</td>\n",
                            "      <td>23</td>\n",
                            "    </tr>\n",
                            "  </tbody>\n",
                            "</table>\n",
                            "</div>"
                        ]
                    },
                    "metadata": {},
                    "execution_count": 1
                }
            ],
            "metadata": {}
        },
        {
            "cell_type": "markdown",
            "source": [
                "В dataframe с именем my_stat сохранено 20 строк и четыре колонки (V1, V2, V3, V4):  \r\n",
                "В переменную с именем subset_1 сохраните только первые 10 строк и только 1 и 3 колонку.  \r\n",
                "В переменную с именем subset_2 сохраните все строки кроме 1 и 5 и только 2 и 4 колонку.  \r\n",
                "Помните, что нумерация индексов строк и колонок начинается с 0.  \r\n",
                "Обратите внимание, получившиеся subset_1 и subset_2 - тоже должны быть dataframe."
            ],
            "metadata": {}
        },
        {
            "cell_type": "code",
            "execution_count": 2,
            "source": [
                "my_stat = pd.read_csv('https://stepik.org/media/attachments/course/4852/my_stat.csv')\r\n",
                "\r\n",
                "subset_1 = my_stat.iloc[:10, [0, 2]]\r\n",
                "subset_2 = my_stat.drop([0, 4]).iloc[:, [1, 3]]"
            ],
            "outputs": [],
            "metadata": {}
        },
        {
            "cell_type": "markdown",
            "source": [
                "В dataframe с именем my_stat четыре колонки V1, V2, V3, V4:  \r\n",
                "В переменную subset_1 сохраните только те наблюдения, у которых значения переменной V1 строго больше 0, и значение переменной V3 равняется 'A'.  \r\n",
                "В переменную subset_2 сохраните только те наблюдения, у которых значения переменной V2 не равняются 10, или значения переменной V4 больше или равно 1.  \r\n",
                "Как и в предыдущей задаче результат фильтрации - это тоже dataframe."
            ],
            "metadata": {}
        },
        {
            "cell_type": "code",
            "execution_count": 3,
            "source": [
                "subset_1 = my_stat.loc[(my_stat.V1 > 0) & (my_stat.V3 == 'A')]\r\n",
                "subset_2 = my_stat.query('V2 != 10 | V1 >= 1')"
            ],
            "outputs": [],
            "metadata": {}
        },
        {
            "cell_type": "markdown",
            "source": [
                "В переменной my_stat лежат данные с которыми вам необходимо проделать следующее дейтвие.  \r\n",
                "В этих данных (my_stat) создайте две новые переменных:  \r\n",
                "V5 = V1 + V4  \r\n",
                "V6 = натуральный логарифм переменной V2"
            ],
            "metadata": {}
        },
        {
            "cell_type": "code",
            "execution_count": 4,
            "source": [
                "import numpy as np\r\n",
                "\r\n",
                "my_stat['V5'] = my_stat.V1 + my_stat.V4\r\n",
                "my_stat['V6'] = np.log(my_stat.V2)"
            ],
            "outputs": [],
            "metadata": {}
        },
        {
            "cell_type": "markdown",
            "source": [
                "Переменные V1, V2  ... такие имена никуда не годятся. С такими названиями легко запутаться в собственных данных и в результате ошибиться в расчетах.  \r\n",
                "Переименуйте колонки в данных  my_stat следующим образом:  \r\n",
                "V1 -> session_value  \r\n",
                "V2 -> group  \r\n",
                "V3 -> time  \r\n",
                "V4 -> n_users"
            ],
            "metadata": {}
        },
        {
            "cell_type": "code",
            "execution_count": 5,
            "source": [
                "my_stat = my_stat.rename(columns={'V1': 'session_value', 'V2': 'group', 'V3': 'time', 'V4': 'n_users'})"
            ],
            "outputs": [],
            "metadata": {}
        },
        {
            "cell_type": "markdown",
            "source": [
                "В dataframe с именем my_stat сохранены данные с 4 колонками: session_value, group, time, n_users.  \r\n",
                "В переменной session_value замените все пропущенные значения на нули.  \r\n",
                "В переменной n_users замените все отрицательные значения на медианное значение переменной n_users (без учета отрицательных значений, разумеется).  \r\n",
                "Как получить медиану переменной n_users без учета отрицательных значений?"
            ],
            "metadata": {}
        },
        {
            "cell_type": "code",
            "execution_count": 6,
            "source": [
                "my_stat = pd.read_csv('https://stepik.org/media/attachments/course/4852/my_stat_1.csv')\r\n",
                "\r\n",
                "my_stat = my_stat.fillna(0)\r\n",
                "\r\n",
                "n_users_median = my_stat.loc[my_stat.n_users >= 0].n_users.median()\r\n",
                "my_stat.loc[my_stat.n_users < 0, 'n_users'] = n_users_median"
            ],
            "outputs": [],
            "metadata": {}
        },
        {
            "cell_type": "markdown",
            "source": [
                "В этой задаче для данных my_stat рассчитайте среднее значение переменной session_value для каждой группы (переменная group),  \r\n",
                "в получившемся dataframe переменная group не должна превратиться в индекс.  \r\n",
                "Также переименуйте колонку со средним значением session_value в mean_session_value.  \r\n",
                "Получившийся результат сохраните в dataframe с именем mean_session_value_data.  "
            ],
            "metadata": {}
        },
        {
            "cell_type": "code",
            "execution_count": 7,
            "source": [
                "mean_session_value_data = my_stat.groupby(\"group\", as_index=False).session_value.agg({'mean_session_value':'mean'})"
            ],
            "outputs": [],
            "metadata": {}
        }
    ],
    "metadata": {
        "orig_nbformat": 4,
        "language_info": {
            "name": "python"
        }
    },
    "nbformat": 4,
    "nbformat_minor": 2
}