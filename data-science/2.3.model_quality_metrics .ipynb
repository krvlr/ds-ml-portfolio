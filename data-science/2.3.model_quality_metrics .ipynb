{
    "cells": [
        {
            "cell_type": "markdown",
            "source": [
                "# Метрики качества модели\r\n",
                "это такие метрики, по которым можно понять на сколько хорошо модель справляется с задачей классификации."
            ],
            "metadata": {}
        },
        {
            "cell_type": "markdown",
            "source": [
                "Метрика точности (accuracy) - общий процент правильных ответов. Зачастую, (например, при дисбалансе классов) метрика бесполезна и может вводить в заблуждение.  \r\n",
                "Поэтому, нам важно понимать насколько хорошо модель справляется с правильностью классификации внутри каждого из классов.  \r\n",
                "$$Precision=\\frac{TP}{TP+FP}$$\r\n",
                "Precision (точность) - то на сколько хорошо получается находить положительные классы, не переплачивая за это ложными срабатываниями.\r\n",
                "$$Recall=\\frac{TP}{TP+FN}$$\r\n",
                "Recall (полнота) - то, на сколько у нас получается находить все положительные примеры.  \r\n",
                "Для разных задач будет важна разная метрика.  \r\n",
                "F мера - комбинированная метрика Precision и Recall.\r\n",
                "$$F1=2\\frac{Precision*Recall}{Precision+Recall}$$"
            ],
            "metadata": {}
        },
        {
            "cell_type": "markdown",
            "source": [
                "### Задание\r\n",
                "В задании даны переменные, содержащие информацию о песнях и артистах - X_train, y_train, X_test и y_test.  \r\n",
                "Исходно в датасэтах содержались тексты песен, но Decision Tree работает с категориальными и числовыми переменными, а текст это... текст.  \r\n",
                "Поэтому его необходимо преобразовать в понятную для модели форму. В данном случае для каждой песни просто посчитаны длина и количество некоторых знаков пунктуации.  \r\n",
                "\r\n",
                "Обучите модель на тренировочных данных, предскажите авторов для тестовых и поместите в переменную predictions.  \r\n",
                "Затем посчитайте precision score на предсказаниях и y_test, укажите параметр average='micro', и сохраните результат в переменную precision.  \r\n",
                "\r\n",
                "Если он будет недостаточно высок, потюньте немного модель.  "
            ],
            "metadata": {}
        },
        {
            "cell_type": "code",
            "execution_count": 7,
            "source": [
                "import pandas as pd\r\n",
                "\r\n",
                "song_data = pd.read_csv('https://stepik.org/media/attachments/course/4852/songs.csv')\r\n",
                "song_data.head()"
            ],
            "outputs": [
                {
                    "output_type": "execute_result",
                    "data": {
                        "text/html": [
                            "<div>\n",
                            "<style scoped>\n",
                            "    .dataframe tbody tr th:only-of-type {\n",
                            "        vertical-align: middle;\n",
                            "    }\n",
                            "\n",
                            "    .dataframe tbody tr th {\n",
                            "        vertical-align: top;\n",
                            "    }\n",
                            "\n",
                            "    .dataframe thead th {\n",
                            "        text-align: right;\n",
                            "    }\n",
                            "</style>\n",
                            "<table border=\"1\" class=\"dataframe\">\n",
                            "  <thead>\n",
                            "    <tr style=\"text-align: right;\">\n",
                            "      <th></th>\n",
                            "      <th>song</th>\n",
                            "      <th>year</th>\n",
                            "      <th>artist</th>\n",
                            "      <th>genre</th>\n",
                            "      <th>lyrics</th>\n",
                            "      <th>length</th>\n",
                            "      <th>commas</th>\n",
                            "      <th>exclamations</th>\n",
                            "      <th>colons</th>\n",
                            "      <th>hyphens</th>\n",
                            "    </tr>\n",
                            "  </thead>\n",
                            "  <tbody>\n",
                            "    <tr>\n",
                            "      <th>0</th>\n",
                            "      <td>the-ownerz</td>\n",
                            "      <td>2007</td>\n",
                            "      <td>gangstarr</td>\n",
                            "      <td>Hip-Hop</td>\n",
                            "      <td>\"One-two..\"\\n\"One-two, shots to the chin.. kno...</td>\n",
                            "      <td>1300</td>\n",
                            "      <td>24</td>\n",
                            "      <td>5</td>\n",
                            "      <td>0</td>\n",
                            "      <td>11</td>\n",
                            "    </tr>\n",
                            "    <tr>\n",
                            "      <th>1</th>\n",
                            "      <td>dead-sound-of-misery</td>\n",
                            "      <td>2006</td>\n",
                            "      <td>blind-guardian</td>\n",
                            "      <td>Metal</td>\n",
                            "      <td>It's dark\\nLet's do it now\\nBring in the siren...</td>\n",
                            "      <td>1566</td>\n",
                            "      <td>0</td>\n",
                            "      <td>0</td>\n",
                            "      <td>0</td>\n",
                            "      <td>0</td>\n",
                            "    </tr>\n",
                            "    <tr>\n",
                            "      <th>2</th>\n",
                            "      <td>modred-s-song</td>\n",
                            "      <td>2006</td>\n",
                            "      <td>blind-guardian</td>\n",
                            "      <td>Metal</td>\n",
                            "      <td>I've lost my battle before it starts\\nmy first...</td>\n",
                            "      <td>996</td>\n",
                            "      <td>1</td>\n",
                            "      <td>0</td>\n",
                            "      <td>1</td>\n",
                            "      <td>0</td>\n",
                            "    </tr>\n",
                            "    <tr>\n",
                            "      <th>3</th>\n",
                            "      <td>the-ninth-wave</td>\n",
                            "      <td>2015</td>\n",
                            "      <td>blind-guardian</td>\n",
                            "      <td>Metal</td>\n",
                            "      <td>As dark night embraces\\nWe are the nation\\nI w...</td>\n",
                            "      <td>2868</td>\n",
                            "      <td>5</td>\n",
                            "      <td>0</td>\n",
                            "      <td>0</td>\n",
                            "      <td>0</td>\n",
                            "    </tr>\n",
                            "    <tr>\n",
                            "      <th>4</th>\n",
                            "      <td>skills</td>\n",
                            "      <td>2014</td>\n",
                            "      <td>gangstarr</td>\n",
                            "      <td>Hip-Hop</td>\n",
                            "      <td>Skills, skills, skills\\n\"My Microphone\"\\n\"It's...</td>\n",
                            "      <td>3351</td>\n",
                            "      <td>22</td>\n",
                            "      <td>0</td>\n",
                            "      <td>0</td>\n",
                            "      <td>3</td>\n",
                            "    </tr>\n",
                            "  </tbody>\n",
                            "</table>\n",
                            "</div>"
                        ],
                        "text/plain": [
                            "                   song  year          artist    genre  \\\n",
                            "0            the-ownerz  2007       gangstarr  Hip-Hop   \n",
                            "1  dead-sound-of-misery  2006  blind-guardian    Metal   \n",
                            "2         modred-s-song  2006  blind-guardian    Metal   \n",
                            "3        the-ninth-wave  2015  blind-guardian    Metal   \n",
                            "4                skills  2014       gangstarr  Hip-Hop   \n",
                            "\n",
                            "                                              lyrics  length  commas  \\\n",
                            "0  \"One-two..\"\\n\"One-two, shots to the chin.. kno...    1300      24   \n",
                            "1  It's dark\\nLet's do it now\\nBring in the siren...    1566       0   \n",
                            "2  I've lost my battle before it starts\\nmy first...     996       1   \n",
                            "3  As dark night embraces\\nWe are the nation\\nI w...    2868       5   \n",
                            "4  Skills, skills, skills\\n\"My Microphone\"\\n\"It's...    3351      22   \n",
                            "\n",
                            "   exclamations  colons  hyphens  \n",
                            "0             5       0       11  \n",
                            "1             0       0        0  \n",
                            "2             0       1        0  \n",
                            "3             0       0        0  \n",
                            "4             0       0        3  "
                        ]
                    },
                    "metadata": {},
                    "execution_count": 7
                }
            ],
            "metadata": {}
        },
        {
            "cell_type": "code",
            "execution_count": 8,
            "source": [
                "X = song_data.drop(['artist', 'lyrics', 'genre', 'song'], axis=1)\r\n",
                "X = pd.get_dummies(X)\r\n",
                "\r\n",
                "y = song_data.artist"
            ],
            "outputs": [],
            "metadata": {}
        },
        {
            "cell_type": "code",
            "execution_count": 9,
            "source": [
                "from sklearn.model_selection import train_test_split\r\n",
                "\r\n",
                "x_train, x_test, y_train, y_test = train_test_split(X, y, test_size=0.3, random_state=42, shuffle=True)"
            ],
            "outputs": [],
            "metadata": {}
        },
        {
            "cell_type": "code",
            "execution_count": 10,
            "source": [
                "from sklearn.tree import DecisionTreeClassifier\r\n",
                "\r\n",
                "clf = DecisionTreeClassifier(criterion='gini', max_depth=35, min_samples_leaf=5)\r\n",
                "\r\n",
                "clf.fit(x_train, y_train)\r\n",
                "predictions = clf.predict(x_test)"
            ],
            "outputs": [],
            "metadata": {}
        },
        {
            "cell_type": "code",
            "execution_count": 11,
            "source": [
                "from sklearn.metrics import precision_score\r\n",
                "\r\n",
                "precision = precision_score(y_test,predictions, average='micro')\r\n",
                "print(precision)"
            ],
            "outputs": [
                {
                    "output_type": "stream",
                    "name": "stdout",
                    "text": [
                        "0.7870370370370371\n"
                    ]
                }
            ],
            "metadata": {}
        }
    ],
    "metadata": {
        "orig_nbformat": 4,
        "language_info": {
            "name": "python",
            "version": "3.8.10"
        },
        "kernelspec": {
            "name": "python3",
            "display_name": "Python 3.8.10 64-bit"
        },
        "interpreter": {
            "hash": "188e6a6f1be7acb7ef13240439b1aed38d0658e28f5b11628d8f8d604f4d20f0"
        }
    },
    "nbformat": 4,
    "nbformat_minor": 2
}