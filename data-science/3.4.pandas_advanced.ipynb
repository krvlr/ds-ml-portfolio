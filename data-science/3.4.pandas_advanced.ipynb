{
    "cells": [
        {
            "cell_type": "markdown",
            "source": [
                "# Трюки в Pandas"
            ],
            "metadata": {}
        },
        {
            "cell_type": "markdown",
            "source": [
                "Загрузим датасет с данными о оценках фильмов в IMDB"
            ],
            "metadata": {}
        },
        {
            "cell_type": "code",
            "execution_count": null,
            "source": [
                "import pandas as pd\r\n",
                "\r\n",
                "movie_data = pd.read_csv('./data/movie_metadata.csv')\r\n",
                "movie_data.head()"
            ],
            "outputs": [],
            "metadata": {}
        },
        {
            "cell_type": "markdown",
            "source": [
                "Отберем колонки для обработки"
            ],
            "metadata": {}
        },
        {
            "cell_type": "code",
            "execution_count": null,
            "source": [
                "genres = movie_data[['movie_title', 'genres']]\r\n",
                "genres.head()"
            ],
            "outputs": [],
            "metadata": {}
        },
        {
            "cell_type": "markdown",
            "source": [
                "## Обработка данных\r\n",
                "Как применить функцию к данным?"
            ],
            "metadata": {}
        },
        {
            "cell_type": "code",
            "execution_count": null,
            "source": [
                "def reversator(value):\r\n",
                "    return value[::-1]"
            ],
            "outputs": [],
            "metadata": {}
        },
        {
            "cell_type": "markdown",
            "source": [
                "1. Итерирование в python"
            ],
            "metadata": {}
        },
        {
            "cell_type": "code",
            "execution_count": null,
            "source": [
                "for row in genres.values:\r\n",
                "    for value in row:\r\n",
                "        reversator(value)"
            ],
            "outputs": [],
            "metadata": {}
        },
        {
            "cell_type": "markdown",
            "source": [
                "2. Итеррирование методами iterrows (по строкам) и iteritems (по колонкам)"
            ],
            "metadata": {}
        },
        {
            "cell_type": "code",
            "execution_count": null,
            "source": [
                "for i, row in genres.iterrows():\r\n",
                "    row.map(reversator)"
            ],
            "outputs": [],
            "metadata": {}
        },
        {
            "cell_type": "code",
            "execution_count": null,
            "source": [
                "for i, col in genres.iteritems():\r\n",
                "    col.map(reversator)"
            ],
            "outputs": [],
            "metadata": {}
        },
        {
            "cell_type": "markdown",
            "source": [
                "3. Применение методов apply (к строке или колонке) и applymap (к каждому значению)"
            ],
            "metadata": {}
        },
        {
            "cell_type": "code",
            "execution_count": null,
            "source": [
                "budget = movie_data[['budget', 'duration']]"
            ],
            "outputs": [],
            "metadata": {}
        },
        {
            "cell_type": "code",
            "execution_count": null,
            "source": [
                "budget = budget.applymap(lambda x: x + 1)"
            ],
            "outputs": [],
            "metadata": {}
        },
        {
            "cell_type": "code",
            "execution_count": null,
            "source": [
                "import numpy as np\r\n",
                "\r\n",
                "mean = budget.apply(np.mean, axis=0)\r\n",
                "\r\n",
                "budget = budget.apply(lambda x: x + 1)"
            ],
            "outputs": [],
            "metadata": {}
        },
        {
            "cell_type": "markdown",
            "source": [
                "4. Применение агрегирующих методов DataFrame. (наиболее оптимальный)"
            ],
            "metadata": {}
        },
        {
            "cell_type": "code",
            "execution_count": null,
            "source": [
                "mean = budget.mean() + 1"
            ],
            "outputs": [],
            "metadata": {}
        },
        {
            "cell_type": "markdown",
            "source": [
                "5. Применение методов numpy. (быстрый для больших объемов данных)"
            ],
            "metadata": {}
        },
        {
            "cell_type": "code",
            "execution_count": null,
            "source": [
                "np.mean(budget['budget'].dropna().values)"
            ],
            "outputs": [],
            "metadata": {}
        },
        {
            "cell_type": "markdown",
            "source": [
                "## Работа с time series"
            ],
            "metadata": {}
        },
        {
            "cell_type": "code",
            "execution_count": null,
            "source": [
                "stocks_data = pd.read_csv('./data/amzn_stock.csv', index_col='Date', parse_dates=True)\r\n",
                "stocks_data.head()"
            ],
            "outputs": [],
            "metadata": {}
        },
        {
            "cell_type": "markdown",
            "source": [
                "Отберём данные по частично указанной дате.  \r\n",
                "Выведем данные за год"
            ],
            "metadata": {}
        },
        {
            "cell_type": "code",
            "execution_count": null,
            "source": [
                "stocks_data['2010'].head()"
            ],
            "outputs": [],
            "metadata": {}
        },
        {
            "cell_type": "markdown",
            "source": [
                "Выведем данные за промежуток времени"
            ],
            "metadata": {}
        },
        {
            "cell_type": "code",
            "execution_count": null,
            "source": [
                "stocks_data['2010-02':'2011-03']"
            ],
            "outputs": [],
            "metadata": {}
        },
        {
            "cell_type": "markdown",
            "source": [
                "Resample позволяет выделить данные с интервалом.\r\n",
                "Например, выведем данные, средние за неделю"
            ],
            "metadata": {}
        },
        {
            "cell_type": "code",
            "execution_count": null,
            "source": [
                "stocks_data.resample('1w').mean()"
            ],
            "outputs": [],
            "metadata": {}
        },
        {
            "cell_type": "markdown",
            "source": [
                "Pandas позволяет использовать оконные функции.  \r\n",
                "Например, применим операцию вычисления среднего, используя ранее добавленные данные (окно в 3 измерения)"
            ],
            "metadata": {}
        },
        {
            "cell_type": "code",
            "execution_count": null,
            "source": [
                "stocks_data.rolling(window=3, min_periods=1).mean()"
            ],
            "outputs": [],
            "metadata": {}
        },
        {
            "cell_type": "markdown",
            "source": [
                "Воспользуемся расширяемым окном"
            ],
            "metadata": {}
        },
        {
            "cell_type": "code",
            "execution_count": null,
            "source": [
                "stocks_data.expanding().mean()"
            ],
            "outputs": [],
            "metadata": {}
        },
        {
            "cell_type": "markdown",
            "source": [
                "Применение оконных функций - склаживание функций"
            ],
            "metadata": {}
        },
        {
            "cell_type": "code",
            "execution_count": null,
            "source": [
                "stocks_data['Open'].plot()"
            ],
            "outputs": [],
            "metadata": {}
        },
        {
            "cell_type": "code",
            "execution_count": null,
            "source": [
                "ns = stocks_data['Open'].rolling(10, min_periods=1).mean()\r\n",
                "ns.plot()"
            ],
            "outputs": [],
            "metadata": {}
        },
        {
            "cell_type": "markdown",
            "source": [
                "### Задание\r\n",
                "К вам попали наблюдения о числе перелетающих на зимовку стрижей, представленные в виде пандасовской серии wintering.  \r\n",
                "В каждой ячейке указано число пролетевших птиц за этот день.  \r\n",
                "Посчитайте с помощью expanding окна количество всех перелетевших птиц за всё время до данного и поместите в переменную total_birds."
            ],
            "metadata": {}
        },
        {
            "cell_type": "code",
            "execution_count": null,
            "source": [
                "# total_birds = wintering.expanding().sum()"
            ],
            "outputs": [],
            "metadata": {}
        },
        {
            "cell_type": "markdown",
            "source": [
                "В timeseries можно легко получать информацию о конкретных днях.  \r\n",
                "Подсчитаем количество дней в датасете"
            ],
            "metadata": {}
        },
        {
            "cell_type": "code",
            "execution_count": null,
            "source": [
                "stocks_data.index.day_name().value_counts()"
            ],
            "outputs": [],
            "metadata": {}
        }
    ],
    "metadata": {
        "orig_nbformat": 4,
        "language_info": {
            "name": "python",
            "version": "3.8.10",
            "mimetype": "text/x-python",
            "codemirror_mode": {
                "name": "ipython",
                "version": 3
            },
            "pygments_lexer": "ipython3",
            "nbconvert_exporter": "python",
            "file_extension": ".py"
        },
        "kernelspec": {
            "name": "python3",
            "display_name": "Python 3.8.10 64-bit"
        },
        "interpreter": {
            "hash": "188e6a6f1be7acb7ef13240439b1aed38d0658e28f5b11628d8f8d604f4d20f0"
        }
    },
    "nbformat": 4,
    "nbformat_minor": 2
}