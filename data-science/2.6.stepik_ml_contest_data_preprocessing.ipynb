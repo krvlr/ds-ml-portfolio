{
    "cells": [
        {
            "cell_type": "markdown",
            "source": [
                "# Анализ активности студентов онлайн курса 'Введение в анализ данных в R'.  \r\n",
                "# Продолжение. Подготовка данных. Обучение простых моделей."
            ],
            "metadata": {}
        },
        {
            "cell_type": "markdown",
            "source": [
                "Переформулируем задачу: как можно раньше предсказать что пользователь уйдёт из курса анализа данных в R."
            ],
            "metadata": {}
        },
        {
            "cell_type": "markdown",
            "source": [
                "Загрузим предобработанные данные"
            ],
            "metadata": {}
        },
        {
            "cell_type": "code",
            "execution_count": 1,
            "source": [
                "import pandas as pd\r\n",
                "\r\n",
                "users_data = pd.read_pickle('./data/students_data.pkl')\r\n",
                "events_data = pd.read_pickle('./data/events_data.pkl')\r\n",
                "\r\n",
                "users_data.head()"
            ],
            "outputs": [
                {
                    "output_type": "execute_result",
                    "data": {
                        "text/plain": [
                            "   user_id  last_timestamp  is_gone_user  correct  wrong  discovered  passed  \\\n",
                            "0        1      1472827464          True      0.0    0.0           1       0   \n",
                            "1        2      1519226966          True      2.0    0.0           9       9   \n",
                            "2        3      1444581588          True     29.0   23.0          91      87   \n",
                            "3        5      1499859939          True      2.0    2.0          11      11   \n",
                            "4        7      1521634660          True      0.0    0.0           1       1   \n",
                            "\n",
                            "   started_attempt  viewed  day  passed_course  \n",
                            "0                0       1    1          False  \n",
                            "1                2      10    2          False  \n",
                            "2               30     192    7          False  \n",
                            "3                4      12    2          False  \n",
                            "4                0       1    1          False  "
                        ],
                        "text/html": [
                            "<div>\n",
                            "<style scoped>\n",
                            "    .dataframe tbody tr th:only-of-type {\n",
                            "        vertical-align: middle;\n",
                            "    }\n",
                            "\n",
                            "    .dataframe tbody tr th {\n",
                            "        vertical-align: top;\n",
                            "    }\n",
                            "\n",
                            "    .dataframe thead th {\n",
                            "        text-align: right;\n",
                            "    }\n",
                            "</style>\n",
                            "<table border=\"1\" class=\"dataframe\">\n",
                            "  <thead>\n",
                            "    <tr style=\"text-align: right;\">\n",
                            "      <th></th>\n",
                            "      <th>user_id</th>\n",
                            "      <th>last_timestamp</th>\n",
                            "      <th>is_gone_user</th>\n",
                            "      <th>correct</th>\n",
                            "      <th>wrong</th>\n",
                            "      <th>discovered</th>\n",
                            "      <th>passed</th>\n",
                            "      <th>started_attempt</th>\n",
                            "      <th>viewed</th>\n",
                            "      <th>day</th>\n",
                            "      <th>passed_course</th>\n",
                            "    </tr>\n",
                            "  </thead>\n",
                            "  <tbody>\n",
                            "    <tr>\n",
                            "      <th>0</th>\n",
                            "      <td>1</td>\n",
                            "      <td>1472827464</td>\n",
                            "      <td>True</td>\n",
                            "      <td>0.0</td>\n",
                            "      <td>0.0</td>\n",
                            "      <td>1</td>\n",
                            "      <td>0</td>\n",
                            "      <td>0</td>\n",
                            "      <td>1</td>\n",
                            "      <td>1</td>\n",
                            "      <td>False</td>\n",
                            "    </tr>\n",
                            "    <tr>\n",
                            "      <th>1</th>\n",
                            "      <td>2</td>\n",
                            "      <td>1519226966</td>\n",
                            "      <td>True</td>\n",
                            "      <td>2.0</td>\n",
                            "      <td>0.0</td>\n",
                            "      <td>9</td>\n",
                            "      <td>9</td>\n",
                            "      <td>2</td>\n",
                            "      <td>10</td>\n",
                            "      <td>2</td>\n",
                            "      <td>False</td>\n",
                            "    </tr>\n",
                            "    <tr>\n",
                            "      <th>2</th>\n",
                            "      <td>3</td>\n",
                            "      <td>1444581588</td>\n",
                            "      <td>True</td>\n",
                            "      <td>29.0</td>\n",
                            "      <td>23.0</td>\n",
                            "      <td>91</td>\n",
                            "      <td>87</td>\n",
                            "      <td>30</td>\n",
                            "      <td>192</td>\n",
                            "      <td>7</td>\n",
                            "      <td>False</td>\n",
                            "    </tr>\n",
                            "    <tr>\n",
                            "      <th>3</th>\n",
                            "      <td>5</td>\n",
                            "      <td>1499859939</td>\n",
                            "      <td>True</td>\n",
                            "      <td>2.0</td>\n",
                            "      <td>2.0</td>\n",
                            "      <td>11</td>\n",
                            "      <td>11</td>\n",
                            "      <td>4</td>\n",
                            "      <td>12</td>\n",
                            "      <td>2</td>\n",
                            "      <td>False</td>\n",
                            "    </tr>\n",
                            "    <tr>\n",
                            "      <th>4</th>\n",
                            "      <td>7</td>\n",
                            "      <td>1521634660</td>\n",
                            "      <td>True</td>\n",
                            "      <td>0.0</td>\n",
                            "      <td>0.0</td>\n",
                            "      <td>1</td>\n",
                            "      <td>1</td>\n",
                            "      <td>0</td>\n",
                            "      <td>1</td>\n",
                            "      <td>1</td>\n",
                            "      <td>False</td>\n",
                            "    </tr>\n",
                            "  </tbody>\n",
                            "</table>\n",
                            "</div>"
                        ]
                    },
                    "metadata": {},
                    "execution_count": 1
                }
            ],
            "metadata": {}
        },
        {
            "cell_type": "markdown",
            "source": [
                "Первый вопрос: можем ли мы, отслеживая поведение студентов за первые n дней, предсказать, что он пройдёт курс до конца или дропнется."
            ],
            "metadata": {}
        },
        {
            "cell_type": "code",
            "execution_count": 2,
            "source": [
                "users_data[users_data.passed_course].day.median()\r\n",
                "users_data[users_data.passed_course].day.hist()"
            ],
            "outputs": [
                {
                    "output_type": "execute_result",
                    "data": {
                        "text/plain": [
                            "<AxesSubplot:>"
                        ]
                    },
                    "metadata": {},
                    "execution_count": 2
                },
                {
                    "output_type": "display_data",
                    "data": {
                        "text/plain": [
                            "<Figure size 432x288 with 1 Axes>"
                        ],
                        "image/png": "[encoded data removed]"
                    },
                    "metadata": {
                        "needs_background": "light"
                    }
                }
            ],
            "metadata": {}
        },
        {
            "cell_type": "markdown",
            "source": [
                "Пусть n=3"
            ],
            "metadata": {}
        },
        {
            "cell_type": "markdown",
            "source": [
                "Отберём данные для обучения, события, которые произошли в течение первых 3-х дней"
            ],
            "metadata": {}
        },
        {
            "cell_type": "code",
            "execution_count": 3,
            "source": [
                "user_min_time = events_data.groupby('user_id', as_index=False).agg({'timestamp': 'min'}).rename({'timestamp': 'min_timestamp'}, axis=1)\r\n",
                "user_min_time.head()"
            ],
            "outputs": [
                {
                    "output_type": "execute_result",
                    "data": {
                        "text/plain": [
                            "   user_id  min_timestamp\n",
                            "0        1     1472827464\n",
                            "1        2     1514383364\n",
                            "2        3     1434358476\n",
                            "3        5     1466156809\n",
                            "4        7     1521634660"
                        ],
                        "text/html": [
                            "<div>\n",
                            "<style scoped>\n",
                            "    .dataframe tbody tr th:only-of-type {\n",
                            "        vertical-align: middle;\n",
                            "    }\n",
                            "\n",
                            "    .dataframe tbody tr th {\n",
                            "        vertical-align: top;\n",
                            "    }\n",
                            "\n",
                            "    .dataframe thead th {\n",
                            "        text-align: right;\n",
                            "    }\n",
                            "</style>\n",
                            "<table border=\"1\" class=\"dataframe\">\n",
                            "  <thead>\n",
                            "    <tr style=\"text-align: right;\">\n",
                            "      <th></th>\n",
                            "      <th>user_id</th>\n",
                            "      <th>min_timestamp</th>\n",
                            "    </tr>\n",
                            "  </thead>\n",
                            "  <tbody>\n",
                            "    <tr>\n",
                            "      <th>0</th>\n",
                            "      <td>1</td>\n",
                            "      <td>1472827464</td>\n",
                            "    </tr>\n",
                            "    <tr>\n",
                            "      <th>1</th>\n",
                            "      <td>2</td>\n",
                            "      <td>1514383364</td>\n",
                            "    </tr>\n",
                            "    <tr>\n",
                            "      <th>2</th>\n",
                            "      <td>3</td>\n",
                            "      <td>1434358476</td>\n",
                            "    </tr>\n",
                            "    <tr>\n",
                            "      <th>3</th>\n",
                            "      <td>5</td>\n",
                            "      <td>1466156809</td>\n",
                            "    </tr>\n",
                            "    <tr>\n",
                            "      <th>4</th>\n",
                            "      <td>7</td>\n",
                            "      <td>1521634660</td>\n",
                            "    </tr>\n",
                            "  </tbody>\n",
                            "</table>\n",
                            "</div>"
                        ]
                    },
                    "metadata": {},
                    "execution_count": 3
                }
            ],
            "metadata": {}
        },
        {
            "cell_type": "code",
            "execution_count": 4,
            "source": [
                "users_data = users_data.merge(user_min_time, how='outer')"
            ],
            "outputs": [],
            "metadata": {}
        },
        {
            "cell_type": "markdown",
            "source": [
                "Для каждого пользователя отберём события от начала до порогового значения n"
            ],
            "metadata": {}
        },
        {
            "cell_type": "code",
            "execution_count": 5,
            "source": [
                "events_data['user_time'] = events_data.timestamp\r\n",
                "events_data.head()"
            ],
            "outputs": [
                {
                    "output_type": "execute_result",
                    "data": {
                        "text/plain": [
                            "   step_id   timestamp      action  user_id                date         day  \\\n",
                            "0    32815  1434340848      viewed    17632 2015-06-15 04:00:48  2015-06-15   \n",
                            "1    32815  1434340848      passed    17632 2015-06-15 04:00:48  2015-06-15   \n",
                            "2    32815  1434340848  discovered    17632 2015-06-15 04:00:48  2015-06-15   \n",
                            "3    32811  1434340895  discovered    17632 2015-06-15 04:01:35  2015-06-15   \n",
                            "4    32811  1434340895      viewed    17632 2015-06-15 04:01:35  2015-06-15   \n",
                            "\n",
                            "    user_time  \n",
                            "0  1434340848  \n",
                            "1  1434340848  \n",
                            "2  1434340848  \n",
                            "3  1434340895  \n",
                            "4  1434340895  "
                        ],
                        "text/html": [
                            "<div>\n",
                            "<style scoped>\n",
                            "    .dataframe tbody tr th:only-of-type {\n",
                            "        vertical-align: middle;\n",
                            "    }\n",
                            "\n",
                            "    .dataframe tbody tr th {\n",
                            "        vertical-align: top;\n",
                            "    }\n",
                            "\n",
                            "    .dataframe thead th {\n",
                            "        text-align: right;\n",
                            "    }\n",
                            "</style>\n",
                            "<table border=\"1\" class=\"dataframe\">\n",
                            "  <thead>\n",
                            "    <tr style=\"text-align: right;\">\n",
                            "      <th></th>\n",
                            "      <th>step_id</th>\n",
                            "      <th>timestamp</th>\n",
                            "      <th>action</th>\n",
                            "      <th>user_id</th>\n",
                            "      <th>date</th>\n",
                            "      <th>day</th>\n",
                            "      <th>user_time</th>\n",
                            "    </tr>\n",
                            "  </thead>\n",
                            "  <tbody>\n",
                            "    <tr>\n",
                            "      <th>0</th>\n",
                            "      <td>32815</td>\n",
                            "      <td>1434340848</td>\n",
                            "      <td>viewed</td>\n",
                            "      <td>17632</td>\n",
                            "      <td>2015-06-15 04:00:48</td>\n",
                            "      <td>2015-06-15</td>\n",
                            "      <td>1434340848</td>\n",
                            "    </tr>\n",
                            "    <tr>\n",
                            "      <th>1</th>\n",
                            "      <td>32815</td>\n",
                            "      <td>1434340848</td>\n",
                            "      <td>passed</td>\n",
                            "      <td>17632</td>\n",
                            "      <td>2015-06-15 04:00:48</td>\n",
                            "      <td>2015-06-15</td>\n",
                            "      <td>1434340848</td>\n",
                            "    </tr>\n",
                            "    <tr>\n",
                            "      <th>2</th>\n",
                            "      <td>32815</td>\n",
                            "      <td>1434340848</td>\n",
                            "      <td>discovered</td>\n",
                            "      <td>17632</td>\n",
                            "      <td>2015-06-15 04:00:48</td>\n",
                            "      <td>2015-06-15</td>\n",
                            "      <td>1434340848</td>\n",
                            "    </tr>\n",
                            "    <tr>\n",
                            "      <th>3</th>\n",
                            "      <td>32811</td>\n",
                            "      <td>1434340895</td>\n",
                            "      <td>discovered</td>\n",
                            "      <td>17632</td>\n",
                            "      <td>2015-06-15 04:01:35</td>\n",
                            "      <td>2015-06-15</td>\n",
                            "      <td>1434340895</td>\n",
                            "    </tr>\n",
                            "    <tr>\n",
                            "      <th>4</th>\n",
                            "      <td>32811</td>\n",
                            "      <td>1434340895</td>\n",
                            "      <td>viewed</td>\n",
                            "      <td>17632</td>\n",
                            "      <td>2015-06-15 04:01:35</td>\n",
                            "      <td>2015-06-15</td>\n",
                            "      <td>1434340895</td>\n",
                            "    </tr>\n",
                            "  </tbody>\n",
                            "</table>\n",
                            "</div>"
                        ]
                    },
                    "metadata": {},
                    "execution_count": 5
                }
            ],
            "metadata": {}
        },
        {
            "cell_type": "code",
            "execution_count": 6,
            "source": [
                "LEARNING_TIME_THRESHOLD = 3 * 24 * 60 * 60"
            ],
            "outputs": [],
            "metadata": {}
        },
        {
            "cell_type": "code",
            "execution_count": 7,
            "source": [
                "user_learning_time_threshold = user_min_time.min_timestamp + LEARNING_TIME_THRESHOLD\r\n",
                "user_learning_time_threshold.head()"
            ],
            "outputs": [
                {
                    "output_type": "execute_result",
                    "data": {
                        "text/plain": [
                            "0    1473086664\n",
                            "1    1514642564\n",
                            "2    1434617676\n",
                            "3    1466416009\n",
                            "4    1521893860\n",
                            "Name: min_timestamp, dtype: int64"
                        ]
                    },
                    "metadata": {},
                    "execution_count": 7
                }
            ],
            "metadata": {}
        },
        {
            "cell_type": "code",
            "execution_count": 8,
            "source": [
                "user_min_time['user_learning_time_threshold'] = user_learning_time_threshold\r\n",
                "events_data = events_data.merge(user_min_time[['user_id', 'user_learning_time_threshold']], how='outer')\r\n",
                "events_data.head()"
            ],
            "outputs": [
                {
                    "output_type": "execute_result",
                    "data": {
                        "text/plain": [
                            "   step_id   timestamp      action  user_id                date         day  \\\n",
                            "0    32815  1434340848      viewed    17632 2015-06-15 04:00:48  2015-06-15   \n",
                            "1    32815  1434340848      passed    17632 2015-06-15 04:00:48  2015-06-15   \n",
                            "2    32815  1434340848  discovered    17632 2015-06-15 04:00:48  2015-06-15   \n",
                            "3    32811  1434340895  discovered    17632 2015-06-15 04:01:35  2015-06-15   \n",
                            "4    32811  1434340895      viewed    17632 2015-06-15 04:01:35  2015-06-15   \n",
                            "\n",
                            "    user_time  user_learning_time_threshold  \n",
                            "0  1434340848                    1434600048  \n",
                            "1  1434340848                    1434600048  \n",
                            "2  1434340848                    1434600048  \n",
                            "3  1434340895                    1434600048  \n",
                            "4  1434340895                    1434600048  "
                        ],
                        "text/html": [
                            "<div>\n",
                            "<style scoped>\n",
                            "    .dataframe tbody tr th:only-of-type {\n",
                            "        vertical-align: middle;\n",
                            "    }\n",
                            "\n",
                            "    .dataframe tbody tr th {\n",
                            "        vertical-align: top;\n",
                            "    }\n",
                            "\n",
                            "    .dataframe thead th {\n",
                            "        text-align: right;\n",
                            "    }\n",
                            "</style>\n",
                            "<table border=\"1\" class=\"dataframe\">\n",
                            "  <thead>\n",
                            "    <tr style=\"text-align: right;\">\n",
                            "      <th></th>\n",
                            "      <th>step_id</th>\n",
                            "      <th>timestamp</th>\n",
                            "      <th>action</th>\n",
                            "      <th>user_id</th>\n",
                            "      <th>date</th>\n",
                            "      <th>day</th>\n",
                            "      <th>user_time</th>\n",
                            "      <th>user_learning_time_threshold</th>\n",
                            "    </tr>\n",
                            "  </thead>\n",
                            "  <tbody>\n",
                            "    <tr>\n",
                            "      <th>0</th>\n",
                            "      <td>32815</td>\n",
                            "      <td>1434340848</td>\n",
                            "      <td>viewed</td>\n",
                            "      <td>17632</td>\n",
                            "      <td>2015-06-15 04:00:48</td>\n",
                            "      <td>2015-06-15</td>\n",
                            "      <td>1434340848</td>\n",
                            "      <td>1434600048</td>\n",
                            "    </tr>\n",
                            "    <tr>\n",
                            "      <th>1</th>\n",
                            "      <td>32815</td>\n",
                            "      <td>1434340848</td>\n",
                            "      <td>passed</td>\n",
                            "      <td>17632</td>\n",
                            "      <td>2015-06-15 04:00:48</td>\n",
                            "      <td>2015-06-15</td>\n",
                            "      <td>1434340848</td>\n",
                            "      <td>1434600048</td>\n",
                            "    </tr>\n",
                            "    <tr>\n",
                            "      <th>2</th>\n",
                            "      <td>32815</td>\n",
                            "      <td>1434340848</td>\n",
                            "      <td>discovered</td>\n",
                            "      <td>17632</td>\n",
                            "      <td>2015-06-15 04:00:48</td>\n",
                            "      <td>2015-06-15</td>\n",
                            "      <td>1434340848</td>\n",
                            "      <td>1434600048</td>\n",
                            "    </tr>\n",
                            "    <tr>\n",
                            "      <th>3</th>\n",
                            "      <td>32811</td>\n",
                            "      <td>1434340895</td>\n",
                            "      <td>discovered</td>\n",
                            "      <td>17632</td>\n",
                            "      <td>2015-06-15 04:01:35</td>\n",
                            "      <td>2015-06-15</td>\n",
                            "      <td>1434340895</td>\n",
                            "      <td>1434600048</td>\n",
                            "    </tr>\n",
                            "    <tr>\n",
                            "      <th>4</th>\n",
                            "      <td>32811</td>\n",
                            "      <td>1434340895</td>\n",
                            "      <td>viewed</td>\n",
                            "      <td>17632</td>\n",
                            "      <td>2015-06-15 04:01:35</td>\n",
                            "      <td>2015-06-15</td>\n",
                            "      <td>1434340895</td>\n",
                            "      <td>1434600048</td>\n",
                            "    </tr>\n",
                            "  </tbody>\n",
                            "</table>\n",
                            "</div>"
                        ]
                    },
                    "metadata": {},
                    "execution_count": 8
                }
            ],
            "metadata": {}
        },
        {
            "cell_type": "markdown",
            "source": [
                "Отберём нужные нам события"
            ],
            "metadata": {}
        },
        {
            "cell_type": "code",
            "execution_count": 9,
            "source": [
                "events_data_train = events_data[events_data.user_time <= events_data.user_learning_time_threshold]\r\n",
                "events_data_train.head()"
            ],
            "outputs": [
                {
                    "output_type": "execute_result",
                    "data": {
                        "text/plain": [
                            "   step_id   timestamp      action  user_id                date         day  \\\n",
                            "0    32815  1434340848      viewed    17632 2015-06-15 04:00:48  2015-06-15   \n",
                            "1    32815  1434340848      passed    17632 2015-06-15 04:00:48  2015-06-15   \n",
                            "2    32815  1434340848  discovered    17632 2015-06-15 04:00:48  2015-06-15   \n",
                            "3    32811  1434340895  discovered    17632 2015-06-15 04:01:35  2015-06-15   \n",
                            "4    32811  1434340895      viewed    17632 2015-06-15 04:01:35  2015-06-15   \n",
                            "\n",
                            "    user_time  user_learning_time_threshold  \n",
                            "0  1434340848                    1434600048  \n",
                            "1  1434340848                    1434600048  \n",
                            "2  1434340848                    1434600048  \n",
                            "3  1434340895                    1434600048  \n",
                            "4  1434340895                    1434600048  "
                        ],
                        "text/html": [
                            "<div>\n",
                            "<style scoped>\n",
                            "    .dataframe tbody tr th:only-of-type {\n",
                            "        vertical-align: middle;\n",
                            "    }\n",
                            "\n",
                            "    .dataframe tbody tr th {\n",
                            "        vertical-align: top;\n",
                            "    }\n",
                            "\n",
                            "    .dataframe thead th {\n",
                            "        text-align: right;\n",
                            "    }\n",
                            "</style>\n",
                            "<table border=\"1\" class=\"dataframe\">\n",
                            "  <thead>\n",
                            "    <tr style=\"text-align: right;\">\n",
                            "      <th></th>\n",
                            "      <th>step_id</th>\n",
                            "      <th>timestamp</th>\n",
                            "      <th>action</th>\n",
                            "      <th>user_id</th>\n",
                            "      <th>date</th>\n",
                            "      <th>day</th>\n",
                            "      <th>user_time</th>\n",
                            "      <th>user_learning_time_threshold</th>\n",
                            "    </tr>\n",
                            "  </thead>\n",
                            "  <tbody>\n",
                            "    <tr>\n",
                            "      <th>0</th>\n",
                            "      <td>32815</td>\n",
                            "      <td>1434340848</td>\n",
                            "      <td>viewed</td>\n",
                            "      <td>17632</td>\n",
                            "      <td>2015-06-15 04:00:48</td>\n",
                            "      <td>2015-06-15</td>\n",
                            "      <td>1434340848</td>\n",
                            "      <td>1434600048</td>\n",
                            "    </tr>\n",
                            "    <tr>\n",
                            "      <th>1</th>\n",
                            "      <td>32815</td>\n",
                            "      <td>1434340848</td>\n",
                            "      <td>passed</td>\n",
                            "      <td>17632</td>\n",
                            "      <td>2015-06-15 04:00:48</td>\n",
                            "      <td>2015-06-15</td>\n",
                            "      <td>1434340848</td>\n",
                            "      <td>1434600048</td>\n",
                            "    </tr>\n",
                            "    <tr>\n",
                            "      <th>2</th>\n",
                            "      <td>32815</td>\n",
                            "      <td>1434340848</td>\n",
                            "      <td>discovered</td>\n",
                            "      <td>17632</td>\n",
                            "      <td>2015-06-15 04:00:48</td>\n",
                            "      <td>2015-06-15</td>\n",
                            "      <td>1434340848</td>\n",
                            "      <td>1434600048</td>\n",
                            "    </tr>\n",
                            "    <tr>\n",
                            "      <th>3</th>\n",
                            "      <td>32811</td>\n",
                            "      <td>1434340895</td>\n",
                            "      <td>discovered</td>\n",
                            "      <td>17632</td>\n",
                            "      <td>2015-06-15 04:01:35</td>\n",
                            "      <td>2015-06-15</td>\n",
                            "      <td>1434340895</td>\n",
                            "      <td>1434600048</td>\n",
                            "    </tr>\n",
                            "    <tr>\n",
                            "      <th>4</th>\n",
                            "      <td>32811</td>\n",
                            "      <td>1434340895</td>\n",
                            "      <td>viewed</td>\n",
                            "      <td>17632</td>\n",
                            "      <td>2015-06-15 04:01:35</td>\n",
                            "      <td>2015-06-15</td>\n",
                            "      <td>1434340895</td>\n",
                            "      <td>1434600048</td>\n",
                            "    </tr>\n",
                            "  </tbody>\n",
                            "</table>\n",
                            "</div>"
                        ]
                    },
                    "metadata": {},
                    "execution_count": 9
                }
            ],
            "metadata": {}
        },
        {
            "cell_type": "markdown",
            "source": [
                "---\r\n",
                "### Задание\r\n",
                "Используя данные о сабмитах найти степ, на котором отваливается максимальное количество студентов."
            ],
            "metadata": {}
        },
        {
            "cell_type": "code",
            "execution_count": 10,
            "source": [
                "submissions_data = pd.read_pickle('./data/submissions_data.pkl')\r\n",
                "submissions_data.head()"
            ],
            "outputs": [
                {
                    "output_type": "execute_result",
                    "data": {
                        "text/plain": [
                            "   step_id   timestamp submission_status  user_id                date  \\\n",
                            "0    31971  1434349275           correct    15853 2015-06-15 06:21:15   \n",
                            "1    31972  1434348300           correct    15853 2015-06-15 06:05:00   \n",
                            "2    31972  1478852149             wrong    15853 2016-11-11 08:15:49   \n",
                            "3    31972  1478852164           correct    15853 2016-11-11 08:16:04   \n",
                            "4    31976  1434348123             wrong    15853 2015-06-15 06:02:03   \n",
                            "\n",
                            "          day  \n",
                            "0  2015-06-15  \n",
                            "1  2015-06-15  \n",
                            "2  2016-11-11  \n",
                            "3  2016-11-11  \n",
                            "4  2015-06-15  "
                        ],
                        "text/html": [
                            "<div>\n",
                            "<style scoped>\n",
                            "    .dataframe tbody tr th:only-of-type {\n",
                            "        vertical-align: middle;\n",
                            "    }\n",
                            "\n",
                            "    .dataframe tbody tr th {\n",
                            "        vertical-align: top;\n",
                            "    }\n",
                            "\n",
                            "    .dataframe thead th {\n",
                            "        text-align: right;\n",
                            "    }\n",
                            "</style>\n",
                            "<table border=\"1\" class=\"dataframe\">\n",
                            "  <thead>\n",
                            "    <tr style=\"text-align: right;\">\n",
                            "      <th></th>\n",
                            "      <th>step_id</th>\n",
                            "      <th>timestamp</th>\n",
                            "      <th>submission_status</th>\n",
                            "      <th>user_id</th>\n",
                            "      <th>date</th>\n",
                            "      <th>day</th>\n",
                            "    </tr>\n",
                            "  </thead>\n",
                            "  <tbody>\n",
                            "    <tr>\n",
                            "      <th>0</th>\n",
                            "      <td>31971</td>\n",
                            "      <td>1434349275</td>\n",
                            "      <td>correct</td>\n",
                            "      <td>15853</td>\n",
                            "      <td>2015-06-15 06:21:15</td>\n",
                            "      <td>2015-06-15</td>\n",
                            "    </tr>\n",
                            "    <tr>\n",
                            "      <th>1</th>\n",
                            "      <td>31972</td>\n",
                            "      <td>1434348300</td>\n",
                            "      <td>correct</td>\n",
                            "      <td>15853</td>\n",
                            "      <td>2015-06-15 06:05:00</td>\n",
                            "      <td>2015-06-15</td>\n",
                            "    </tr>\n",
                            "    <tr>\n",
                            "      <th>2</th>\n",
                            "      <td>31972</td>\n",
                            "      <td>1478852149</td>\n",
                            "      <td>wrong</td>\n",
                            "      <td>15853</td>\n",
                            "      <td>2016-11-11 08:15:49</td>\n",
                            "      <td>2016-11-11</td>\n",
                            "    </tr>\n",
                            "    <tr>\n",
                            "      <th>3</th>\n",
                            "      <td>31972</td>\n",
                            "      <td>1478852164</td>\n",
                            "      <td>correct</td>\n",
                            "      <td>15853</td>\n",
                            "      <td>2016-11-11 08:16:04</td>\n",
                            "      <td>2016-11-11</td>\n",
                            "    </tr>\n",
                            "    <tr>\n",
                            "      <th>4</th>\n",
                            "      <td>31976</td>\n",
                            "      <td>1434348123</td>\n",
                            "      <td>wrong</td>\n",
                            "      <td>15853</td>\n",
                            "      <td>2015-06-15 06:02:03</td>\n",
                            "      <td>2015-06-15</td>\n",
                            "    </tr>\n",
                            "  </tbody>\n",
                            "</table>\n",
                            "</div>"
                        ]
                    },
                    "metadata": {},
                    "execution_count": 10
                }
            ],
            "metadata": {}
        },
        {
            "cell_type": "markdown",
            "source": [
                "Сначала скруппируем данные по id пользователя и выведем последние события пользователей"
            ],
            "metadata": {}
        },
        {
            "cell_type": "code",
            "execution_count": 11,
            "source": [
                "test_data = submissions_data.groupby(['user_id'], as_index=False).agg({'timestamp': 'max'}).merge(submissions_data, on=['user_id', 'timestamp'], how='left')\r\n",
                "test_data.head()"
            ],
            "outputs": [
                {
                    "output_type": "execute_result",
                    "data": {
                        "text/plain": [
                            "   user_id   timestamp  step_id submission_status                date  \\\n",
                            "0        2  1514383485    32812           correct 2017-12-27 14:04:45   \n",
                            "1        3  1444573728    33538           correct 2015-10-11 14:28:48   \n",
                            "2        5  1499859730    32812           correct 2017-07-12 11:42:10   \n",
                            "3        8  1480604143    33332           correct 2016-12-01 14:55:43   \n",
                            "4       14  1436368601    33983             wrong 2015-07-08 15:16:41   \n",
                            "\n",
                            "          day  \n",
                            "0  2017-12-27  \n",
                            "1  2015-10-11  \n",
                            "2  2017-07-12  \n",
                            "3  2016-12-01  \n",
                            "4  2015-07-08  "
                        ],
                        "text/html": [
                            "<div>\n",
                            "<style scoped>\n",
                            "    .dataframe tbody tr th:only-of-type {\n",
                            "        vertical-align: middle;\n",
                            "    }\n",
                            "\n",
                            "    .dataframe tbody tr th {\n",
                            "        vertical-align: top;\n",
                            "    }\n",
                            "\n",
                            "    .dataframe thead th {\n",
                            "        text-align: right;\n",
                            "    }\n",
                            "</style>\n",
                            "<table border=\"1\" class=\"dataframe\">\n",
                            "  <thead>\n",
                            "    <tr style=\"text-align: right;\">\n",
                            "      <th></th>\n",
                            "      <th>user_id</th>\n",
                            "      <th>timestamp</th>\n",
                            "      <th>step_id</th>\n",
                            "      <th>submission_status</th>\n",
                            "      <th>date</th>\n",
                            "      <th>day</th>\n",
                            "    </tr>\n",
                            "  </thead>\n",
                            "  <tbody>\n",
                            "    <tr>\n",
                            "      <th>0</th>\n",
                            "      <td>2</td>\n",
                            "      <td>1514383485</td>\n",
                            "      <td>32812</td>\n",
                            "      <td>correct</td>\n",
                            "      <td>2017-12-27 14:04:45</td>\n",
                            "      <td>2017-12-27</td>\n",
                            "    </tr>\n",
                            "    <tr>\n",
                            "      <th>1</th>\n",
                            "      <td>3</td>\n",
                            "      <td>1444573728</td>\n",
                            "      <td>33538</td>\n",
                            "      <td>correct</td>\n",
                            "      <td>2015-10-11 14:28:48</td>\n",
                            "      <td>2015-10-11</td>\n",
                            "    </tr>\n",
                            "    <tr>\n",
                            "      <th>2</th>\n",
                            "      <td>5</td>\n",
                            "      <td>1499859730</td>\n",
                            "      <td>32812</td>\n",
                            "      <td>correct</td>\n",
                            "      <td>2017-07-12 11:42:10</td>\n",
                            "      <td>2017-07-12</td>\n",
                            "    </tr>\n",
                            "    <tr>\n",
                            "      <th>3</th>\n",
                            "      <td>8</td>\n",
                            "      <td>1480604143</td>\n",
                            "      <td>33332</td>\n",
                            "      <td>correct</td>\n",
                            "      <td>2016-12-01 14:55:43</td>\n",
                            "      <td>2016-12-01</td>\n",
                            "    </tr>\n",
                            "    <tr>\n",
                            "      <th>4</th>\n",
                            "      <td>14</td>\n",
                            "      <td>1436368601</td>\n",
                            "      <td>33983</td>\n",
                            "      <td>wrong</td>\n",
                            "      <td>2015-07-08 15:16:41</td>\n",
                            "      <td>2015-07-08</td>\n",
                            "    </tr>\n",
                            "  </tbody>\n",
                            "</table>\n",
                            "</div>"
                        ]
                    },
                    "metadata": {},
                    "execution_count": 11
                }
            ],
            "metadata": {}
        },
        {
            "cell_type": "markdown",
            "source": [
                "Отберём события по невыполненому статусу"
            ],
            "metadata": {}
        },
        {
            "cell_type": "code",
            "execution_count": 12,
            "source": [
                "test_data = test_data[test_data['submission_status'] == 'wrong']\r\n",
                "test_data.head()"
            ],
            "outputs": [
                {
                    "output_type": "execute_result",
                    "data": {
                        "text/plain": [
                            "    user_id   timestamp  step_id submission_status                date  \\\n",
                            "4        14  1436368601    33983             wrong 2015-07-08 15:16:41   \n",
                            "6        17  1465764761    32031             wrong 2016-06-12 20:52:41   \n",
                            "8        25  1524736541    32812             wrong 2018-04-26 09:55:41   \n",
                            "11       31  1485685730    31976             wrong 2017-01-29 10:28:50   \n",
                            "13       34  1505076405    33669             wrong 2017-09-10 20:46:45   \n",
                            "\n",
                            "           day  \n",
                            "4   2015-07-08  \n",
                            "6   2016-06-12  \n",
                            "8   2018-04-26  \n",
                            "11  2017-01-29  \n",
                            "13  2017-09-10  "
                        ],
                        "text/html": [
                            "<div>\n",
                            "<style scoped>\n",
                            "    .dataframe tbody tr th:only-of-type {\n",
                            "        vertical-align: middle;\n",
                            "    }\n",
                            "\n",
                            "    .dataframe tbody tr th {\n",
                            "        vertical-align: top;\n",
                            "    }\n",
                            "\n",
                            "    .dataframe thead th {\n",
                            "        text-align: right;\n",
                            "    }\n",
                            "</style>\n",
                            "<table border=\"1\" class=\"dataframe\">\n",
                            "  <thead>\n",
                            "    <tr style=\"text-align: right;\">\n",
                            "      <th></th>\n",
                            "      <th>user_id</th>\n",
                            "      <th>timestamp</th>\n",
                            "      <th>step_id</th>\n",
                            "      <th>submission_status</th>\n",
                            "      <th>date</th>\n",
                            "      <th>day</th>\n",
                            "    </tr>\n",
                            "  </thead>\n",
                            "  <tbody>\n",
                            "    <tr>\n",
                            "      <th>4</th>\n",
                            "      <td>14</td>\n",
                            "      <td>1436368601</td>\n",
                            "      <td>33983</td>\n",
                            "      <td>wrong</td>\n",
                            "      <td>2015-07-08 15:16:41</td>\n",
                            "      <td>2015-07-08</td>\n",
                            "    </tr>\n",
                            "    <tr>\n",
                            "      <th>6</th>\n",
                            "      <td>17</td>\n",
                            "      <td>1465764761</td>\n",
                            "      <td>32031</td>\n",
                            "      <td>wrong</td>\n",
                            "      <td>2016-06-12 20:52:41</td>\n",
                            "      <td>2016-06-12</td>\n",
                            "    </tr>\n",
                            "    <tr>\n",
                            "      <th>8</th>\n",
                            "      <td>25</td>\n",
                            "      <td>1524736541</td>\n",
                            "      <td>32812</td>\n",
                            "      <td>wrong</td>\n",
                            "      <td>2018-04-26 09:55:41</td>\n",
                            "      <td>2018-04-26</td>\n",
                            "    </tr>\n",
                            "    <tr>\n",
                            "      <th>11</th>\n",
                            "      <td>31</td>\n",
                            "      <td>1485685730</td>\n",
                            "      <td>31976</td>\n",
                            "      <td>wrong</td>\n",
                            "      <td>2017-01-29 10:28:50</td>\n",
                            "      <td>2017-01-29</td>\n",
                            "    </tr>\n",
                            "    <tr>\n",
                            "      <th>13</th>\n",
                            "      <td>34</td>\n",
                            "      <td>1505076405</td>\n",
                            "      <td>33669</td>\n",
                            "      <td>wrong</td>\n",
                            "      <td>2017-09-10 20:46:45</td>\n",
                            "      <td>2017-09-10</td>\n",
                            "    </tr>\n",
                            "  </tbody>\n",
                            "</table>\n",
                            "</div>"
                        ]
                    },
                    "metadata": {},
                    "execution_count": 12
                }
            ],
            "metadata": {}
        },
        {
            "cell_type": "markdown",
            "source": [
                "Посчитаем количество пользователей для каждого степа"
            ],
            "metadata": {}
        },
        {
            "cell_type": "code",
            "execution_count": 13,
            "source": [
                "test_data.groupby(['step_id'], as_index=False).agg({'user_id': 'count'}).sort_values(by='user_id', ascending=False).head(1)"
            ],
            "outputs": [
                {
                    "output_type": "execute_result",
                    "data": {
                        "text/plain": [
                            "   step_id  user_id\n",
                            "4    31978      154"
                        ],
                        "text/html": [
                            "<div>\n",
                            "<style scoped>\n",
                            "    .dataframe tbody tr th:only-of-type {\n",
                            "        vertical-align: middle;\n",
                            "    }\n",
                            "\n",
                            "    .dataframe tbody tr th {\n",
                            "        vertical-align: top;\n",
                            "    }\n",
                            "\n",
                            "    .dataframe thead th {\n",
                            "        text-align: right;\n",
                            "    }\n",
                            "</style>\n",
                            "<table border=\"1\" class=\"dataframe\">\n",
                            "  <thead>\n",
                            "    <tr style=\"text-align: right;\">\n",
                            "      <th></th>\n",
                            "      <th>step_id</th>\n",
                            "      <th>user_id</th>\n",
                            "    </tr>\n",
                            "  </thead>\n",
                            "  <tbody>\n",
                            "    <tr>\n",
                            "      <th>4</th>\n",
                            "      <td>31978</td>\n",
                            "      <td>154</td>\n",
                            "    </tr>\n",
                            "  </tbody>\n",
                            "</table>\n",
                            "</div>"
                        ]
                    },
                    "metadata": {},
                    "execution_count": 13
                }
            ],
            "metadata": {}
        },
        {
            "cell_type": "markdown",
            "source": [
                "Опробуем эмпирическое правило: степ на котором будет наибольшее число неверных ответов и является искомым"
            ],
            "metadata": {}
        },
        {
            "cell_type": "code",
            "execution_count": 14,
            "source": [
                "submissions_data[submissions_data.submission_status == 'wrong'].groupby('step_id', as_index=False).count().sort_values('submission_status').tail(1)"
            ],
            "outputs": [
                {
                    "output_type": "execute_result",
                    "data": {
                        "text/plain": [
                            "   step_id  timestamp  submission_status  user_id   date    day\n",
                            "4    31978      16084              16084    16084  16084  16084"
                        ],
                        "text/html": [
                            "<div>\n",
                            "<style scoped>\n",
                            "    .dataframe tbody tr th:only-of-type {\n",
                            "        vertical-align: middle;\n",
                            "    }\n",
                            "\n",
                            "    .dataframe tbody tr th {\n",
                            "        vertical-align: top;\n",
                            "    }\n",
                            "\n",
                            "    .dataframe thead th {\n",
                            "        text-align: right;\n",
                            "    }\n",
                            "</style>\n",
                            "<table border=\"1\" class=\"dataframe\">\n",
                            "  <thead>\n",
                            "    <tr style=\"text-align: right;\">\n",
                            "      <th></th>\n",
                            "      <th>step_id</th>\n",
                            "      <th>timestamp</th>\n",
                            "      <th>submission_status</th>\n",
                            "      <th>user_id</th>\n",
                            "      <th>date</th>\n",
                            "      <th>day</th>\n",
                            "    </tr>\n",
                            "  </thead>\n",
                            "  <tbody>\n",
                            "    <tr>\n",
                            "      <th>4</th>\n",
                            "      <td>31978</td>\n",
                            "      <td>16084</td>\n",
                            "      <td>16084</td>\n",
                            "      <td>16084</td>\n",
                            "      <td>16084</td>\n",
                            "      <td>16084</td>\n",
                            "    </tr>\n",
                            "  </tbody>\n",
                            "</table>\n",
                            "</div>"
                        ]
                    },
                    "metadata": {},
                    "execution_count": 14
                }
            ],
            "metadata": {}
        },
        {
            "cell_type": "markdown",
            "source": [
                "---"
            ],
            "metadata": {}
        },
        {
            "cell_type": "markdown",
            "source": [
                "Проверим, что действительно отобрались данные за n дней"
            ],
            "metadata": {}
        },
        {
            "cell_type": "code",
            "execution_count": 15,
            "source": [
                "events_data_train.groupby('user_id').day.nunique().max()"
            ],
            "outputs": [
                {
                    "output_type": "execute_result",
                    "data": {
                        "text/plain": [
                            "4"
                        ]
                    },
                    "metadata": {},
                    "execution_count": 15
                }
            ],
            "metadata": {}
        },
        {
            "cell_type": "markdown",
            "source": [
                "Проделаем то же самое с данными submissions_data"
            ],
            "metadata": {}
        },
        {
            "cell_type": "code",
            "execution_count": 16,
            "source": [
                "submissions_data['user_time'] = submissions_data.timestamp\r\n",
                "submissions_data = submissions_data.merge(user_min_time[['user_id', 'user_learning_time_threshold']], how='outer')\r\n",
                "submissions_data_train = submissions_data[submissions_data.user_time <= submissions_data.user_learning_time_threshold]\r\n",
                "submissions_data_train.groupby('user_id').day.nunique().max()"
            ],
            "outputs": [
                {
                    "output_type": "execute_result",
                    "data": {
                        "text/plain": [
                            "4"
                        ]
                    },
                    "metadata": {},
                    "execution_count": 16
                }
            ],
            "metadata": {}
        },
        {
            "cell_type": "markdown",
            "source": [
                "Финализируем данные для модели МО"
            ],
            "metadata": {}
        },
        {
            "cell_type": "code",
            "execution_count": 17,
            "source": [
                "X = submissions_data_train.groupby('user_id').day.nunique().to_frame().reset_index().rename(columns={'day': 'days'})\r\n",
                "X.head()"
            ],
            "outputs": [
                {
                    "output_type": "execute_result",
                    "data": {
                        "text/plain": [
                            "   user_id  days\n",
                            "0        2     1\n",
                            "1        3     1\n",
                            "2        8     1\n",
                            "3       14     1\n",
                            "4       16     3"
                        ],
                        "text/html": [
                            "<div>\n",
                            "<style scoped>\n",
                            "    .dataframe tbody tr th:only-of-type {\n",
                            "        vertical-align: middle;\n",
                            "    }\n",
                            "\n",
                            "    .dataframe tbody tr th {\n",
                            "        vertical-align: top;\n",
                            "    }\n",
                            "\n",
                            "    .dataframe thead th {\n",
                            "        text-align: right;\n",
                            "    }\n",
                            "</style>\n",
                            "<table border=\"1\" class=\"dataframe\">\n",
                            "  <thead>\n",
                            "    <tr style=\"text-align: right;\">\n",
                            "      <th></th>\n",
                            "      <th>user_id</th>\n",
                            "      <th>days</th>\n",
                            "    </tr>\n",
                            "  </thead>\n",
                            "  <tbody>\n",
                            "    <tr>\n",
                            "      <th>0</th>\n",
                            "      <td>2</td>\n",
                            "      <td>1</td>\n",
                            "    </tr>\n",
                            "    <tr>\n",
                            "      <th>1</th>\n",
                            "      <td>3</td>\n",
                            "      <td>1</td>\n",
                            "    </tr>\n",
                            "    <tr>\n",
                            "      <th>2</th>\n",
                            "      <td>8</td>\n",
                            "      <td>1</td>\n",
                            "    </tr>\n",
                            "    <tr>\n",
                            "      <th>3</th>\n",
                            "      <td>14</td>\n",
                            "      <td>1</td>\n",
                            "    </tr>\n",
                            "    <tr>\n",
                            "      <th>4</th>\n",
                            "      <td>16</td>\n",
                            "      <td>3</td>\n",
                            "    </tr>\n",
                            "  </tbody>\n",
                            "</table>\n",
                            "</div>"
                        ]
                    },
                    "metadata": {},
                    "execution_count": 17
                }
            ],
            "metadata": {}
        },
        {
            "cell_type": "markdown",
            "source": [
                "Вычислим, сколько степов пытался решить каждый пользователь"
            ],
            "metadata": {}
        },
        {
            "cell_type": "code",
            "execution_count": 18,
            "source": [
                "step_tried = submissions_data_train.groupby('user_id').step_id.nunique().to_frame().reset_index().rename(columns={'step_id': 'steps_tried'})\r\n",
                "step_tried.head()"
            ],
            "outputs": [
                {
                    "output_type": "execute_result",
                    "data": {
                        "text/plain": [
                            "   user_id  steps_tried\n",
                            "0        2            2\n",
                            "1        3            4\n",
                            "2        8           11\n",
                            "3       14            1\n",
                            "4       16           23"
                        ],
                        "text/html": [
                            "<div>\n",
                            "<style scoped>\n",
                            "    .dataframe tbody tr th:only-of-type {\n",
                            "        vertical-align: middle;\n",
                            "    }\n",
                            "\n",
                            "    .dataframe tbody tr th {\n",
                            "        vertical-align: top;\n",
                            "    }\n",
                            "\n",
                            "    .dataframe thead th {\n",
                            "        text-align: right;\n",
                            "    }\n",
                            "</style>\n",
                            "<table border=\"1\" class=\"dataframe\">\n",
                            "  <thead>\n",
                            "    <tr style=\"text-align: right;\">\n",
                            "      <th></th>\n",
                            "      <th>user_id</th>\n",
                            "      <th>steps_tried</th>\n",
                            "    </tr>\n",
                            "  </thead>\n",
                            "  <tbody>\n",
                            "    <tr>\n",
                            "      <th>0</th>\n",
                            "      <td>2</td>\n",
                            "      <td>2</td>\n",
                            "    </tr>\n",
                            "    <tr>\n",
                            "      <th>1</th>\n",
                            "      <td>3</td>\n",
                            "      <td>4</td>\n",
                            "    </tr>\n",
                            "    <tr>\n",
                            "      <th>2</th>\n",
                            "      <td>8</td>\n",
                            "      <td>11</td>\n",
                            "    </tr>\n",
                            "    <tr>\n",
                            "      <th>3</th>\n",
                            "      <td>14</td>\n",
                            "      <td>1</td>\n",
                            "    </tr>\n",
                            "    <tr>\n",
                            "      <th>4</th>\n",
                            "      <td>16</td>\n",
                            "      <td>23</td>\n",
                            "    </tr>\n",
                            "  </tbody>\n",
                            "</table>\n",
                            "</div>"
                        ]
                    },
                    "metadata": {},
                    "execution_count": 18
                }
            ],
            "metadata": {}
        },
        {
            "cell_type": "code",
            "execution_count": 19,
            "source": [
                "X = X.merge(step_tried, on='user_id', how='outer')\r\n",
                "X.head()"
            ],
            "outputs": [
                {
                    "output_type": "execute_result",
                    "data": {
                        "text/plain": [
                            "   user_id  days  steps_tried\n",
                            "0        2     1            2\n",
                            "1        3     1            4\n",
                            "2        8     1           11\n",
                            "3       14     1            1\n",
                            "4       16     3           23"
                        ],
                        "text/html": [
                            "<div>\n",
                            "<style scoped>\n",
                            "    .dataframe tbody tr th:only-of-type {\n",
                            "        vertical-align: middle;\n",
                            "    }\n",
                            "\n",
                            "    .dataframe tbody tr th {\n",
                            "        vertical-align: top;\n",
                            "    }\n",
                            "\n",
                            "    .dataframe thead th {\n",
                            "        text-align: right;\n",
                            "    }\n",
                            "</style>\n",
                            "<table border=\"1\" class=\"dataframe\">\n",
                            "  <thead>\n",
                            "    <tr style=\"text-align: right;\">\n",
                            "      <th></th>\n",
                            "      <th>user_id</th>\n",
                            "      <th>days</th>\n",
                            "      <th>steps_tried</th>\n",
                            "    </tr>\n",
                            "  </thead>\n",
                            "  <tbody>\n",
                            "    <tr>\n",
                            "      <th>0</th>\n",
                            "      <td>2</td>\n",
                            "      <td>1</td>\n",
                            "      <td>2</td>\n",
                            "    </tr>\n",
                            "    <tr>\n",
                            "      <th>1</th>\n",
                            "      <td>3</td>\n",
                            "      <td>1</td>\n",
                            "      <td>4</td>\n",
                            "    </tr>\n",
                            "    <tr>\n",
                            "      <th>2</th>\n",
                            "      <td>8</td>\n",
                            "      <td>1</td>\n",
                            "      <td>11</td>\n",
                            "    </tr>\n",
                            "    <tr>\n",
                            "      <th>3</th>\n",
                            "      <td>14</td>\n",
                            "      <td>1</td>\n",
                            "      <td>1</td>\n",
                            "    </tr>\n",
                            "    <tr>\n",
                            "      <th>4</th>\n",
                            "      <td>16</td>\n",
                            "      <td>3</td>\n",
                            "      <td>23</td>\n",
                            "    </tr>\n",
                            "  </tbody>\n",
                            "</table>\n",
                            "</div>"
                        ]
                    },
                    "metadata": {},
                    "execution_count": 19
                }
            ],
            "metadata": {}
        },
        {
            "cell_type": "markdown",
            "source": [
                "Добавим данные о событиях"
            ],
            "metadata": {}
        },
        {
            "cell_type": "code",
            "execution_count": 20,
            "source": [
                "X = X.merge(submissions_data_train.pivot_table(index='user_id', columns='submission_status', values='step_id', aggfunc='count', fill_value=0).reset_index())\r\n",
                "X.head()"
            ],
            "outputs": [
                {
                    "output_type": "execute_result",
                    "data": {
                        "text/plain": [
                            "   user_id  days  steps_tried  correct  wrong\n",
                            "0        2     1            2        2      0\n",
                            "1        3     1            4        4      4\n",
                            "2        8     1           11        9     21\n",
                            "3       14     1            1        0      1\n",
                            "4       16     3           23       23     27"
                        ],
                        "text/html": [
                            "<div>\n",
                            "<style scoped>\n",
                            "    .dataframe tbody tr th:only-of-type {\n",
                            "        vertical-align: middle;\n",
                            "    }\n",
                            "\n",
                            "    .dataframe tbody tr th {\n",
                            "        vertical-align: top;\n",
                            "    }\n",
                            "\n",
                            "    .dataframe thead th {\n",
                            "        text-align: right;\n",
                            "    }\n",
                            "</style>\n",
                            "<table border=\"1\" class=\"dataframe\">\n",
                            "  <thead>\n",
                            "    <tr style=\"text-align: right;\">\n",
                            "      <th></th>\n",
                            "      <th>user_id</th>\n",
                            "      <th>days</th>\n",
                            "      <th>steps_tried</th>\n",
                            "      <th>correct</th>\n",
                            "      <th>wrong</th>\n",
                            "    </tr>\n",
                            "  </thead>\n",
                            "  <tbody>\n",
                            "    <tr>\n",
                            "      <th>0</th>\n",
                            "      <td>2</td>\n",
                            "      <td>1</td>\n",
                            "      <td>2</td>\n",
                            "      <td>2</td>\n",
                            "      <td>0</td>\n",
                            "    </tr>\n",
                            "    <tr>\n",
                            "      <th>1</th>\n",
                            "      <td>3</td>\n",
                            "      <td>1</td>\n",
                            "      <td>4</td>\n",
                            "      <td>4</td>\n",
                            "      <td>4</td>\n",
                            "    </tr>\n",
                            "    <tr>\n",
                            "      <th>2</th>\n",
                            "      <td>8</td>\n",
                            "      <td>1</td>\n",
                            "      <td>11</td>\n",
                            "      <td>9</td>\n",
                            "      <td>21</td>\n",
                            "    </tr>\n",
                            "    <tr>\n",
                            "      <th>3</th>\n",
                            "      <td>14</td>\n",
                            "      <td>1</td>\n",
                            "      <td>1</td>\n",
                            "      <td>0</td>\n",
                            "      <td>1</td>\n",
                            "    </tr>\n",
                            "    <tr>\n",
                            "      <th>4</th>\n",
                            "      <td>16</td>\n",
                            "      <td>3</td>\n",
                            "      <td>23</td>\n",
                            "      <td>23</td>\n",
                            "      <td>27</td>\n",
                            "    </tr>\n",
                            "  </tbody>\n",
                            "</table>\n",
                            "</div>"
                        ]
                    },
                    "metadata": {},
                    "execution_count": 20
                }
            ],
            "metadata": {}
        },
        {
            "cell_type": "code",
            "execution_count": 21,
            "source": [
                "X['correct_ratio'] = X.correct / (X.correct + X.wrong)\r\n",
                "X.head()"
            ],
            "outputs": [
                {
                    "output_type": "execute_result",
                    "data": {
                        "text/plain": [
                            "   user_id  days  steps_tried  correct  wrong  correct_ratio\n",
                            "0        2     1            2        2      0           1.00\n",
                            "1        3     1            4        4      4           0.50\n",
                            "2        8     1           11        9     21           0.30\n",
                            "3       14     1            1        0      1           0.00\n",
                            "4       16     3           23       23     27           0.46"
                        ],
                        "text/html": [
                            "<div>\n",
                            "<style scoped>\n",
                            "    .dataframe tbody tr th:only-of-type {\n",
                            "        vertical-align: middle;\n",
                            "    }\n",
                            "\n",
                            "    .dataframe tbody tr th {\n",
                            "        vertical-align: top;\n",
                            "    }\n",
                            "\n",
                            "    .dataframe thead th {\n",
                            "        text-align: right;\n",
                            "    }\n",
                            "</style>\n",
                            "<table border=\"1\" class=\"dataframe\">\n",
                            "  <thead>\n",
                            "    <tr style=\"text-align: right;\">\n",
                            "      <th></th>\n",
                            "      <th>user_id</th>\n",
                            "      <th>days</th>\n",
                            "      <th>steps_tried</th>\n",
                            "      <th>correct</th>\n",
                            "      <th>wrong</th>\n",
                            "      <th>correct_ratio</th>\n",
                            "    </tr>\n",
                            "  </thead>\n",
                            "  <tbody>\n",
                            "    <tr>\n",
                            "      <th>0</th>\n",
                            "      <td>2</td>\n",
                            "      <td>1</td>\n",
                            "      <td>2</td>\n",
                            "      <td>2</td>\n",
                            "      <td>0</td>\n",
                            "      <td>1.00</td>\n",
                            "    </tr>\n",
                            "    <tr>\n",
                            "      <th>1</th>\n",
                            "      <td>3</td>\n",
                            "      <td>1</td>\n",
                            "      <td>4</td>\n",
                            "      <td>4</td>\n",
                            "      <td>4</td>\n",
                            "      <td>0.50</td>\n",
                            "    </tr>\n",
                            "    <tr>\n",
                            "      <th>2</th>\n",
                            "      <td>8</td>\n",
                            "      <td>1</td>\n",
                            "      <td>11</td>\n",
                            "      <td>9</td>\n",
                            "      <td>21</td>\n",
                            "      <td>0.30</td>\n",
                            "    </tr>\n",
                            "    <tr>\n",
                            "      <th>3</th>\n",
                            "      <td>14</td>\n",
                            "      <td>1</td>\n",
                            "      <td>1</td>\n",
                            "      <td>0</td>\n",
                            "      <td>1</td>\n",
                            "      <td>0.00</td>\n",
                            "    </tr>\n",
                            "    <tr>\n",
                            "      <th>4</th>\n",
                            "      <td>16</td>\n",
                            "      <td>3</td>\n",
                            "      <td>23</td>\n",
                            "      <td>23</td>\n",
                            "      <td>27</td>\n",
                            "      <td>0.46</td>\n",
                            "    </tr>\n",
                            "  </tbody>\n",
                            "</table>\n",
                            "</div>"
                        ]
                    },
                    "metadata": {},
                    "execution_count": 21
                }
            ],
            "metadata": {}
        },
        {
            "cell_type": "markdown",
            "source": [
                "Добавим данные о количестве просмотренных шагов"
            ],
            "metadata": {}
        },
        {
            "cell_type": "code",
            "execution_count": 22,
            "source": [
                "X = X.merge(events_data_train.pivot_table(index='user_id', columns='action', values='step_id', aggfunc='count', fill_value=0).reset_index()[['user_id', 'viewed']], how='outer')\r\n",
                "X.head()"
            ],
            "outputs": [
                {
                    "output_type": "execute_result",
                    "data": {
                        "text/plain": [
                            "   user_id  days  steps_tried  correct  wrong  correct_ratio  viewed\n",
                            "0        2   1.0          2.0      2.0    0.0           1.00       9\n",
                            "1        3   1.0          4.0      4.0    4.0           0.50      20\n",
                            "2        8   1.0         11.0      9.0   21.0           0.30     154\n",
                            "3       14   1.0          1.0      0.0    1.0           0.00       9\n",
                            "4       16   3.0         23.0     23.0   27.0           0.46     132"
                        ],
                        "text/html": [
                            "<div>\n",
                            "<style scoped>\n",
                            "    .dataframe tbody tr th:only-of-type {\n",
                            "        vertical-align: middle;\n",
                            "    }\n",
                            "\n",
                            "    .dataframe tbody tr th {\n",
                            "        vertical-align: top;\n",
                            "    }\n",
                            "\n",
                            "    .dataframe thead th {\n",
                            "        text-align: right;\n",
                            "    }\n",
                            "</style>\n",
                            "<table border=\"1\" class=\"dataframe\">\n",
                            "  <thead>\n",
                            "    <tr style=\"text-align: right;\">\n",
                            "      <th></th>\n",
                            "      <th>user_id</th>\n",
                            "      <th>days</th>\n",
                            "      <th>steps_tried</th>\n",
                            "      <th>correct</th>\n",
                            "      <th>wrong</th>\n",
                            "      <th>correct_ratio</th>\n",
                            "      <th>viewed</th>\n",
                            "    </tr>\n",
                            "  </thead>\n",
                            "  <tbody>\n",
                            "    <tr>\n",
                            "      <th>0</th>\n",
                            "      <td>2</td>\n",
                            "      <td>1.0</td>\n",
                            "      <td>2.0</td>\n",
                            "      <td>2.0</td>\n",
                            "      <td>0.0</td>\n",
                            "      <td>1.00</td>\n",
                            "      <td>9</td>\n",
                            "    </tr>\n",
                            "    <tr>\n",
                            "      <th>1</th>\n",
                            "      <td>3</td>\n",
                            "      <td>1.0</td>\n",
                            "      <td>4.0</td>\n",
                            "      <td>4.0</td>\n",
                            "      <td>4.0</td>\n",
                            "      <td>0.50</td>\n",
                            "      <td>20</td>\n",
                            "    </tr>\n",
                            "    <tr>\n",
                            "      <th>2</th>\n",
                            "      <td>8</td>\n",
                            "      <td>1.0</td>\n",
                            "      <td>11.0</td>\n",
                            "      <td>9.0</td>\n",
                            "      <td>21.0</td>\n",
                            "      <td>0.30</td>\n",
                            "      <td>154</td>\n",
                            "    </tr>\n",
                            "    <tr>\n",
                            "      <th>3</th>\n",
                            "      <td>14</td>\n",
                            "      <td>1.0</td>\n",
                            "      <td>1.0</td>\n",
                            "      <td>0.0</td>\n",
                            "      <td>1.0</td>\n",
                            "      <td>0.00</td>\n",
                            "      <td>9</td>\n",
                            "    </tr>\n",
                            "    <tr>\n",
                            "      <th>4</th>\n",
                            "      <td>16</td>\n",
                            "      <td>3.0</td>\n",
                            "      <td>23.0</td>\n",
                            "      <td>23.0</td>\n",
                            "      <td>27.0</td>\n",
                            "      <td>0.46</td>\n",
                            "      <td>132</td>\n",
                            "    </tr>\n",
                            "  </tbody>\n",
                            "</table>\n",
                            "</div>"
                        ]
                    },
                    "metadata": {},
                    "execution_count": 22
                }
            ],
            "metadata": {}
        },
        {
            "cell_type": "markdown",
            "source": [
                "Заполним пустые ячейки нулями"
            ],
            "metadata": {}
        },
        {
            "cell_type": "code",
            "execution_count": 23,
            "source": [
                "X = X.fillna(0)"
            ],
            "outputs": [],
            "metadata": {}
        },
        {
            "cell_type": "markdown",
            "source": [
                "Добавим информацию о том, что пользователь в итоге закончил курс успешно (passed_course) и данные о том, что он не пытается это сделать"
            ],
            "metadata": {}
        },
        {
            "cell_type": "code",
            "execution_count": 24,
            "source": [
                "X = X.merge(users_data[['user_id', 'passed_course', 'is_gone_user']], how='outer')\r\n",
                "X.head()"
            ],
            "outputs": [
                {
                    "output_type": "execute_result",
                    "data": {
                        "text/plain": [
                            "   user_id  days  steps_tried  correct  wrong  correct_ratio  viewed  \\\n",
                            "0        2   1.0          2.0      2.0    0.0           1.00       9   \n",
                            "1        3   1.0          4.0      4.0    4.0           0.50      20   \n",
                            "2        8   1.0         11.0      9.0   21.0           0.30     154   \n",
                            "3       14   1.0          1.0      0.0    1.0           0.00       9   \n",
                            "4       16   3.0         23.0     23.0   27.0           0.46     132   \n",
                            "\n",
                            "   passed_course  is_gone_user  \n",
                            "0          False          True  \n",
                            "1          False          True  \n",
                            "2          False          True  \n",
                            "3          False          True  \n",
                            "4           True          True  "
                        ],
                        "text/html": [
                            "<div>\n",
                            "<style scoped>\n",
                            "    .dataframe tbody tr th:only-of-type {\n",
                            "        vertical-align: middle;\n",
                            "    }\n",
                            "\n",
                            "    .dataframe tbody tr th {\n",
                            "        vertical-align: top;\n",
                            "    }\n",
                            "\n",
                            "    .dataframe thead th {\n",
                            "        text-align: right;\n",
                            "    }\n",
                            "</style>\n",
                            "<table border=\"1\" class=\"dataframe\">\n",
                            "  <thead>\n",
                            "    <tr style=\"text-align: right;\">\n",
                            "      <th></th>\n",
                            "      <th>user_id</th>\n",
                            "      <th>days</th>\n",
                            "      <th>steps_tried</th>\n",
                            "      <th>correct</th>\n",
                            "      <th>wrong</th>\n",
                            "      <th>correct_ratio</th>\n",
                            "      <th>viewed</th>\n",
                            "      <th>passed_course</th>\n",
                            "      <th>is_gone_user</th>\n",
                            "    </tr>\n",
                            "  </thead>\n",
                            "  <tbody>\n",
                            "    <tr>\n",
                            "      <th>0</th>\n",
                            "      <td>2</td>\n",
                            "      <td>1.0</td>\n",
                            "      <td>2.0</td>\n",
                            "      <td>2.0</td>\n",
                            "      <td>0.0</td>\n",
                            "      <td>1.00</td>\n",
                            "      <td>9</td>\n",
                            "      <td>False</td>\n",
                            "      <td>True</td>\n",
                            "    </tr>\n",
                            "    <tr>\n",
                            "      <th>1</th>\n",
                            "      <td>3</td>\n",
                            "      <td>1.0</td>\n",
                            "      <td>4.0</td>\n",
                            "      <td>4.0</td>\n",
                            "      <td>4.0</td>\n",
                            "      <td>0.50</td>\n",
                            "      <td>20</td>\n",
                            "      <td>False</td>\n",
                            "      <td>True</td>\n",
                            "    </tr>\n",
                            "    <tr>\n",
                            "      <th>2</th>\n",
                            "      <td>8</td>\n",
                            "      <td>1.0</td>\n",
                            "      <td>11.0</td>\n",
                            "      <td>9.0</td>\n",
                            "      <td>21.0</td>\n",
                            "      <td>0.30</td>\n",
                            "      <td>154</td>\n",
                            "      <td>False</td>\n",
                            "      <td>True</td>\n",
                            "    </tr>\n",
                            "    <tr>\n",
                            "      <th>3</th>\n",
                            "      <td>14</td>\n",
                            "      <td>1.0</td>\n",
                            "      <td>1.0</td>\n",
                            "      <td>0.0</td>\n",
                            "      <td>1.0</td>\n",
                            "      <td>0.00</td>\n",
                            "      <td>9</td>\n",
                            "      <td>False</td>\n",
                            "      <td>True</td>\n",
                            "    </tr>\n",
                            "    <tr>\n",
                            "      <th>4</th>\n",
                            "      <td>16</td>\n",
                            "      <td>3.0</td>\n",
                            "      <td>23.0</td>\n",
                            "      <td>23.0</td>\n",
                            "      <td>27.0</td>\n",
                            "      <td>0.46</td>\n",
                            "      <td>132</td>\n",
                            "      <td>True</td>\n",
                            "      <td>True</td>\n",
                            "    </tr>\n",
                            "  </tbody>\n",
                            "</table>\n",
                            "</div>"
                        ]
                    },
                    "metadata": {},
                    "execution_count": 24
                }
            ],
            "metadata": {}
        },
        {
            "cell_type": "markdown",
            "source": [
                "Отбросим пользователей, которые ещё проходят курс"
            ],
            "metadata": {}
        },
        {
            "cell_type": "code",
            "execution_count": 25,
            "source": [
                "X = X[X.is_gone_user | X.passed_course]\r\n",
                "X.groupby(['passed_course', 'is_gone_user']).user_id.count()"
            ],
            "outputs": [
                {
                    "output_type": "execute_result",
                    "data": {
                        "text/plain": [
                            "passed_course  is_gone_user\n",
                            "False          True            16560\n",
                            "True           False             141\n",
                            "               True             1284\n",
                            "Name: user_id, dtype: int64"
                        ]
                    },
                    "metadata": {},
                    "execution_count": 25
                }
            ],
            "metadata": {}
        },
        {
            "cell_type": "code",
            "execution_count": 26,
            "source": [
                "y = X.passed_course.map(int)"
            ],
            "outputs": [],
            "metadata": {}
        },
        {
            "cell_type": "code",
            "execution_count": 27,
            "source": [
                "X = X.drop(['passed_course', 'is_gone_user'], axis=1)\r\n",
                "X.head()"
            ],
            "outputs": [
                {
                    "output_type": "execute_result",
                    "data": {
                        "text/plain": [
                            "   user_id  days  steps_tried  correct  wrong  correct_ratio  viewed\n",
                            "0        2   1.0          2.0      2.0    0.0           1.00       9\n",
                            "1        3   1.0          4.0      4.0    4.0           0.50      20\n",
                            "2        8   1.0         11.0      9.0   21.0           0.30     154\n",
                            "3       14   1.0          1.0      0.0    1.0           0.00       9\n",
                            "4       16   3.0         23.0     23.0   27.0           0.46     132"
                        ],
                        "text/html": [
                            "<div>\n",
                            "<style scoped>\n",
                            "    .dataframe tbody tr th:only-of-type {\n",
                            "        vertical-align: middle;\n",
                            "    }\n",
                            "\n",
                            "    .dataframe tbody tr th {\n",
                            "        vertical-align: top;\n",
                            "    }\n",
                            "\n",
                            "    .dataframe thead th {\n",
                            "        text-align: right;\n",
                            "    }\n",
                            "</style>\n",
                            "<table border=\"1\" class=\"dataframe\">\n",
                            "  <thead>\n",
                            "    <tr style=\"text-align: right;\">\n",
                            "      <th></th>\n",
                            "      <th>user_id</th>\n",
                            "      <th>days</th>\n",
                            "      <th>steps_tried</th>\n",
                            "      <th>correct</th>\n",
                            "      <th>wrong</th>\n",
                            "      <th>correct_ratio</th>\n",
                            "      <th>viewed</th>\n",
                            "    </tr>\n",
                            "  </thead>\n",
                            "  <tbody>\n",
                            "    <tr>\n",
                            "      <th>0</th>\n",
                            "      <td>2</td>\n",
                            "      <td>1.0</td>\n",
                            "      <td>2.0</td>\n",
                            "      <td>2.0</td>\n",
                            "      <td>0.0</td>\n",
                            "      <td>1.00</td>\n",
                            "      <td>9</td>\n",
                            "    </tr>\n",
                            "    <tr>\n",
                            "      <th>1</th>\n",
                            "      <td>3</td>\n",
                            "      <td>1.0</td>\n",
                            "      <td>4.0</td>\n",
                            "      <td>4.0</td>\n",
                            "      <td>4.0</td>\n",
                            "      <td>0.50</td>\n",
                            "      <td>20</td>\n",
                            "    </tr>\n",
                            "    <tr>\n",
                            "      <th>2</th>\n",
                            "      <td>8</td>\n",
                            "      <td>1.0</td>\n",
                            "      <td>11.0</td>\n",
                            "      <td>9.0</td>\n",
                            "      <td>21.0</td>\n",
                            "      <td>0.30</td>\n",
                            "      <td>154</td>\n",
                            "    </tr>\n",
                            "    <tr>\n",
                            "      <th>3</th>\n",
                            "      <td>14</td>\n",
                            "      <td>1.0</td>\n",
                            "      <td>1.0</td>\n",
                            "      <td>0.0</td>\n",
                            "      <td>1.0</td>\n",
                            "      <td>0.00</td>\n",
                            "      <td>9</td>\n",
                            "    </tr>\n",
                            "    <tr>\n",
                            "      <th>4</th>\n",
                            "      <td>16</td>\n",
                            "      <td>3.0</td>\n",
                            "      <td>23.0</td>\n",
                            "      <td>23.0</td>\n",
                            "      <td>27.0</td>\n",
                            "      <td>0.46</td>\n",
                            "      <td>132</td>\n",
                            "    </tr>\n",
                            "  </tbody>\n",
                            "</table>\n",
                            "</div>"
                        ]
                    },
                    "metadata": {},
                    "execution_count": 27
                }
            ],
            "metadata": {}
        },
        {
            "cell_type": "markdown",
            "source": [
                "Вынесем id пользователей в индексы"
            ],
            "metadata": {}
        },
        {
            "cell_type": "code",
            "execution_count": 28,
            "source": [
                "X.set_index(X.user_id)\r\n",
                "X = X.drop('user_id', axis=1)"
            ],
            "outputs": [],
            "metadata": {}
        },
        {
            "cell_type": "markdown",
            "source": [
                "Сохраним данные"
            ],
            "metadata": {}
        },
        {
            "cell_type": "code",
            "execution_count": 29,
            "source": [
                "X.to_pickle('./data/students_data_x.pkl')\r\n",
                "y.to_pickle('./data/students_data_y.pkl')"
            ],
            "outputs": [],
            "metadata": {}
        },
        {
            "cell_type": "markdown",
            "source": [
                "# Примеры применения моделей на подготовленных данных"
            ],
            "metadata": {}
        },
        {
            "cell_type": "code",
            "execution_count": 30,
            "source": [
                "from sklearn.model_selection import train_test_split\r\n",
                "\r\n",
                "X_train, X_test, y_train, y_test = train_test_split(X, y, test_size=0.3, random_state=42)"
            ],
            "outputs": [],
            "metadata": {}
        },
        {
            "cell_type": "markdown",
            "source": [
                "### Логистическая регрессия"
            ],
            "metadata": {}
        },
        {
            "cell_type": "code",
            "execution_count": 31,
            "source": [
                "from sklearn.linear_model import LogisticRegressionCV\r\n",
                "\r\n",
                "clf = LogisticRegressionCV(cv=5)\r\n",
                "\r\n",
                "clf.fit(X_train, y_train)\r\n",
                "print(clf.score(X_test, y_test))"
            ],
            "outputs": [
                {
                    "output_type": "stream",
                    "name": "stdout",
                    "text": [
                        "0.9314306893995552\n"
                    ]
                }
            ],
            "metadata": {}
        },
        {
            "cell_type": "code",
            "execution_count": 32,
            "source": [
                "from sklearn.model_selection import cross_val_score\r\n",
                "\r\n",
                "print(cross_val_score(clf, X_train, y_train, cv=4).mean())"
            ],
            "outputs": [
                {
                    "output_type": "stream",
                    "name": "stdout",
                    "text": [
                        "0.9193743895579946\n"
                    ]
                }
            ],
            "metadata": {}
        },
        {
            "cell_type": "markdown",
            "source": [
                "### Решающие деревья"
            ],
            "metadata": {}
        },
        {
            "cell_type": "code",
            "execution_count": 33,
            "source": [
                "from sklearn.tree import DecisionTreeClassifier\r\n",
                "from sklearn.model_selection import GridSearchCV\r\n",
                "\r\n",
                "dt = DecisionTreeClassifier(criterion='entropy')\r\n",
                "parameters = {'max_depth': range(3, 6), 'max_leaf_nodes': range(6, 15), 'min_samples_leaf': range(1, 4), 'min_samples_split': range(2, 5)}\r\n",
                "grid_search_cv_clf = GridSearchCV(dt, parameters, cv=5)\r\n",
                "grid_search_cv_clf.fit(X_train, y_train)\r\n",
                "\r\n",
                "model = grid_search_cv_clf.best_estimator_\r\n",
                "print(grid_search_cv_clf.best_params_, cross_val_score(model, X_train, y_train, cv=4).mean())"
            ],
            "outputs": [
                {
                    "output_type": "stream",
                    "name": "stdout",
                    "text": [
                        "{'max_depth': 5, 'max_leaf_nodes': 9, 'min_samples_leaf': 1, 'min_samples_split': 2} 0.917547429249292\n"
                    ]
                }
            ],
            "metadata": {}
        },
        {
            "cell_type": "markdown",
            "source": [
                "### Метод k ближайших соседей"
            ],
            "metadata": {}
        },
        {
            "cell_type": "code",
            "execution_count": 34,
            "source": [
                "from sklearn.neighbors import KNeighborsClassifier\r\n",
                "\r\n",
                "knn = KNeighborsClassifier()\r\n",
                "parameters = {'n_neighbors': range(15, 25), 'leaf_size': range(1, 7)}\r\n",
                "grid_search_cv_clf = GridSearchCV(knn, parameters, cv=4, n_jobs=-1)\r\n",
                "grid_search_cv_clf.fit(X_train,y_train)\r\n",
                "\r\n",
                "model = grid_search_cv_clf.best_estimator_\r\n",
                "print(grid_search_cv_clf.best_params_, cross_val_score(model, X_train, y_train, cv=4).mean())"
            ],
            "outputs": [
                {
                    "output_type": "stream",
                    "name": "stdout",
                    "text": [
                        "{'leaf_size': 1, 'n_neighbors': 16} 0.9174677109237374\n"
                    ]
                }
            ],
            "metadata": {}
        }
    ],
    "metadata": {
        "orig_nbformat": 4,
        "language_info": {
            "name": "python",
            "version": "3.8.10",
            "mimetype": "text/x-python",
            "codemirror_mode": {
                "name": "ipython",
                "version": 3
            },
            "pygments_lexer": "ipython3",
            "nbconvert_exporter": "python",
            "file_extension": ".py"
        },
        "kernelspec": {
            "name": "python3",
            "display_name": "Python 3.8.10 64-bit ('base': conda)"
        },
        "interpreter": {
            "hash": "188e6a6f1be7acb7ef13240439b1aed38d0658e28f5b11628d8f8d604f4d20f0"
        }
    },
    "nbformat": 4,
    "nbformat_minor": 2
}