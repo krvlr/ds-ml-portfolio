{
    "cells": [
        {
            "cell_type": "markdown",
            "source": [
                "# Подбор параметров и ROC кривая"
            ],
            "metadata": {}
        },
        {
            "cell_type": "markdown",
            "source": [
                "Загрузим ранее подготовленные данные датасета \"Титаник\""
            ],
            "metadata": {}
        },
        {
            "cell_type": "code",
            "execution_count": 1,
            "source": [
                "import pandas as pd\r\n",
                "\r\n",
                "titanic_data = pd.read_csv('./data/titanic/train.csv')\r\n",
                "titanic_data.head()\r\n",
                "\r\n",
                "X = pd.read_pickle('./data/titanic/train_x.pkl')\r\n",
                "y = pd.read_pickle('./data/titanic/train_y.pkl')"
            ],
            "outputs": [],
            "metadata": {}
        },
        {
            "cell_type": "code",
            "execution_count": 2,
            "source": [
                "from sklearn.model_selection import train_test_split\r\n",
                "\r\n",
                "X_train, X_test, y_train, y_test = train_test_split(X, y, test_size=0.33, random_state=42)"
            ],
            "outputs": [],
            "metadata": {}
        },
        {
            "cell_type": "code",
            "execution_count": 3,
            "source": [
                "import sklearn.tree as tree\r\n",
                "\r\n",
                "clf = tree.DecisionTreeClassifier()"
            ],
            "outputs": [],
            "metadata": {}
        },
        {
            "cell_type": "code",
            "execution_count": 4,
            "source": [
                "params = {'criterion': ['gini', 'entropy'], 'max_depth': range(1, 30)}"
            ],
            "outputs": [],
            "metadata": {}
        },
        {
            "cell_type": "markdown",
            "source": [
                "Опробуем наши параметры и найдем оптимальные для модели. Для этого воспользуемся классом GridSearchCV библиотеки sklearn."
            ],
            "metadata": {}
        },
        {
            "cell_type": "code",
            "execution_count": 5,
            "source": [
                "from sklearn.model_selection import GridSearchCV\r\n",
                "\r\n",
                "gs = GridSearchCV(estimator=clf, param_grid=params, cv=5)\r\n",
                "\r\n",
                "gs.fit(X_train, y_train)"
            ],
            "outputs": [
                {
                    "output_type": "execute_result",
                    "data": {
                        "text/plain": [
                            "GridSearchCV(cv=5, estimator=DecisionTreeClassifier(),\n",
                            "             param_grid={'criterion': ['gini', 'entropy'],\n",
                            "                         'max_depth': range(1, 30)})"
                        ]
                    },
                    "metadata": {},
                    "execution_count": 5
                }
            ],
            "metadata": {}
        },
        {
            "cell_type": "markdown",
            "source": [
                "Выведем параметры модели, для которых метрика accuracy (параметр по умолчанию для GridSearchCV) будет максимальной"
            ],
            "metadata": {}
        },
        {
            "cell_type": "code",
            "execution_count": 6,
            "source": [
                "gs.best_params_"
            ],
            "outputs": [
                {
                    "output_type": "execute_result",
                    "data": {
                        "text/plain": [
                            "{'criterion': 'entropy', 'max_depth': 6}"
                        ]
                    },
                    "metadata": {},
                    "execution_count": 6
                }
            ],
            "metadata": {}
        },
        {
            "cell_type": "markdown",
            "source": [
                "Вычислим точность на тестовых данных"
            ],
            "metadata": {}
        },
        {
            "cell_type": "code",
            "execution_count": 7,
            "source": [
                "best_clf = gs.best_estimator_\r\n",
                "\r\n",
                "best_clf.score(X_test, y_test)"
            ],
            "outputs": [
                {
                    "output_type": "execute_result",
                    "data": {
                        "text/plain": [
                            "0.7694915254237288"
                        ]
                    },
                    "metadata": {},
                    "execution_count": 7
                }
            ],
            "metadata": {}
        },
        {
            "cell_type": "markdown",
            "source": [
                "Рассчитаем метрики precision и recall для получившегося классификатора"
            ],
            "metadata": {}
        },
        {
            "cell_type": "code",
            "execution_count": 8,
            "source": [
                "from sklearn.metrics import precision_score, recall_score\r\n",
                "\r\n",
                "y_pred = best_clf.predict(X_test)\r\n",
                "print('precision_score:', precision_score(y_test, y_pred))\r\n",
                "print('recall_score:', recall_score(y_test, y_pred))"
            ],
            "outputs": [
                {
                    "output_type": "stream",
                    "name": "stdout",
                    "text": [
                        "precision_score: 0.8023255813953488\n",
                        "recall_score: 0.575\n"
                    ]
                }
            ],
            "metadata": {}
        },
        {
            "cell_type": "markdown",
            "source": [
                "Выведем вероятность предсказаниий"
            ],
            "metadata": {}
        },
        {
            "cell_type": "code",
            "execution_count": 9,
            "source": [
                "y_predicted_prob = best_clf.predict_proba(X_test)\r\n",
                "print(y_predicted_prob[0:5])"
            ],
            "outputs": [
                {
                    "output_type": "stream",
                    "name": "stdout",
                    "text": [
                        "[[0.88518519 0.11481481]\n",
                        " [0.88518519 0.11481481]\n",
                        " [0.88518519 0.11481481]\n",
                        " [0.         1.        ]\n",
                        " [0.65625    0.34375   ]]\n"
                    ]
                }
            ],
            "metadata": {}
        },
        {
            "cell_type": "markdown",
            "source": [
                "Построим гистограмму вероятностей отнесения к положительному классу"
            ],
            "metadata": {}
        },
        {
            "cell_type": "code",
            "execution_count": 10,
            "source": [
                "pd.Series(y_predicted_prob[:, 1]).hist()"
            ],
            "outputs": [
                {
                    "output_type": "execute_result",
                    "data": {
                        "text/plain": [
                            "<AxesSubplot:>"
                        ]
                    },
                    "metadata": {},
                    "execution_count": 10
                },
                {
                    "output_type": "display_data",
                    "data": {
                        "image/png": "[encoded data removed]",
                        "text/plain": [
                            "<Figure size 432x288 with 1 Axes>"
                        ]
                    },
                    "metadata": {
                        "needs_background": "light"
                    }
                }
            ],
            "metadata": {}
        },
        {
            "cell_type": "markdown",
            "source": [
                "Отнесём всех пассажиров с вероятностью выживания 0.8 к выжившим"
            ],
            "metadata": {}
        },
        {
            "cell_type": "code",
            "execution_count": 12,
            "source": [
                "import numpy as np\r\n",
                "\r\n",
                "y_pred = np.where(y_predicted_prob[:, 1] > 0.8, 1, 0)"
            ],
            "outputs": [],
            "metadata": {}
        },
        {
            "cell_type": "markdown",
            "source": [
                "Расчитаем метрики"
            ],
            "metadata": {}
        },
        {
            "cell_type": "code",
            "execution_count": 14,
            "source": [
                "print('precision_score:', precision_score(y_test, y_pred))\r\n",
                "print('recall_score:', recall_score(y_test, y_pred))"
            ],
            "outputs": [
                {
                    "output_type": "stream",
                    "name": "stdout",
                    "text": [
                        "precision_score: 0.8611111111111112\n",
                        "recall_score: 0.5166666666666667\n"
                    ]
                }
            ],
            "metadata": {}
        },
        {
            "cell_type": "markdown",
            "source": [
                "## ROC - кривая рабочей характеристики приемника\r\n",
                "Позволяет лучше подобрать порог принятия решения для классификатора"
            ],
            "metadata": {}
        },
        {
            "cell_type": "code",
            "execution_count": 15,
            "source": [
                "from sklearn import metrics\r\n",
                "\r\n",
                "metrics.plot_roc_curve(best_clf, X_test, y_test)"
            ],
            "outputs": [
                {
                    "output_type": "execute_result",
                    "data": {
                        "text/plain": [
                            "<sklearn.metrics._plot.roc_curve.RocCurveDisplay at 0x14be7d39d90>"
                        ]
                    },
                    "metadata": {},
                    "execution_count": 15
                },
                {
                    "output_type": "display_data",
                    "data": {
                        "image/png": "[encoded data removed]",
                        "text/plain": [
                            "<Figure size 432x288 with 1 Axes>"
                        ]
                    },
                    "metadata": {
                        "needs_background": "light"
                    }
                }
            ],
            "metadata": {}
        }
    ],
    "metadata": {
        "orig_nbformat": 4,
        "language_info": {
            "name": "python",
            "version": "3.8.10",
            "mimetype": "text/x-python",
            "codemirror_mode": {
                "name": "ipython",
                "version": 3
            },
            "pygments_lexer": "ipython3",
            "nbconvert_exporter": "python",
            "file_extension": ".py"
        },
        "kernelspec": {
            "name": "python3",
            "display_name": "Python 3.8.10 64-bit"
        },
        "interpreter": {
            "hash": "188e6a6f1be7acb7ef13240439b1aed38d0658e28f5b11628d8f8d604f4d20f0"
        }
    },
    "nbformat": 4,
    "nbformat_minor": 2
}