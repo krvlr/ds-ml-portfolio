{
    "cells": [
        {
            "cell_type": "markdown",
            "source": [
                "# Анализ активности студентов онлайн курса 'Введение в анализ данных в R'. Подготовка данных"
            ],
            "metadata": {}
        },
        {
            "cell_type": "markdown",
            "source": [
                "Проблема:  \r\n",
                "Почему пользователи не заканчивают курс до конца?  \r\n",
                "Как предсказать что пользователь бросит курс?  \r\n",
                "Какими паттернами поведения обладают те, кто успешно заканчивает курсы и те, кто бросает?\r\n"
            ],
            "metadata": {}
        },
        {
            "cell_type": "markdown",
            "source": [
                "Описание данных:  \r\n",
                "event_data_train.csv - данные о действиях, которые совершают студенты со стэпами\r\n",
                "* step_id - id стэпа\r\n",
                "* user_id - анонимизированный id юзера\r\n",
                "* timestamp - время наступления события в формате unix date\r\n",
                "* action - событие, возможные значения:  \r\n",
                "-- discovered - пользователь перешел на стэп  \r\n",
                "-- viewed - просмотр шага,  \r\n",
                "-- started_attempt - начало попытки решить шаг, ранее нужно было явно нажать на кнопку - начать решение, перед тем как приступить к решению практического шага  \r\n",
                "-- passed - удачное решение практического шага  \r\n",
                "\r\n",
                "submissions_data_train.csv - данные о времени и статусах сабмитов к практическим заданиям\r\n",
                "* step_id - id стэпа\r\n",
                "* timestamp - время отправки решения в формате unix date\r\n",
                "* submission_status - статус решения\r\n",
                "* user_id - анонимизированный id юзера"
            ],
            "metadata": {}
        },
        {
            "cell_type": "code",
            "execution_count": 1,
            "source": [
                "import pandas as pd\r\n",
                "\r\n",
                "events_trains = pd.read_csv('./data/event_data_train.csv')\r\n",
                "events_trains.head()"
            ],
            "outputs": [
                {
                    "output_type": "execute_result",
                    "data": {
                        "text/plain": [
                            "   step_id   timestamp      action  user_id\n",
                            "0    32815  1434340848      viewed    17632\n",
                            "1    32815  1434340848      passed    17632\n",
                            "2    32815  1434340848  discovered    17632\n",
                            "3    32811  1434340895  discovered    17632\n",
                            "4    32811  1434340895      viewed    17632"
                        ],
                        "text/html": [
                            "<div>\n",
                            "<style scoped>\n",
                            "    .dataframe tbody tr th:only-of-type {\n",
                            "        vertical-align: middle;\n",
                            "    }\n",
                            "\n",
                            "    .dataframe tbody tr th {\n",
                            "        vertical-align: top;\n",
                            "    }\n",
                            "\n",
                            "    .dataframe thead th {\n",
                            "        text-align: right;\n",
                            "    }\n",
                            "</style>\n",
                            "<table border=\"1\" class=\"dataframe\">\n",
                            "  <thead>\n",
                            "    <tr style=\"text-align: right;\">\n",
                            "      <th></th>\n",
                            "      <th>step_id</th>\n",
                            "      <th>timestamp</th>\n",
                            "      <th>action</th>\n",
                            "      <th>user_id</th>\n",
                            "    </tr>\n",
                            "  </thead>\n",
                            "  <tbody>\n",
                            "    <tr>\n",
                            "      <th>0</th>\n",
                            "      <td>32815</td>\n",
                            "      <td>1434340848</td>\n",
                            "      <td>viewed</td>\n",
                            "      <td>17632</td>\n",
                            "    </tr>\n",
                            "    <tr>\n",
                            "      <th>1</th>\n",
                            "      <td>32815</td>\n",
                            "      <td>1434340848</td>\n",
                            "      <td>passed</td>\n",
                            "      <td>17632</td>\n",
                            "    </tr>\n",
                            "    <tr>\n",
                            "      <th>2</th>\n",
                            "      <td>32815</td>\n",
                            "      <td>1434340848</td>\n",
                            "      <td>discovered</td>\n",
                            "      <td>17632</td>\n",
                            "    </tr>\n",
                            "    <tr>\n",
                            "      <th>3</th>\n",
                            "      <td>32811</td>\n",
                            "      <td>1434340895</td>\n",
                            "      <td>discovered</td>\n",
                            "      <td>17632</td>\n",
                            "    </tr>\n",
                            "    <tr>\n",
                            "      <th>4</th>\n",
                            "      <td>32811</td>\n",
                            "      <td>1434340895</td>\n",
                            "      <td>viewed</td>\n",
                            "      <td>17632</td>\n",
                            "    </tr>\n",
                            "  </tbody>\n",
                            "</table>\n",
                            "</div>"
                        ]
                    },
                    "metadata": {},
                    "execution_count": 1
                }
            ],
            "metadata": {}
        },
        {
            "cell_type": "markdown",
            "source": [
                "Выведем все возможные варианты поля action"
            ],
            "metadata": {}
        },
        {
            "cell_type": "code",
            "execution_count": 2,
            "source": [
                "events_trains.action.unique()"
            ],
            "outputs": [
                {
                    "output_type": "execute_result",
                    "data": {
                        "text/plain": [
                            "array(['viewed', 'passed', 'discovered', 'started_attempt'], dtype=object)"
                        ]
                    },
                    "metadata": {},
                    "execution_count": 2
                }
            ],
            "metadata": {}
        },
        {
            "cell_type": "markdown",
            "source": [
                "Преобразуем дату в читаемый вид и исследуем столбец"
            ],
            "metadata": {}
        },
        {
            "cell_type": "code",
            "execution_count": 3,
            "source": [
                "events_trains['date'] = pd.to_datetime(events_trains.timestamp, unit='s')\r\n",
                "events_trains.head()"
            ],
            "outputs": [
                {
                    "output_type": "execute_result",
                    "data": {
                        "text/plain": [
                            "   step_id   timestamp      action  user_id                date\n",
                            "0    32815  1434340848      viewed    17632 2015-06-15 04:00:48\n",
                            "1    32815  1434340848      passed    17632 2015-06-15 04:00:48\n",
                            "2    32815  1434340848  discovered    17632 2015-06-15 04:00:48\n",
                            "3    32811  1434340895  discovered    17632 2015-06-15 04:01:35\n",
                            "4    32811  1434340895      viewed    17632 2015-06-15 04:01:35"
                        ],
                        "text/html": [
                            "<div>\n",
                            "<style scoped>\n",
                            "    .dataframe tbody tr th:only-of-type {\n",
                            "        vertical-align: middle;\n",
                            "    }\n",
                            "\n",
                            "    .dataframe tbody tr th {\n",
                            "        vertical-align: top;\n",
                            "    }\n",
                            "\n",
                            "    .dataframe thead th {\n",
                            "        text-align: right;\n",
                            "    }\n",
                            "</style>\n",
                            "<table border=\"1\" class=\"dataframe\">\n",
                            "  <thead>\n",
                            "    <tr style=\"text-align: right;\">\n",
                            "      <th></th>\n",
                            "      <th>step_id</th>\n",
                            "      <th>timestamp</th>\n",
                            "      <th>action</th>\n",
                            "      <th>user_id</th>\n",
                            "      <th>date</th>\n",
                            "    </tr>\n",
                            "  </thead>\n",
                            "  <tbody>\n",
                            "    <tr>\n",
                            "      <th>0</th>\n",
                            "      <td>32815</td>\n",
                            "      <td>1434340848</td>\n",
                            "      <td>viewed</td>\n",
                            "      <td>17632</td>\n",
                            "      <td>2015-06-15 04:00:48</td>\n",
                            "    </tr>\n",
                            "    <tr>\n",
                            "      <th>1</th>\n",
                            "      <td>32815</td>\n",
                            "      <td>1434340848</td>\n",
                            "      <td>passed</td>\n",
                            "      <td>17632</td>\n",
                            "      <td>2015-06-15 04:00:48</td>\n",
                            "    </tr>\n",
                            "    <tr>\n",
                            "      <th>2</th>\n",
                            "      <td>32815</td>\n",
                            "      <td>1434340848</td>\n",
                            "      <td>discovered</td>\n",
                            "      <td>17632</td>\n",
                            "      <td>2015-06-15 04:00:48</td>\n",
                            "    </tr>\n",
                            "    <tr>\n",
                            "      <th>3</th>\n",
                            "      <td>32811</td>\n",
                            "      <td>1434340895</td>\n",
                            "      <td>discovered</td>\n",
                            "      <td>17632</td>\n",
                            "      <td>2015-06-15 04:01:35</td>\n",
                            "    </tr>\n",
                            "    <tr>\n",
                            "      <th>4</th>\n",
                            "      <td>32811</td>\n",
                            "      <td>1434340895</td>\n",
                            "      <td>viewed</td>\n",
                            "      <td>17632</td>\n",
                            "      <td>2015-06-15 04:01:35</td>\n",
                            "    </tr>\n",
                            "  </tbody>\n",
                            "</table>\n",
                            "</div>"
                        ]
                    },
                    "metadata": {},
                    "execution_count": 3
                }
            ],
            "metadata": {}
        },
        {
            "cell_type": "code",
            "execution_count": 4,
            "source": [
                "events_trains.date.min()"
            ],
            "outputs": [
                {
                    "output_type": "execute_result",
                    "data": {
                        "text/plain": [
                            "Timestamp('2015-06-15 04:00:48')"
                        ]
                    },
                    "metadata": {},
                    "execution_count": 4
                }
            ],
            "metadata": {}
        },
        {
            "cell_type": "code",
            "execution_count": 5,
            "source": [
                "events_trains.date.max()"
            ],
            "outputs": [
                {
                    "output_type": "execute_result",
                    "data": {
                        "text/plain": [
                            "Timestamp('2018-05-19 23:33:31')"
                        ]
                    },
                    "metadata": {},
                    "execution_count": 5
                }
            ],
            "metadata": {}
        },
        {
            "cell_type": "code",
            "execution_count": 6,
            "source": [
                "events_trains['day'] = events_trains.date.dt.date\r\n",
                "events_trains.head()"
            ],
            "outputs": [
                {
                    "output_type": "execute_result",
                    "data": {
                        "text/plain": [
                            "   step_id   timestamp      action  user_id                date         day\n",
                            "0    32815  1434340848      viewed    17632 2015-06-15 04:00:48  2015-06-15\n",
                            "1    32815  1434340848      passed    17632 2015-06-15 04:00:48  2015-06-15\n",
                            "2    32815  1434340848  discovered    17632 2015-06-15 04:00:48  2015-06-15\n",
                            "3    32811  1434340895  discovered    17632 2015-06-15 04:01:35  2015-06-15\n",
                            "4    32811  1434340895      viewed    17632 2015-06-15 04:01:35  2015-06-15"
                        ],
                        "text/html": [
                            "<div>\n",
                            "<style scoped>\n",
                            "    .dataframe tbody tr th:only-of-type {\n",
                            "        vertical-align: middle;\n",
                            "    }\n",
                            "\n",
                            "    .dataframe tbody tr th {\n",
                            "        vertical-align: top;\n",
                            "    }\n",
                            "\n",
                            "    .dataframe thead th {\n",
                            "        text-align: right;\n",
                            "    }\n",
                            "</style>\n",
                            "<table border=\"1\" class=\"dataframe\">\n",
                            "  <thead>\n",
                            "    <tr style=\"text-align: right;\">\n",
                            "      <th></th>\n",
                            "      <th>step_id</th>\n",
                            "      <th>timestamp</th>\n",
                            "      <th>action</th>\n",
                            "      <th>user_id</th>\n",
                            "      <th>date</th>\n",
                            "      <th>day</th>\n",
                            "    </tr>\n",
                            "  </thead>\n",
                            "  <tbody>\n",
                            "    <tr>\n",
                            "      <th>0</th>\n",
                            "      <td>32815</td>\n",
                            "      <td>1434340848</td>\n",
                            "      <td>viewed</td>\n",
                            "      <td>17632</td>\n",
                            "      <td>2015-06-15 04:00:48</td>\n",
                            "      <td>2015-06-15</td>\n",
                            "    </tr>\n",
                            "    <tr>\n",
                            "      <th>1</th>\n",
                            "      <td>32815</td>\n",
                            "      <td>1434340848</td>\n",
                            "      <td>passed</td>\n",
                            "      <td>17632</td>\n",
                            "      <td>2015-06-15 04:00:48</td>\n",
                            "      <td>2015-06-15</td>\n",
                            "    </tr>\n",
                            "    <tr>\n",
                            "      <th>2</th>\n",
                            "      <td>32815</td>\n",
                            "      <td>1434340848</td>\n",
                            "      <td>discovered</td>\n",
                            "      <td>17632</td>\n",
                            "      <td>2015-06-15 04:00:48</td>\n",
                            "      <td>2015-06-15</td>\n",
                            "    </tr>\n",
                            "    <tr>\n",
                            "      <th>3</th>\n",
                            "      <td>32811</td>\n",
                            "      <td>1434340895</td>\n",
                            "      <td>discovered</td>\n",
                            "      <td>17632</td>\n",
                            "      <td>2015-06-15 04:01:35</td>\n",
                            "      <td>2015-06-15</td>\n",
                            "    </tr>\n",
                            "    <tr>\n",
                            "      <th>4</th>\n",
                            "      <td>32811</td>\n",
                            "      <td>1434340895</td>\n",
                            "      <td>viewed</td>\n",
                            "      <td>17632</td>\n",
                            "      <td>2015-06-15 04:01:35</td>\n",
                            "      <td>2015-06-15</td>\n",
                            "    </tr>\n",
                            "  </tbody>\n",
                            "</table>\n",
                            "</div>"
                        ]
                    },
                    "metadata": {},
                    "execution_count": 6
                }
            ],
            "metadata": {}
        },
        {
            "cell_type": "markdown",
            "source": [
                "Выведем график количества уникальных пользователей по дням"
            ],
            "metadata": {}
        },
        {
            "cell_type": "code",
            "execution_count": 7,
            "source": [
                "events_trains.groupby('day').user_id.nunique().plot()"
            ],
            "outputs": [
                {
                    "output_type": "execute_result",
                    "data": {
                        "text/plain": [
                            "<AxesSubplot:xlabel='day'>"
                        ]
                    },
                    "metadata": {},
                    "execution_count": 7
                },
                {
                    "output_type": "display_data",
                    "data": {
                        "text/plain": [
                            "<Figure size 432x288 with 1 Axes>"
                        ],
                        "image/png": "[encoded data removed]"
                    },
                    "metadata": {
                        "needs_background": "light"
                    }
                }
            ],
            "metadata": {}
        },
        {
            "cell_type": "code",
            "execution_count": 8,
            "source": [
                "import seaborn as sns\r\n",
                "\r\n",
                "sns.set(rc={'figure.figsize': (9, 6)})\r\n",
                "events_trains.groupby('day').user_id.nunique().plot()"
            ],
            "outputs": [
                {
                    "output_type": "execute_result",
                    "data": {
                        "text/plain": [
                            "<AxesSubplot:xlabel='day'>"
                        ]
                    },
                    "metadata": {},
                    "execution_count": 8
                },
                {
                    "output_type": "display_data",
                    "data": {
                        "text/plain": [
                            "<Figure size 648x432 with 1 Axes>"
                        ],
                        "image/png": "[encoded data removed]"
                    },
                    "metadata": {}
                }
            ],
            "metadata": {}
        },
        {
            "cell_type": "markdown",
            "source": [
                "Выведем статистику успешного прохождения степов по пользователям"
            ],
            "metadata": {}
        },
        {
            "cell_type": "code",
            "execution_count": 9,
            "source": [
                "events_trains[events_trains.action == 'passed']\\\r\n",
                "    .groupby('user_id', as_index=False)\\\r\n",
                "    .agg({'step_id': 'count'})\\\r\n",
                "    .rename(columns={'step_id': 'passed_steps'}).passed_steps.hist()"
            ],
            "outputs": [
                {
                    "output_type": "execute_result",
                    "data": {
                        "text/plain": [
                            "<AxesSubplot:>"
                        ]
                    },
                    "metadata": {},
                    "execution_count": 9
                },
                {
                    "output_type": "display_data",
                    "data": {
                        "text/plain": [
                            "<Figure size 648x432 with 1 Axes>"
                        ],
                        "image/png": "[encoded data removed]"
                    },
                    "metadata": {}
                }
            ],
            "metadata": {}
        },
        {
            "cell_type": "markdown",
            "source": [
                "Этот график не совсем корректен, т.к. часть пользователе без passed степов не учитываются."
            ],
            "metadata": {}
        },
        {
            "cell_type": "markdown",
            "source": [
                "В процессе решения задачи всегда нужно делать проверки о верности суждения, что мы ничего не потеряли когда мы мержим или агрегируем данные.  \r\n",
                "Например в данном случае можно проверить количество всех уникальных пользователей."
            ],
            "metadata": {}
        },
        {
            "cell_type": "markdown",
            "source": [
                "Верное решение - использование pivot table."
            ],
            "metadata": {}
        },
        {
            "cell_type": "code",
            "execution_count": 10,
            "source": [
                "users_events_data = events_trains.pivot_table(index='user_id', columns='action', values='step_id', aggfunc='count', fill_value=0).reset_index()\r\n",
                "users_events_data.head()"
            ],
            "outputs": [
                {
                    "output_type": "execute_result",
                    "data": {
                        "text/plain": [
                            "action  user_id  discovered  passed  started_attempt  viewed\n",
                            "0             1           1       0                0       1\n",
                            "1             2           9       9                2      10\n",
                            "2             3          91      87               30     192\n",
                            "3             5          11      11                4      12\n",
                            "4             7           1       1                0       1"
                        ],
                        "text/html": [
                            "<div>\n",
                            "<style scoped>\n",
                            "    .dataframe tbody tr th:only-of-type {\n",
                            "        vertical-align: middle;\n",
                            "    }\n",
                            "\n",
                            "    .dataframe tbody tr th {\n",
                            "        vertical-align: top;\n",
                            "    }\n",
                            "\n",
                            "    .dataframe thead th {\n",
                            "        text-align: right;\n",
                            "    }\n",
                            "</style>\n",
                            "<table border=\"1\" class=\"dataframe\">\n",
                            "  <thead>\n",
                            "    <tr style=\"text-align: right;\">\n",
                            "      <th>action</th>\n",
                            "      <th>user_id</th>\n",
                            "      <th>discovered</th>\n",
                            "      <th>passed</th>\n",
                            "      <th>started_attempt</th>\n",
                            "      <th>viewed</th>\n",
                            "    </tr>\n",
                            "  </thead>\n",
                            "  <tbody>\n",
                            "    <tr>\n",
                            "      <th>0</th>\n",
                            "      <td>1</td>\n",
                            "      <td>1</td>\n",
                            "      <td>0</td>\n",
                            "      <td>0</td>\n",
                            "      <td>1</td>\n",
                            "    </tr>\n",
                            "    <tr>\n",
                            "      <th>1</th>\n",
                            "      <td>2</td>\n",
                            "      <td>9</td>\n",
                            "      <td>9</td>\n",
                            "      <td>2</td>\n",
                            "      <td>10</td>\n",
                            "    </tr>\n",
                            "    <tr>\n",
                            "      <th>2</th>\n",
                            "      <td>3</td>\n",
                            "      <td>91</td>\n",
                            "      <td>87</td>\n",
                            "      <td>30</td>\n",
                            "      <td>192</td>\n",
                            "    </tr>\n",
                            "    <tr>\n",
                            "      <th>3</th>\n",
                            "      <td>5</td>\n",
                            "      <td>11</td>\n",
                            "      <td>11</td>\n",
                            "      <td>4</td>\n",
                            "      <td>12</td>\n",
                            "    </tr>\n",
                            "    <tr>\n",
                            "      <th>4</th>\n",
                            "      <td>7</td>\n",
                            "      <td>1</td>\n",
                            "      <td>1</td>\n",
                            "      <td>0</td>\n",
                            "      <td>1</td>\n",
                            "    </tr>\n",
                            "  </tbody>\n",
                            "</table>\n",
                            "</div>"
                        ]
                    },
                    "metadata": {},
                    "execution_count": 10
                }
            ],
            "metadata": {}
        },
        {
            "cell_type": "code",
            "execution_count": 11,
            "source": [
                "events_trains.pivot_table(index='user_id', columns='action', values='step_id', aggfunc='count', fill_value=0).reset_index().discovered.hist()"
            ],
            "outputs": [
                {
                    "output_type": "execute_result",
                    "data": {
                        "text/plain": [
                            "<AxesSubplot:>"
                        ]
                    },
                    "metadata": {},
                    "execution_count": 11
                },
                {
                    "output_type": "display_data",
                    "data": {
                        "text/plain": [
                            "<Figure size 648x432 with 1 Axes>"
                        ],
                        "image/png": "[encoded data removed]"
                    },
                    "metadata": {}
                }
            ],
            "metadata": {}
        },
        {
            "cell_type": "markdown",
            "source": [
                "Проанализируем данные по количеству попыток прохождения шагов."
            ],
            "metadata": {}
        },
        {
            "cell_type": "code",
            "execution_count": 12,
            "source": [
                "submissions_data_train = pd.read_csv('./data/submissions_data_train.csv')\r\n",
                "submissions_data_train.head()"
            ],
            "outputs": [
                {
                    "output_type": "execute_result",
                    "data": {
                        "text/plain": [
                            "   step_id   timestamp submission_status  user_id\n",
                            "0    31971  1434349275           correct    15853\n",
                            "1    31972  1434348300           correct    15853\n",
                            "2    31972  1478852149             wrong    15853\n",
                            "3    31972  1478852164           correct    15853\n",
                            "4    31976  1434348123             wrong    15853"
                        ],
                        "text/html": [
                            "<div>\n",
                            "<style scoped>\n",
                            "    .dataframe tbody tr th:only-of-type {\n",
                            "        vertical-align: middle;\n",
                            "    }\n",
                            "\n",
                            "    .dataframe tbody tr th {\n",
                            "        vertical-align: top;\n",
                            "    }\n",
                            "\n",
                            "    .dataframe thead th {\n",
                            "        text-align: right;\n",
                            "    }\n",
                            "</style>\n",
                            "<table border=\"1\" class=\"dataframe\">\n",
                            "  <thead>\n",
                            "    <tr style=\"text-align: right;\">\n",
                            "      <th></th>\n",
                            "      <th>step_id</th>\n",
                            "      <th>timestamp</th>\n",
                            "      <th>submission_status</th>\n",
                            "      <th>user_id</th>\n",
                            "    </tr>\n",
                            "  </thead>\n",
                            "  <tbody>\n",
                            "    <tr>\n",
                            "      <th>0</th>\n",
                            "      <td>31971</td>\n",
                            "      <td>1434349275</td>\n",
                            "      <td>correct</td>\n",
                            "      <td>15853</td>\n",
                            "    </tr>\n",
                            "    <tr>\n",
                            "      <th>1</th>\n",
                            "      <td>31972</td>\n",
                            "      <td>1434348300</td>\n",
                            "      <td>correct</td>\n",
                            "      <td>15853</td>\n",
                            "    </tr>\n",
                            "    <tr>\n",
                            "      <th>2</th>\n",
                            "      <td>31972</td>\n",
                            "      <td>1478852149</td>\n",
                            "      <td>wrong</td>\n",
                            "      <td>15853</td>\n",
                            "    </tr>\n",
                            "    <tr>\n",
                            "      <th>3</th>\n",
                            "      <td>31972</td>\n",
                            "      <td>1478852164</td>\n",
                            "      <td>correct</td>\n",
                            "      <td>15853</td>\n",
                            "    </tr>\n",
                            "    <tr>\n",
                            "      <th>4</th>\n",
                            "      <td>31976</td>\n",
                            "      <td>1434348123</td>\n",
                            "      <td>wrong</td>\n",
                            "      <td>15853</td>\n",
                            "    </tr>\n",
                            "  </tbody>\n",
                            "</table>\n",
                            "</div>"
                        ]
                    },
                    "metadata": {},
                    "execution_count": 12
                }
            ],
            "metadata": {}
        },
        {
            "cell_type": "code",
            "execution_count": 13,
            "source": [
                "submissions_data_train['date'] = pd.to_datetime(submissions_data_train.timestamp, unit='s')\r\n",
                "submissions_data_train['day'] = submissions_data_train.date.dt.date\r\n",
                "submissions_data_train.head()"
            ],
            "outputs": [
                {
                    "output_type": "execute_result",
                    "data": {
                        "text/plain": [
                            "   step_id   timestamp submission_status  user_id                date  \\\n",
                            "0    31971  1434349275           correct    15853 2015-06-15 06:21:15   \n",
                            "1    31972  1434348300           correct    15853 2015-06-15 06:05:00   \n",
                            "2    31972  1478852149             wrong    15853 2016-11-11 08:15:49   \n",
                            "3    31972  1478852164           correct    15853 2016-11-11 08:16:04   \n",
                            "4    31976  1434348123             wrong    15853 2015-06-15 06:02:03   \n",
                            "\n",
                            "          day  \n",
                            "0  2015-06-15  \n",
                            "1  2015-06-15  \n",
                            "2  2016-11-11  \n",
                            "3  2016-11-11  \n",
                            "4  2015-06-15  "
                        ],
                        "text/html": [
                            "<div>\n",
                            "<style scoped>\n",
                            "    .dataframe tbody tr th:only-of-type {\n",
                            "        vertical-align: middle;\n",
                            "    }\n",
                            "\n",
                            "    .dataframe tbody tr th {\n",
                            "        vertical-align: top;\n",
                            "    }\n",
                            "\n",
                            "    .dataframe thead th {\n",
                            "        text-align: right;\n",
                            "    }\n",
                            "</style>\n",
                            "<table border=\"1\" class=\"dataframe\">\n",
                            "  <thead>\n",
                            "    <tr style=\"text-align: right;\">\n",
                            "      <th></th>\n",
                            "      <th>step_id</th>\n",
                            "      <th>timestamp</th>\n",
                            "      <th>submission_status</th>\n",
                            "      <th>user_id</th>\n",
                            "      <th>date</th>\n",
                            "      <th>day</th>\n",
                            "    </tr>\n",
                            "  </thead>\n",
                            "  <tbody>\n",
                            "    <tr>\n",
                            "      <th>0</th>\n",
                            "      <td>31971</td>\n",
                            "      <td>1434349275</td>\n",
                            "      <td>correct</td>\n",
                            "      <td>15853</td>\n",
                            "      <td>2015-06-15 06:21:15</td>\n",
                            "      <td>2015-06-15</td>\n",
                            "    </tr>\n",
                            "    <tr>\n",
                            "      <th>1</th>\n",
                            "      <td>31972</td>\n",
                            "      <td>1434348300</td>\n",
                            "      <td>correct</td>\n",
                            "      <td>15853</td>\n",
                            "      <td>2015-06-15 06:05:00</td>\n",
                            "      <td>2015-06-15</td>\n",
                            "    </tr>\n",
                            "    <tr>\n",
                            "      <th>2</th>\n",
                            "      <td>31972</td>\n",
                            "      <td>1478852149</td>\n",
                            "      <td>wrong</td>\n",
                            "      <td>15853</td>\n",
                            "      <td>2016-11-11 08:15:49</td>\n",
                            "      <td>2016-11-11</td>\n",
                            "    </tr>\n",
                            "    <tr>\n",
                            "      <th>3</th>\n",
                            "      <td>31972</td>\n",
                            "      <td>1478852164</td>\n",
                            "      <td>correct</td>\n",
                            "      <td>15853</td>\n",
                            "      <td>2016-11-11 08:16:04</td>\n",
                            "      <td>2016-11-11</td>\n",
                            "    </tr>\n",
                            "    <tr>\n",
                            "      <th>4</th>\n",
                            "      <td>31976</td>\n",
                            "      <td>1434348123</td>\n",
                            "      <td>wrong</td>\n",
                            "      <td>15853</td>\n",
                            "      <td>2015-06-15 06:02:03</td>\n",
                            "      <td>2015-06-15</td>\n",
                            "    </tr>\n",
                            "  </tbody>\n",
                            "</table>\n",
                            "</div>"
                        ]
                    },
                    "metadata": {},
                    "execution_count": 13
                }
            ],
            "metadata": {}
        },
        {
            "cell_type": "markdown",
            "source": [
                "Для каждого пользователя расчитаем количество верных submit-ов"
            ],
            "metadata": {}
        },
        {
            "cell_type": "code",
            "execution_count": 14,
            "source": [
                "user_scores = submissions_data_train.pivot_table(index='user_id', columns='submission_status', values='step_id', aggfunc='count', fill_value=0).reset_index()\r\n",
                "user_scores.head()"
            ],
            "outputs": [
                {
                    "output_type": "execute_result",
                    "data": {
                        "text/plain": [
                            "submission_status  user_id  correct  wrong\n",
                            "0                        2        2      0\n",
                            "1                        3       29     23\n",
                            "2                        5        2      2\n",
                            "3                        8        9     21\n",
                            "4                       14        0      1"
                        ],
                        "text/html": [
                            "<div>\n",
                            "<style scoped>\n",
                            "    .dataframe tbody tr th:only-of-type {\n",
                            "        vertical-align: middle;\n",
                            "    }\n",
                            "\n",
                            "    .dataframe tbody tr th {\n",
                            "        vertical-align: top;\n",
                            "    }\n",
                            "\n",
                            "    .dataframe thead th {\n",
                            "        text-align: right;\n",
                            "    }\n",
                            "</style>\n",
                            "<table border=\"1\" class=\"dataframe\">\n",
                            "  <thead>\n",
                            "    <tr style=\"text-align: right;\">\n",
                            "      <th>submission_status</th>\n",
                            "      <th>user_id</th>\n",
                            "      <th>correct</th>\n",
                            "      <th>wrong</th>\n",
                            "    </tr>\n",
                            "  </thead>\n",
                            "  <tbody>\n",
                            "    <tr>\n",
                            "      <th>0</th>\n",
                            "      <td>2</td>\n",
                            "      <td>2</td>\n",
                            "      <td>0</td>\n",
                            "    </tr>\n",
                            "    <tr>\n",
                            "      <th>1</th>\n",
                            "      <td>3</td>\n",
                            "      <td>29</td>\n",
                            "      <td>23</td>\n",
                            "    </tr>\n",
                            "    <tr>\n",
                            "      <th>2</th>\n",
                            "      <td>5</td>\n",
                            "      <td>2</td>\n",
                            "      <td>2</td>\n",
                            "    </tr>\n",
                            "    <tr>\n",
                            "      <th>3</th>\n",
                            "      <td>8</td>\n",
                            "      <td>9</td>\n",
                            "      <td>21</td>\n",
                            "    </tr>\n",
                            "    <tr>\n",
                            "      <th>4</th>\n",
                            "      <td>14</td>\n",
                            "      <td>0</td>\n",
                            "      <td>1</td>\n",
                            "    </tr>\n",
                            "  </tbody>\n",
                            "</table>\n",
                            "</div>"
                        ]
                    },
                    "metadata": {},
                    "execution_count": 14
                }
            ],
            "metadata": {}
        },
        {
            "cell_type": "markdown",
            "source": [
                "Как делить пользователей на тех еоторые в процессе прохождения курса и на тех, кто прекратил проходить курс?  \r\n",
                "Можно воспользоваться эвристическим правилом, например, считать пользователей прекратившими прохождение курса в случае если он не активен 1 месяц.  \r\n",
                "Или можно проанализировать распределение перерывов между событиями у участников курса и ответить на вопрос статистически."
            ],
            "metadata": {}
        },
        {
            "cell_type": "markdown",
            "source": [
                "Для каждого пользователя расчитаем промежутки в перерывах между степами. Далее просмотрим картину по всем пользователям и примем статистическое решение. "
            ],
            "metadata": {}
        },
        {
            "cell_type": "markdown",
            "source": [
                "Удалим ненужные данные"
            ],
            "metadata": {}
        },
        {
            "cell_type": "code",
            "execution_count": 15,
            "source": [
                "events_trains[['user_id', 'day', 'timestamp']].drop_duplicates(subset=['user_id', 'day',]).head()"
            ],
            "outputs": [
                {
                    "output_type": "execute_result",
                    "data": {
                        "text/plain": [
                            "    user_id         day   timestamp\n",
                            "0     17632  2015-06-15  1434340848\n",
                            "36    12494  2015-06-15  1434341931\n",
                            "59      442  2015-06-15  1434342029\n",
                            "62    22254  2015-06-15  1434342042\n",
                            "94     6646  2015-06-15  1434342230"
                        ],
                        "text/html": [
                            "<div>\n",
                            "<style scoped>\n",
                            "    .dataframe tbody tr th:only-of-type {\n",
                            "        vertical-align: middle;\n",
                            "    }\n",
                            "\n",
                            "    .dataframe tbody tr th {\n",
                            "        vertical-align: top;\n",
                            "    }\n",
                            "\n",
                            "    .dataframe thead th {\n",
                            "        text-align: right;\n",
                            "    }\n",
                            "</style>\n",
                            "<table border=\"1\" class=\"dataframe\">\n",
                            "  <thead>\n",
                            "    <tr style=\"text-align: right;\">\n",
                            "      <th></th>\n",
                            "      <th>user_id</th>\n",
                            "      <th>day</th>\n",
                            "      <th>timestamp</th>\n",
                            "    </tr>\n",
                            "  </thead>\n",
                            "  <tbody>\n",
                            "    <tr>\n",
                            "      <th>0</th>\n",
                            "      <td>17632</td>\n",
                            "      <td>2015-06-15</td>\n",
                            "      <td>1434340848</td>\n",
                            "    </tr>\n",
                            "    <tr>\n",
                            "      <th>36</th>\n",
                            "      <td>12494</td>\n",
                            "      <td>2015-06-15</td>\n",
                            "      <td>1434341931</td>\n",
                            "    </tr>\n",
                            "    <tr>\n",
                            "      <th>59</th>\n",
                            "      <td>442</td>\n",
                            "      <td>2015-06-15</td>\n",
                            "      <td>1434342029</td>\n",
                            "    </tr>\n",
                            "    <tr>\n",
                            "      <th>62</th>\n",
                            "      <td>22254</td>\n",
                            "      <td>2015-06-15</td>\n",
                            "      <td>1434342042</td>\n",
                            "    </tr>\n",
                            "    <tr>\n",
                            "      <th>94</th>\n",
                            "      <td>6646</td>\n",
                            "      <td>2015-06-15</td>\n",
                            "      <td>1434342230</td>\n",
                            "    </tr>\n",
                            "  </tbody>\n",
                            "</table>\n",
                            "</div>"
                        ]
                    },
                    "metadata": {},
                    "execution_count": 15
                }
            ],
            "metadata": {}
        },
        {
            "cell_type": "markdown",
            "source": [
                "Соберём все timestamp-ы и посмотрим на перерывы между ними"
            ],
            "metadata": {}
        },
        {
            "cell_type": "code",
            "execution_count": 16,
            "source": [
                "import numpy as np\r\n",
                "\r\n",
                "gap_data = events_trains[['user_id', 'day', 'timestamp']].drop_duplicates(subset=['user_id', 'day',])\\\r\n",
                "    .groupby('user_id')['timestamp'].apply(list)\\\r\n",
                "    .apply(np.diff).values"
            ],
            "outputs": [],
            "metadata": {}
        },
        {
            "cell_type": "code",
            "execution_count": 17,
            "source": [
                "gap_data = pd.Series(np.concatenate(gap_data, axis=0))"
            ],
            "outputs": [],
            "metadata": {}
        },
        {
            "cell_type": "code",
            "execution_count": 18,
            "source": [
                "gap_data = gap_data / (24 * 60 * 60)\r\n"
            ],
            "outputs": [],
            "metadata": {}
        },
        {
            "cell_type": "code",
            "execution_count": 19,
            "source": [
                "gap_data[gap_data < 200].hist()"
            ],
            "outputs": [
                {
                    "output_type": "execute_result",
                    "data": {
                        "text/plain": [
                            "<AxesSubplot:>"
                        ]
                    },
                    "metadata": {},
                    "execution_count": 19
                },
                {
                    "output_type": "display_data",
                    "data": {
                        "text/plain": [
                            "<Figure size 648x432 with 1 Axes>"
                        ],
                        "image/png": "[encoded data removed]"
                    },
                    "metadata": {}
                }
            ],
            "metadata": {}
        },
        {
            "cell_type": "code",
            "execution_count": 20,
            "source": [
                "gap_data.quantile(0.90)"
            ],
            "outputs": [
                {
                    "output_type": "execute_result",
                    "data": {
                        "text/plain": [
                            "18.325995370370403"
                        ]
                    },
                    "metadata": {},
                    "execution_count": 20
                }
            ],
            "metadata": {}
        },
        {
            "cell_type": "markdown",
            "source": [
                "Интерпретация: только 10% пользователей возвращаются к выполнению заданий после 18 дней перерыва."
            ],
            "metadata": {}
        },
        {
            "cell_type": "markdown",
            "source": [
                "Если человек не дошёл курс до конца, не получил сертификат и при этом больше чем 30 дней отсутствует на платформе, то будем считать, что он отвалился с курса."
            ],
            "metadata": {}
        },
        {
            "cell_type": "markdown",
            "source": [
                "Посчитаем отвалившихся пользователей.  \r\n",
                "Для этого посчитаем выведем последний timestamp для каждого пользователя."
            ],
            "metadata": {}
        },
        {
            "cell_type": "code",
            "execution_count": 21,
            "source": [
                "users_data = events_trains.groupby('user_id', as_index=False)\\\r\n",
                "    .agg({'timestamp': 'max'}).rename(columns={'timestamp': 'last_timestamp'})"
            ],
            "outputs": [],
            "metadata": {}
        },
        {
            "cell_type": "markdown",
            "source": [
                "Далее для каждого пользователя посчитаем количество дней от момента последнего посещения до последнего дня в данных"
            ],
            "metadata": {}
        },
        {
            "cell_type": "code",
            "execution_count": 22,
            "source": [
                "events_trains.tail()"
            ],
            "outputs": [
                {
                    "output_type": "execute_result",
                    "data": {
                        "text/plain": [
                            "         step_id   timestamp      action  user_id                date  \\\n",
                            "3480698    33375  1526772685      viewed    11677 2018-05-19 23:31:25   \n",
                            "3480699    32815  1526772750      viewed     5198 2018-05-19 23:32:30   \n",
                            "3480700    32815  1526772750  discovered     5198 2018-05-19 23:32:30   \n",
                            "3480701    32815  1526772750      passed     5198 2018-05-19 23:32:30   \n",
                            "3480702    33892  1526772811      viewed    18526 2018-05-19 23:33:31   \n",
                            "\n",
                            "                day  \n",
                            "3480698  2018-05-19  \n",
                            "3480699  2018-05-19  \n",
                            "3480700  2018-05-19  \n",
                            "3480701  2018-05-19  \n",
                            "3480702  2018-05-19  "
                        ],
                        "text/html": [
                            "<div>\n",
                            "<style scoped>\n",
                            "    .dataframe tbody tr th:only-of-type {\n",
                            "        vertical-align: middle;\n",
                            "    }\n",
                            "\n",
                            "    .dataframe tbody tr th {\n",
                            "        vertical-align: top;\n",
                            "    }\n",
                            "\n",
                            "    .dataframe thead th {\n",
                            "        text-align: right;\n",
                            "    }\n",
                            "</style>\n",
                            "<table border=\"1\" class=\"dataframe\">\n",
                            "  <thead>\n",
                            "    <tr style=\"text-align: right;\">\n",
                            "      <th></th>\n",
                            "      <th>step_id</th>\n",
                            "      <th>timestamp</th>\n",
                            "      <th>action</th>\n",
                            "      <th>user_id</th>\n",
                            "      <th>date</th>\n",
                            "      <th>day</th>\n",
                            "    </tr>\n",
                            "  </thead>\n",
                            "  <tbody>\n",
                            "    <tr>\n",
                            "      <th>3480698</th>\n",
                            "      <td>33375</td>\n",
                            "      <td>1526772685</td>\n",
                            "      <td>viewed</td>\n",
                            "      <td>11677</td>\n",
                            "      <td>2018-05-19 23:31:25</td>\n",
                            "      <td>2018-05-19</td>\n",
                            "    </tr>\n",
                            "    <tr>\n",
                            "      <th>3480699</th>\n",
                            "      <td>32815</td>\n",
                            "      <td>1526772750</td>\n",
                            "      <td>viewed</td>\n",
                            "      <td>5198</td>\n",
                            "      <td>2018-05-19 23:32:30</td>\n",
                            "      <td>2018-05-19</td>\n",
                            "    </tr>\n",
                            "    <tr>\n",
                            "      <th>3480700</th>\n",
                            "      <td>32815</td>\n",
                            "      <td>1526772750</td>\n",
                            "      <td>discovered</td>\n",
                            "      <td>5198</td>\n",
                            "      <td>2018-05-19 23:32:30</td>\n",
                            "      <td>2018-05-19</td>\n",
                            "    </tr>\n",
                            "    <tr>\n",
                            "      <th>3480701</th>\n",
                            "      <td>32815</td>\n",
                            "      <td>1526772750</td>\n",
                            "      <td>passed</td>\n",
                            "      <td>5198</td>\n",
                            "      <td>2018-05-19 23:32:30</td>\n",
                            "      <td>2018-05-19</td>\n",
                            "    </tr>\n",
                            "    <tr>\n",
                            "      <th>3480702</th>\n",
                            "      <td>33892</td>\n",
                            "      <td>1526772811</td>\n",
                            "      <td>viewed</td>\n",
                            "      <td>18526</td>\n",
                            "      <td>2018-05-19 23:33:31</td>\n",
                            "      <td>2018-05-19</td>\n",
                            "    </tr>\n",
                            "  </tbody>\n",
                            "</table>\n",
                            "</div>"
                        ]
                    },
                    "metadata": {},
                    "execution_count": 22
                }
            ],
            "metadata": {}
        },
        {
            "cell_type": "code",
            "execution_count": 23,
            "source": [
                "now = 1526772811\r\n",
                "drop_out_threshold = 30 * 24 * 60 * 60"
            ],
            "outputs": [],
            "metadata": {}
        },
        {
            "cell_type": "code",
            "execution_count": 24,
            "source": [
                "users_data['is_gone_user'] = (now - users_data.last_timestamp) > drop_out_threshold\r\n",
                "users_data.head()"
            ],
            "outputs": [
                {
                    "output_type": "execute_result",
                    "data": {
                        "text/plain": [
                            "   user_id  last_timestamp  is_gone_user\n",
                            "0        1      1472827464          True\n",
                            "1        2      1519226966          True\n",
                            "2        3      1444581588          True\n",
                            "3        5      1499859939          True\n",
                            "4        7      1521634660          True"
                        ],
                        "text/html": [
                            "<div>\n",
                            "<style scoped>\n",
                            "    .dataframe tbody tr th:only-of-type {\n",
                            "        vertical-align: middle;\n",
                            "    }\n",
                            "\n",
                            "    .dataframe tbody tr th {\n",
                            "        vertical-align: top;\n",
                            "    }\n",
                            "\n",
                            "    .dataframe thead th {\n",
                            "        text-align: right;\n",
                            "    }\n",
                            "</style>\n",
                            "<table border=\"1\" class=\"dataframe\">\n",
                            "  <thead>\n",
                            "    <tr style=\"text-align: right;\">\n",
                            "      <th></th>\n",
                            "      <th>user_id</th>\n",
                            "      <th>last_timestamp</th>\n",
                            "      <th>is_gone_user</th>\n",
                            "    </tr>\n",
                            "  </thead>\n",
                            "  <tbody>\n",
                            "    <tr>\n",
                            "      <th>0</th>\n",
                            "      <td>1</td>\n",
                            "      <td>1472827464</td>\n",
                            "      <td>True</td>\n",
                            "    </tr>\n",
                            "    <tr>\n",
                            "      <th>1</th>\n",
                            "      <td>2</td>\n",
                            "      <td>1519226966</td>\n",
                            "      <td>True</td>\n",
                            "    </tr>\n",
                            "    <tr>\n",
                            "      <th>2</th>\n",
                            "      <td>3</td>\n",
                            "      <td>1444581588</td>\n",
                            "      <td>True</td>\n",
                            "    </tr>\n",
                            "    <tr>\n",
                            "      <th>3</th>\n",
                            "      <td>5</td>\n",
                            "      <td>1499859939</td>\n",
                            "      <td>True</td>\n",
                            "    </tr>\n",
                            "    <tr>\n",
                            "      <th>4</th>\n",
                            "      <td>7</td>\n",
                            "      <td>1521634660</td>\n",
                            "      <td>True</td>\n",
                            "    </tr>\n",
                            "  </tbody>\n",
                            "</table>\n",
                            "</div>"
                        ]
                    },
                    "metadata": {},
                    "execution_count": 24
                }
            ],
            "metadata": {}
        },
        {
            "cell_type": "markdown",
            "source": [
                "Добавим в таблицу число правильных и неправильных попыток"
            ],
            "metadata": {}
        },
        {
            "cell_type": "code",
            "execution_count": 25,
            "source": [
                "users_data = users_data.merge(user_scores, on='user_id', how='outer')\r\n",
                "users_data = users_data.fillna(0)\r\n",
                "users_data.head()"
            ],
            "outputs": [
                {
                    "output_type": "execute_result",
                    "data": {
                        "text/plain": [
                            "   user_id  last_timestamp  is_gone_user  correct  wrong\n",
                            "0        1      1472827464          True      0.0    0.0\n",
                            "1        2      1519226966          True      2.0    0.0\n",
                            "2        3      1444581588          True     29.0   23.0\n",
                            "3        5      1499859939          True      2.0    2.0\n",
                            "4        7      1521634660          True      0.0    0.0"
                        ],
                        "text/html": [
                            "<div>\n",
                            "<style scoped>\n",
                            "    .dataframe tbody tr th:only-of-type {\n",
                            "        vertical-align: middle;\n",
                            "    }\n",
                            "\n",
                            "    .dataframe tbody tr th {\n",
                            "        vertical-align: top;\n",
                            "    }\n",
                            "\n",
                            "    .dataframe thead th {\n",
                            "        text-align: right;\n",
                            "    }\n",
                            "</style>\n",
                            "<table border=\"1\" class=\"dataframe\">\n",
                            "  <thead>\n",
                            "    <tr style=\"text-align: right;\">\n",
                            "      <th></th>\n",
                            "      <th>user_id</th>\n",
                            "      <th>last_timestamp</th>\n",
                            "      <th>is_gone_user</th>\n",
                            "      <th>correct</th>\n",
                            "      <th>wrong</th>\n",
                            "    </tr>\n",
                            "  </thead>\n",
                            "  <tbody>\n",
                            "    <tr>\n",
                            "      <th>0</th>\n",
                            "      <td>1</td>\n",
                            "      <td>1472827464</td>\n",
                            "      <td>True</td>\n",
                            "      <td>0.0</td>\n",
                            "      <td>0.0</td>\n",
                            "    </tr>\n",
                            "    <tr>\n",
                            "      <th>1</th>\n",
                            "      <td>2</td>\n",
                            "      <td>1519226966</td>\n",
                            "      <td>True</td>\n",
                            "      <td>2.0</td>\n",
                            "      <td>0.0</td>\n",
                            "    </tr>\n",
                            "    <tr>\n",
                            "      <th>2</th>\n",
                            "      <td>3</td>\n",
                            "      <td>1444581588</td>\n",
                            "      <td>True</td>\n",
                            "      <td>29.0</td>\n",
                            "      <td>23.0</td>\n",
                            "    </tr>\n",
                            "    <tr>\n",
                            "      <th>3</th>\n",
                            "      <td>5</td>\n",
                            "      <td>1499859939</td>\n",
                            "      <td>True</td>\n",
                            "      <td>2.0</td>\n",
                            "      <td>2.0</td>\n",
                            "    </tr>\n",
                            "    <tr>\n",
                            "      <th>4</th>\n",
                            "      <td>7</td>\n",
                            "      <td>1521634660</td>\n",
                            "      <td>True</td>\n",
                            "      <td>0.0</td>\n",
                            "      <td>0.0</td>\n",
                            "    </tr>\n",
                            "  </tbody>\n",
                            "</table>\n",
                            "</div>"
                        ]
                    },
                    "metadata": {},
                    "execution_count": 25
                }
            ],
            "metadata": {}
        },
        {
            "cell_type": "code",
            "execution_count": 26,
            "source": [
                "users_data = users_data.merge(users_events_data, how='outer')\r\n",
                "users_data.head()"
            ],
            "outputs": [
                {
                    "output_type": "execute_result",
                    "data": {
                        "text/plain": [
                            "   user_id  last_timestamp  is_gone_user  correct  wrong  discovered  passed  \\\n",
                            "0        1      1472827464          True      0.0    0.0           1       0   \n",
                            "1        2      1519226966          True      2.0    0.0           9       9   \n",
                            "2        3      1444581588          True     29.0   23.0          91      87   \n",
                            "3        5      1499859939          True      2.0    2.0          11      11   \n",
                            "4        7      1521634660          True      0.0    0.0           1       1   \n",
                            "\n",
                            "   started_attempt  viewed  \n",
                            "0                0       1  \n",
                            "1                2      10  \n",
                            "2               30     192  \n",
                            "3                4      12  \n",
                            "4                0       1  "
                        ],
                        "text/html": [
                            "<div>\n",
                            "<style scoped>\n",
                            "    .dataframe tbody tr th:only-of-type {\n",
                            "        vertical-align: middle;\n",
                            "    }\n",
                            "\n",
                            "    .dataframe tbody tr th {\n",
                            "        vertical-align: top;\n",
                            "    }\n",
                            "\n",
                            "    .dataframe thead th {\n",
                            "        text-align: right;\n",
                            "    }\n",
                            "</style>\n",
                            "<table border=\"1\" class=\"dataframe\">\n",
                            "  <thead>\n",
                            "    <tr style=\"text-align: right;\">\n",
                            "      <th></th>\n",
                            "      <th>user_id</th>\n",
                            "      <th>last_timestamp</th>\n",
                            "      <th>is_gone_user</th>\n",
                            "      <th>correct</th>\n",
                            "      <th>wrong</th>\n",
                            "      <th>discovered</th>\n",
                            "      <th>passed</th>\n",
                            "      <th>started_attempt</th>\n",
                            "      <th>viewed</th>\n",
                            "    </tr>\n",
                            "  </thead>\n",
                            "  <tbody>\n",
                            "    <tr>\n",
                            "      <th>0</th>\n",
                            "      <td>1</td>\n",
                            "      <td>1472827464</td>\n",
                            "      <td>True</td>\n",
                            "      <td>0.0</td>\n",
                            "      <td>0.0</td>\n",
                            "      <td>1</td>\n",
                            "      <td>0</td>\n",
                            "      <td>0</td>\n",
                            "      <td>1</td>\n",
                            "    </tr>\n",
                            "    <tr>\n",
                            "      <th>1</th>\n",
                            "      <td>2</td>\n",
                            "      <td>1519226966</td>\n",
                            "      <td>True</td>\n",
                            "      <td>2.0</td>\n",
                            "      <td>0.0</td>\n",
                            "      <td>9</td>\n",
                            "      <td>9</td>\n",
                            "      <td>2</td>\n",
                            "      <td>10</td>\n",
                            "    </tr>\n",
                            "    <tr>\n",
                            "      <th>2</th>\n",
                            "      <td>3</td>\n",
                            "      <td>1444581588</td>\n",
                            "      <td>True</td>\n",
                            "      <td>29.0</td>\n",
                            "      <td>23.0</td>\n",
                            "      <td>91</td>\n",
                            "      <td>87</td>\n",
                            "      <td>30</td>\n",
                            "      <td>192</td>\n",
                            "    </tr>\n",
                            "    <tr>\n",
                            "      <th>3</th>\n",
                            "      <td>5</td>\n",
                            "      <td>1499859939</td>\n",
                            "      <td>True</td>\n",
                            "      <td>2.0</td>\n",
                            "      <td>2.0</td>\n",
                            "      <td>11</td>\n",
                            "      <td>11</td>\n",
                            "      <td>4</td>\n",
                            "      <td>12</td>\n",
                            "    </tr>\n",
                            "    <tr>\n",
                            "      <th>4</th>\n",
                            "      <td>7</td>\n",
                            "      <td>1521634660</td>\n",
                            "      <td>True</td>\n",
                            "      <td>0.0</td>\n",
                            "      <td>0.0</td>\n",
                            "      <td>1</td>\n",
                            "      <td>1</td>\n",
                            "      <td>0</td>\n",
                            "      <td>1</td>\n",
                            "    </tr>\n",
                            "  </tbody>\n",
                            "</table>\n",
                            "</div>"
                        ]
                    },
                    "metadata": {},
                    "execution_count": 26
                }
            ],
            "metadata": {}
        },
        {
            "cell_type": "markdown",
            "source": [
                "Добавим количество уникальных дней"
            ],
            "metadata": {}
        },
        {
            "cell_type": "code",
            "execution_count": 27,
            "source": [
                "users_days = events_trains.groupby('user_id').day.nunique()\r\n",
                "users_days = users_days.to_frame().reset_index()"
            ],
            "outputs": [],
            "metadata": {}
        },
        {
            "cell_type": "code",
            "execution_count": 28,
            "source": [
                "users_data = users_data.merge(users_days, how='outer')\r\n",
                "users_data.head()"
            ],
            "outputs": [
                {
                    "output_type": "execute_result",
                    "data": {
                        "text/plain": [
                            "   user_id  last_timestamp  is_gone_user  correct  wrong  discovered  passed  \\\n",
                            "0        1      1472827464          True      0.0    0.0           1       0   \n",
                            "1        2      1519226966          True      2.0    0.0           9       9   \n",
                            "2        3      1444581588          True     29.0   23.0          91      87   \n",
                            "3        5      1499859939          True      2.0    2.0          11      11   \n",
                            "4        7      1521634660          True      0.0    0.0           1       1   \n",
                            "\n",
                            "   started_attempt  viewed  day  \n",
                            "0                0       1    1  \n",
                            "1                2      10    2  \n",
                            "2               30     192    7  \n",
                            "3                4      12    2  \n",
                            "4                0       1    1  "
                        ],
                        "text/html": [
                            "<div>\n",
                            "<style scoped>\n",
                            "    .dataframe tbody tr th:only-of-type {\n",
                            "        vertical-align: middle;\n",
                            "    }\n",
                            "\n",
                            "    .dataframe tbody tr th {\n",
                            "        vertical-align: top;\n",
                            "    }\n",
                            "\n",
                            "    .dataframe thead th {\n",
                            "        text-align: right;\n",
                            "    }\n",
                            "</style>\n",
                            "<table border=\"1\" class=\"dataframe\">\n",
                            "  <thead>\n",
                            "    <tr style=\"text-align: right;\">\n",
                            "      <th></th>\n",
                            "      <th>user_id</th>\n",
                            "      <th>last_timestamp</th>\n",
                            "      <th>is_gone_user</th>\n",
                            "      <th>correct</th>\n",
                            "      <th>wrong</th>\n",
                            "      <th>discovered</th>\n",
                            "      <th>passed</th>\n",
                            "      <th>started_attempt</th>\n",
                            "      <th>viewed</th>\n",
                            "      <th>day</th>\n",
                            "    </tr>\n",
                            "  </thead>\n",
                            "  <tbody>\n",
                            "    <tr>\n",
                            "      <th>0</th>\n",
                            "      <td>1</td>\n",
                            "      <td>1472827464</td>\n",
                            "      <td>True</td>\n",
                            "      <td>0.0</td>\n",
                            "      <td>0.0</td>\n",
                            "      <td>1</td>\n",
                            "      <td>0</td>\n",
                            "      <td>0</td>\n",
                            "      <td>1</td>\n",
                            "      <td>1</td>\n",
                            "    </tr>\n",
                            "    <tr>\n",
                            "      <th>1</th>\n",
                            "      <td>2</td>\n",
                            "      <td>1519226966</td>\n",
                            "      <td>True</td>\n",
                            "      <td>2.0</td>\n",
                            "      <td>0.0</td>\n",
                            "      <td>9</td>\n",
                            "      <td>9</td>\n",
                            "      <td>2</td>\n",
                            "      <td>10</td>\n",
                            "      <td>2</td>\n",
                            "    </tr>\n",
                            "    <tr>\n",
                            "      <th>2</th>\n",
                            "      <td>3</td>\n",
                            "      <td>1444581588</td>\n",
                            "      <td>True</td>\n",
                            "      <td>29.0</td>\n",
                            "      <td>23.0</td>\n",
                            "      <td>91</td>\n",
                            "      <td>87</td>\n",
                            "      <td>30</td>\n",
                            "      <td>192</td>\n",
                            "      <td>7</td>\n",
                            "    </tr>\n",
                            "    <tr>\n",
                            "      <th>3</th>\n",
                            "      <td>5</td>\n",
                            "      <td>1499859939</td>\n",
                            "      <td>True</td>\n",
                            "      <td>2.0</td>\n",
                            "      <td>2.0</td>\n",
                            "      <td>11</td>\n",
                            "      <td>11</td>\n",
                            "      <td>4</td>\n",
                            "      <td>12</td>\n",
                            "      <td>2</td>\n",
                            "    </tr>\n",
                            "    <tr>\n",
                            "      <th>4</th>\n",
                            "      <td>7</td>\n",
                            "      <td>1521634660</td>\n",
                            "      <td>True</td>\n",
                            "      <td>0.0</td>\n",
                            "      <td>0.0</td>\n",
                            "      <td>1</td>\n",
                            "      <td>1</td>\n",
                            "      <td>0</td>\n",
                            "      <td>1</td>\n",
                            "      <td>1</td>\n",
                            "    </tr>\n",
                            "  </tbody>\n",
                            "</table>\n",
                            "</div>"
                        ]
                    },
                    "metadata": {},
                    "execution_count": 28
                }
            ],
            "metadata": {}
        },
        {
            "cell_type": "markdown",
            "source": [
                "Проверяем, что никого не потеряли!"
            ],
            "metadata": {}
        },
        {
            "cell_type": "code",
            "execution_count": 29,
            "source": [
                "users_data.user_id.nunique() == events_trains.user_id.nunique()"
            ],
            "outputs": [
                {
                    "output_type": "execute_result",
                    "data": {
                        "text/plain": [
                            "True"
                        ]
                    },
                    "metadata": {},
                    "execution_count": 29
                }
            ],
            "metadata": {}
        },
        {
            "cell_type": "markdown",
            "source": [
                "Определим, прошел ли пользователь курс - набрал > 170 пройденных шагов"
            ],
            "metadata": {}
        },
        {
            "cell_type": "code",
            "execution_count": 30,
            "source": [
                "users_data['passed_course'] = users_data.passed > 170"
            ],
            "outputs": [],
            "metadata": {}
        },
        {
            "cell_type": "code",
            "execution_count": 31,
            "source": [
                "users_data.groupby('passed_course').count()"
            ],
            "outputs": [
                {
                    "output_type": "execute_result",
                    "data": {
                        "text/plain": [
                            "               user_id  last_timestamp  is_gone_user  correct  wrong  \\\n",
                            "passed_course                                                          \n",
                            "False            17809           17809         17809    17809  17809   \n",
                            "True              1425            1425          1425     1425   1425   \n",
                            "\n",
                            "               discovered  passed  started_attempt  viewed    day  \n",
                            "passed_course                                                      \n",
                            "False               17809   17809            17809   17809  17809  \n",
                            "True                 1425    1425             1425    1425   1425  "
                        ],
                        "text/html": [
                            "<div>\n",
                            "<style scoped>\n",
                            "    .dataframe tbody tr th:only-of-type {\n",
                            "        vertical-align: middle;\n",
                            "    }\n",
                            "\n",
                            "    .dataframe tbody tr th {\n",
                            "        vertical-align: top;\n",
                            "    }\n",
                            "\n",
                            "    .dataframe thead th {\n",
                            "        text-align: right;\n",
                            "    }\n",
                            "</style>\n",
                            "<table border=\"1\" class=\"dataframe\">\n",
                            "  <thead>\n",
                            "    <tr style=\"text-align: right;\">\n",
                            "      <th></th>\n",
                            "      <th>user_id</th>\n",
                            "      <th>last_timestamp</th>\n",
                            "      <th>is_gone_user</th>\n",
                            "      <th>correct</th>\n",
                            "      <th>wrong</th>\n",
                            "      <th>discovered</th>\n",
                            "      <th>passed</th>\n",
                            "      <th>started_attempt</th>\n",
                            "      <th>viewed</th>\n",
                            "      <th>day</th>\n",
                            "    </tr>\n",
                            "    <tr>\n",
                            "      <th>passed_course</th>\n",
                            "      <th></th>\n",
                            "      <th></th>\n",
                            "      <th></th>\n",
                            "      <th></th>\n",
                            "      <th></th>\n",
                            "      <th></th>\n",
                            "      <th></th>\n",
                            "      <th></th>\n",
                            "      <th></th>\n",
                            "      <th></th>\n",
                            "    </tr>\n",
                            "  </thead>\n",
                            "  <tbody>\n",
                            "    <tr>\n",
                            "      <th>False</th>\n",
                            "      <td>17809</td>\n",
                            "      <td>17809</td>\n",
                            "      <td>17809</td>\n",
                            "      <td>17809</td>\n",
                            "      <td>17809</td>\n",
                            "      <td>17809</td>\n",
                            "      <td>17809</td>\n",
                            "      <td>17809</td>\n",
                            "      <td>17809</td>\n",
                            "      <td>17809</td>\n",
                            "    </tr>\n",
                            "    <tr>\n",
                            "      <th>True</th>\n",
                            "      <td>1425</td>\n",
                            "      <td>1425</td>\n",
                            "      <td>1425</td>\n",
                            "      <td>1425</td>\n",
                            "      <td>1425</td>\n",
                            "      <td>1425</td>\n",
                            "      <td>1425</td>\n",
                            "      <td>1425</td>\n",
                            "      <td>1425</td>\n",
                            "      <td>1425</td>\n",
                            "    </tr>\n",
                            "  </tbody>\n",
                            "</table>\n",
                            "</div>"
                        ]
                    },
                    "metadata": {},
                    "execution_count": 31
                }
            ],
            "metadata": {}
        },
        {
            "cell_type": "markdown",
            "source": [
                "Выведем долю прошедших курс"
            ],
            "metadata": {}
        },
        {
            "cell_type": "code",
            "execution_count": 32,
            "source": [
                "users_data['passed_course'].value_counts(normalize=True)"
            ],
            "outputs": [
                {
                    "output_type": "execute_result",
                    "data": {
                        "text/plain": [
                            "False    0.925912\n",
                            "True     0.074088\n",
                            "Name: passed_course, dtype: float64"
                        ]
                    },
                    "metadata": {},
                    "execution_count": 32
                }
            ],
            "metadata": {}
        },
        {
            "cell_type": "markdown",
            "source": [
                "Сохраним предобработанные данные"
            ],
            "metadata": {}
        },
        {
            "cell_type": "code",
            "execution_count": 35,
            "source": [
                "events_trains.to_pickle('./data/events_data.pkl')\r\n",
                "submissions_data_train.to_pickle('./data/submissions_data.pkl')\r\n",
                "users_data.to_pickle('./data/students_data.pkl')"
            ],
            "outputs": [],
            "metadata": {}
        }
    ],
    "metadata": {
        "orig_nbformat": 4,
        "language_info": {
            "name": "python",
            "version": "3.8.10",
            "mimetype": "text/x-python",
            "codemirror_mode": {
                "name": "ipython",
                "version": 3
            },
            "pygments_lexer": "ipython3",
            "nbconvert_exporter": "python",
            "file_extension": ".py"
        },
        "kernelspec": {
            "name": "python3",
            "display_name": "Python 3.8.10 64-bit ('base': conda)"
        },
        "interpreter": {
            "hash": "188e6a6f1be7acb7ef13240439b1aed38d0658e28f5b11628d8f8d604f4d20f0"
        }
    },
    "nbformat": 4,
    "nbformat_minor": 2
}