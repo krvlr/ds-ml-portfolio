{
 "cells": [
  {
   "cell_type": "markdown",
   "id": "a0b819b7",
   "metadata": {},
   "source": [
    "## Проверка гипотез. Распределение Стьюдента (Т-распределение)  \n",
    "Если число наблюдений в выборке невелико и $\\sigma$ (стандартное отклонение генеральной совокупности) неизвестно (почти всегда),  \n",
    "используется распределение Стьюдента (T-distribution), чтобы описать, как будут себя вести все выборочные средние.  \n",
    "  \n",
    "В дальнейшем стоит использовать t - распределение для проверки гипотез, если нам неизвестно стандартное отклонение в генеральной совокупности,  \n",
    "необходимое для расчета стандартной ошибки, даже если объем выборки больше 30.  \n",
    "  \n",
    "Число степеней свободы (df) – количество элементов, которые могут варьироваться при расчете некоторого статистического показателя.  \n",
    "Например, если у нас есть 10 наблюдений и мы знаем среднее значение по этим 10 наблюдениям, то нам достаточно знать среднее и только 9 из них,  \n",
    "чтобы узнать, чему равен 10 оставшийся элемент. Т.е. у него нет никакой возможности варьировать свои значения."
   ]
  },
  {
   "cell_type": "code",
   "execution_count": 5,
   "id": "b1518b02",
   "metadata": {},
   "outputs": [],
   "source": [
    "import scipy.stats as st\n",
    "\n",
    "def p_value_calc(t, n, area='bt'):\n",
    "    df = n - 1\n",
    "    return {\n",
    "        'bt': 2 * (1 - st.t.cdf(abs(t), df)), # both tales\n",
    "        'lt': st.t.cdf(t, df), # lower tail\n",
    "        'ut': 1 - st.t.cdf(t, df) # upper tail\n",
    "           }[area]"
   ]
  },
  {
   "cell_type": "code",
   "execution_count": 6,
   "metadata": {},
   "outputs": [
    {
     "output_type": "stream",
     "name": "stdout",
     "text": [
      "t: 2.0000000000000018\np_value: 0.0569398499365914\np_value(X < 2.00 or X > 2.00) > alpha. Do not reject H0\n"
     ]
    }
   ],
   "source": [
    "M = 10\n",
    "\n",
    "mean = 10.8\n",
    "sd = 2\n",
    "n = 25\n",
    "\n",
    "# H0: M = 10\n",
    "# H1: M != 10\n",
    "alpha = 0.05\n",
    "\n",
    "t = (mean - M) / (sd / (n ** 0.5))\n",
    "print('t:', t)\n",
    "\n",
    "p_value = p_value_calc(t, n)\n",
    "print('p_value:', p_value)\n",
    "\n",
    "if p_value > alpha:\n",
    "    print(f'p_value(X < {t:.2f} or X > {t:.2f}) > alpha. Do not reject H0')\n",
    "else:\n",
    "    print(f'p_value(X < {t:.2f} or X > {t:.2f}) < alpha. Reject H0')"
   ]
  },
  {
   "source": [
    "### Задача  \n",
    "Утверждается, что шарики для подшипников, изготовленные автоматическим станком, имеют средний диаметр d = 10 мм.  \n",
    "Используя односторонний критерий с α = 0,05, проверить эту гипотезу, если в выборке из n = 16 шариков средний диаметр  \n",
    "оказался равным 10,3 мм, а дисперсия известна и равна = 1."
   ],
   "cell_type": "markdown",
   "metadata": {}
  },
  {
   "cell_type": "code",
   "execution_count": 7,
   "id": "b49e6e56",
   "metadata": {},
   "outputs": [
    {
     "output_type": "stream",
     "name": "stdout",
     "text": [
      "t:  1.2000000000000028\np_value:  0.12437489369401078\np_value(X > 1.20) > alpha. Do not reject H0\n"
     ]
    }
   ],
   "source": [
    "M = 10\n",
    "\n",
    "mean = 10.3\n",
    "sd = D = 1\n",
    "n = 16\n",
    "\n",
    "# H0: M = 10\n",
    "# H1: M! = 10\n",
    "alpha = 0.05\n",
    "\n",
    "t = (mean - M) / (sd / n ** 0.5)\n",
    "print('t: ', t)\n",
    "\n",
    "p_value = p_value_calc(t, n, area='ut')\n",
    "print('p_value: ', p_value)\n",
    "\n",
    "if p_value > alpha:\n",
    "    print(f'p_value(X > {t:.2f}) > alpha. Do not reject H0')\n",
    "else:\n",
    "    print(f'p_value(X > {t:.2f}) < alpha. Reject H0')"
   ]
  },
  {
   "source": [
    "### Задача  \n",
    "Продавец утверждает, что средний вес пачки чая составляет 100 г. Из партии извлечена выборка и взвешена.  \n",
    "Вес каждой пачки - см. таблицу. Не противоречит ли это утверждению продавца?  \n",
    "Доверительная вероятность 99%. Вес пачек чая распределен нормально.\n",
    "\n"
   ],
   "cell_type": "markdown",
   "metadata": {}
  },
  {
   "cell_type": "code",
   "execution_count": 8,
   "id": "585574ac",
   "metadata": {},
   "outputs": [
    {
     "output_type": "stream",
     "name": "stdout",
     "text": [
      "t: -0.8741572761215297\np_value: 0.40475467173969104\np_value(X < -0.87 or X > -0.87) > alpha. Do not reject H0\n"
     ]
    }
   ],
   "source": [
    "import numpy as np\n",
    "\n",
    "M = 100\n",
    "\n",
    "sample = np.array([98, 104, 97, 97, 101, 100, 99, 101, 99, 98])\n",
    "n = len(sample)\n",
    "\n",
    "# H0: M = 100\n",
    "# H1: M != 100\n",
    "alpha = 0.01\n",
    "\n",
    "mean = np.mean(sample)\n",
    "sd = np.std(sample, ddof=1)\n",
    "\n",
    "t = (mean - M) / (sd / n ** 0.5)\n",
    "print('t:', t)\n",
    "\n",
    "p_value = p_value_calc(t, n, area='bt')\n",
    "print('p_value:', p_value)\n",
    "\n",
    "if p_value > alpha:\n",
    "    print(f'p_value(X < {t:.2f} or X > {t:.2f}) > alpha. Do not reject H0')\n",
    "else:\n",
    "    print(f'p_value(X < {t:.2f} or X > {t:.2f}) < alpha. Reject H0')"
   ]
  },
  {
   "cell_type": "code",
   "execution_count": null,
   "id": "8f950028",
   "metadata": {},
   "outputs": [],
   "source": []
  }
 ],
 "metadata": {
  "kernelspec": {
   "name": "python3",
   "display_name": "Python 3.8.8 64-bit (conda)"
  },
  "language_info": {
   "codemirror_mode": {
    "name": "ipython",
    "version": 3
   },
   "file_extension": ".py",
   "mimetype": "text/x-python",
   "name": "python",
   "nbconvert_exporter": "python",
   "pygments_lexer": "ipython3",
   "version": "3.8.8"
  },
  "interpreter": {
   "hash": "b3ba2566441a7c06988d0923437866b63cedc61552a5af99d1f4fb67d367b25f"
  }
 },
 "nbformat": 4,
 "nbformat_minor": 5
}