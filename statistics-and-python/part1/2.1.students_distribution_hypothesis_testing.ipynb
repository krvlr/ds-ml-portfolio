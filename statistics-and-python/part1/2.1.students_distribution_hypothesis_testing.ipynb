{
 "cells": [
  {
   "cell_type": "markdown",
   "source": [
    "## Проверка гипотез. Распределение Стьюдента (Т-распределение)  \n",
    "Если число наблюдений в выборке невелико и $\\sigma$ (стандартное отклонение генеральной совокупности) неизвестно (почти всегда),  \n",
    "используется распределение Стьюдента (T-distribution), чтобы описать, как будут себя вести все выборочные средние.  \n",
    "  \n",
    "В дальнейшем стоит использовать t - распределение для проверки гипотез, если нам неизвестно стандартное отклонение в генеральной совокупности,  \n",
    "необходимое для расчета стандартной ошибки, даже если объем выборки больше 30.  \n",
    "  \n",
    "Число степеней свободы (df) – количество элементов, которые могут варьироваться при расчете некоторого статистического показателя.  \n",
    "Например, если у нас есть 10 наблюдений и мы знаем среднее значение по этим 10 наблюдениям, то нам достаточно знать среднее и только 9 из них,  \n",
    "чтобы узнать, чему равен 10 оставшийся элемент. Т.е. у него нет никакой возможности варьировать свои значения."
   ],
   "metadata": {}
  },
  {
   "cell_type": "code",
   "execution_count": 5,
   "source": [
    "import scipy.stats as st\r\n",
    "\r\n",
    "def p_value_calc(t, n, area='bt'):\r\n",
    "    df = n - 1\r\n",
    "    return {\r\n",
    "        'bt': 2 * (1 - st.t.cdf(abs(t), df)), # both tales\r\n",
    "        'lt': st.t.cdf(t, df), # lower tail\r\n",
    "        'ut': 1 - st.t.cdf(t, df) # upper tail\r\n",
    "           }[area]"
   ],
   "outputs": [],
   "metadata": {}
  },
  {
   "cell_type": "code",
   "execution_count": 6,
   "source": [
    "M = 10\r\n",
    "\r\n",
    "mean = 10.8\r\n",
    "sd = 2\r\n",
    "n = 25\r\n",
    "\r\n",
    "# H0: M = 10\r\n",
    "# H1: M != 10\r\n",
    "alpha = 0.05\r\n",
    "\r\n",
    "t = (mean - M) / (sd / (n ** 0.5))\r\n",
    "print('t:', t)\r\n",
    "\r\n",
    "p_value = p_value_calc(t, n)\r\n",
    "print('p_value:', p_value)\r\n",
    "\r\n",
    "if p_value > alpha:\r\n",
    "    print(f'p_value(X < {t:.2f} or X > {t:.2f}) > alpha. Do not reject H0')\r\n",
    "else:\r\n",
    "    print(f'p_value(X < {t:.2f} or X > {t:.2f}) < alpha. Reject H0')"
   ],
   "outputs": [
    {
     "output_type": "stream",
     "name": "stdout",
     "text": [
      "t: 2.0000000000000018\n",
      "p_value: 0.0569398499365914\n",
      "p_value(X < 2.00 or X > 2.00) > alpha. Do not reject H0\n"
     ]
    }
   ],
   "metadata": {}
  },
  {
   "cell_type": "markdown",
   "source": [
    "### Задача  \n",
    "Утверждается, что шарики для подшипников, изготовленные автоматическим станком, имеют средний диаметр d = 10 мм.  \n",
    "Используя односторонний критерий с α = 0,05, проверить эту гипотезу, если в выборке из n = 16 шариков средний диаметр  \n",
    "оказался равным 10,3 мм, а дисперсия известна и равна = 1."
   ],
   "metadata": {}
  },
  {
   "cell_type": "code",
   "execution_count": 7,
   "source": [
    "M = 10\r\n",
    "\r\n",
    "mean = 10.3\r\n",
    "sd = D = 1\r\n",
    "n = 16\r\n",
    "\r\n",
    "# H0: M = 10\r\n",
    "# H1: M! = 10\r\n",
    "alpha = 0.05\r\n",
    "\r\n",
    "t = (mean - M) / (sd / n ** 0.5)\r\n",
    "print('t: ', t)\r\n",
    "\r\n",
    "p_value = p_value_calc(t, n, area='ut')\r\n",
    "print('p_value: ', p_value)\r\n",
    "\r\n",
    "if p_value > alpha:\r\n",
    "    print(f'p_value(X > {t:.2f}) > alpha. Do not reject H0')\r\n",
    "else:\r\n",
    "    print(f'p_value(X > {t:.2f}) < alpha. Reject H0')"
   ],
   "outputs": [
    {
     "output_type": "stream",
     "name": "stdout",
     "text": [
      "t:  1.2000000000000028\n",
      "p_value:  0.12437489369401078\n",
      "p_value(X > 1.20) > alpha. Do not reject H0\n"
     ]
    }
   ],
   "metadata": {}
  },
  {
   "cell_type": "markdown",
   "source": [
    "### Задача  \r\n",
    "Продавец утверждает, что средний вес пачки чая составляет 100 г. Из партии извлечена выборка и взвешена.  \r\n",
    "Вес каждой пачки - см. таблицу. Не противоречит ли это утверждению продавца?  \r\n",
    "Доверительная вероятность 99%. Вес пачек чая распределен нормально.\r\n",
    "\r\n"
   ],
   "metadata": {}
  },
  {
   "cell_type": "code",
   "execution_count": 8,
   "source": [
    "import numpy as np\r\n",
    "\r\n",
    "M = 100\r\n",
    "\r\n",
    "sample = np.array([98, 104, 97, 97, 101, 100, 99, 101, 99, 98])\r\n",
    "n = len(sample)\r\n",
    "\r\n",
    "# H0: M = 100\r\n",
    "# H1: M != 100\r\n",
    "alpha = 0.01\r\n",
    "\r\n",
    "mean = np.mean(sample)\r\n",
    "sd = np.std(sample, ddof=1)\r\n",
    "\r\n",
    "t = (mean - M) / (sd / n ** 0.5)\r\n",
    "print('t:', t)\r\n",
    "\r\n",
    "p_value = p_value_calc(t, n, area='bt')\r\n",
    "print('p_value:', p_value)\r\n",
    "\r\n",
    "if p_value > alpha:\r\n",
    "    print(f'p_value(X < {t:.2f} or X > {t:.2f}) > alpha. Do not reject H0')\r\n",
    "else:\r\n",
    "    print(f'p_value(X < {t:.2f} or X > {t:.2f}) < alpha. Reject H0')"
   ],
   "outputs": [
    {
     "output_type": "stream",
     "name": "stdout",
     "text": [
      "t: -0.8741572761215297\n",
      "p_value: 0.40475467173969104\n",
      "p_value(X < -0.87 or X > -0.87) > alpha. Do not reject H0\n"
     ]
    }
   ],
   "metadata": {}
  }
 ],
 "metadata": {
  "kernelspec": {
   "name": "python3",
   "display_name": "Python 3.8.10 64-bit"
  },
  "language_info": {
   "codemirror_mode": {
    "name": "ipython",
    "version": 3
   },
   "file_extension": ".py",
   "mimetype": "text/x-python",
   "name": "python",
   "nbconvert_exporter": "python",
   "pygments_lexer": "ipython3",
   "version": "3.8.10"
  },
  "interpreter": {
   "hash": "188e6a6f1be7acb7ef13240439b1aed38d0658e28f5b11628d8f8d604f4d20f0"
  }
 },
 "nbformat": 4,
 "nbformat_minor": 5
}