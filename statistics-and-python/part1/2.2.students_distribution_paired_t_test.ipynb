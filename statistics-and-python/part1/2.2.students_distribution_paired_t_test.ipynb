{
 "cells": [
  {
   "cell_type": "markdown",
   "source": [
    "## Сравнение двух средних. t-критерий Стьюдента  \n",
    "Требования к данным:\n",
    "* Дисперсии внутри наших групп должны быть примерно одинаковы (требование гомогенности дисперсий).  \n",
    "Проверить можно с помощью критерия Левена и критерия Фишера\n",
    "* Если объем выборки недостаточно большой (меньше 30), то важно соблюдать требование о нормальности распределения двух выборок.  \n",
    "Если наблюдений больше 30, то t-тест неплохо справляется с поставленной задачей даже если распределение внутри выборок отличается от нормального."
   ],
   "metadata": {}
  },
  {
   "cell_type": "code",
   "execution_count": 1,
   "source": [
    "import scipy.stats as st\r\n",
    "\r\n",
    "def p_value_calc(t, n, area='bt'):\r\n",
    "    df = n - 1\r\n",
    "    return {\r\n",
    "        'bt': 2 * (1 - st.t.cdf(abs(t), df)), # both tales\r\n",
    "        'lt': st.t.cdf(t, df), # lower tail\r\n",
    "        'ut': 1 - st.t.cdf(t, df) # upper tail\r\n",
    "           }[area]"
   ],
   "outputs": [],
   "metadata": {}
  },
  {
   "cell_type": "markdown",
   "source": [
    "### Задача  \n",
    "Процесс денатурации белка представляет собой разрушение водородных связей между двумя цепями этой молекулы  \n",
    "и очень сильно зависит от температуры, с которой мы воздействуем на молекулу.  \n",
    "При сравнении 2 видов в исследовании были получены различия."
   ],
   "metadata": {}
  },
  {
   "cell_type": "code",
   "execution_count": 2,
   "source": [
    "mean1 = 89.9\r\n",
    "sd1 = 11.3\r\n",
    "n1 = 20\r\n",
    "\r\n",
    "mean2 = 80.7\r\n",
    "sd2 = 11.7\r\n",
    "n2 = 20"
   ],
   "outputs": [],
   "metadata": {}
  },
  {
   "cell_type": "markdown",
   "source": [
    "H0: M1 = M2  \n",
    "H1: M1 != M2  \n",
    "\n",
    "Для начала принимаем за правду факт того, что нулевая гипотеза верна. Если это так, то при многократном повторении нашего эксперимента  \n",
    "(извлекали выборки и рассчитывали разность между двумя выборочными средними значениями), X1 и X2 распределилась бы симметрично.  \n",
    "Если бы мы предположили, что на самом деле в ГС два средних равны, то и среднее значение разности этих значений равнялось бы нулю.  \n",
    "При этом стандартное отклонение (стандартная ошибка) рассчитывалась бы по формуле:"
   ],
   "metadata": {}
  },
  {
   "cell_type": "code",
   "execution_count": 3,
   "source": [
    "df = n1 + n2 - 2\r\n",
    "print('df:', df)"
   ],
   "outputs": [
    {
     "output_type": "stream",
     "name": "stdout",
     "text": [
      "df: 38\n"
     ]
    }
   ],
   "metadata": {}
  },
  {
   "cell_type": "markdown",
   "source": [
    "Как мы видим, стандартная ошибка среднего для первого среднего и стандартная ошибка для второго среднего вносят свой вклад.  \n",
    "Даже если мы вычисляем разность между двумя средними значениями, чем больше стандартная ошибка среднего для каждого из них,  \n",
    "тем больше возможных комбинаций может принять разность между этими средними значениями и тем больше будет вариативность такого показателя.\n",
    "\n",
    "При достаточно большом кол-ве наблюдений мы могли бы сказать, что распределение разности между двумя средними значениями приняло бы нормальный вид,  \n",
    "что будет правдой в соответствии с ЦПТ. Еще более точно будет сказать, что такое распределение будет соответствовать Т-распределению  \n",
    "с числом степеней свобод, которое рассчитывается по след формуле:"
   ],
   "metadata": {}
  },
  {
   "cell_type": "code",
   "execution_count": 4,
   "source": [
    "se = (sd1 ** 2 / n1 + sd2 ** 2 / n2) ** 0.5\r\n",
    "print('se:', se)"
   ],
   "outputs": [
    {
     "output_type": "stream",
     "name": "stdout",
     "text": [
      "se: 3.6371692289471493\n"
     ]
    }
   ],
   "metadata": {}
  },
  {
   "cell_type": "markdown",
   "source": [
    "Основываясь на этой информации, мы можем рассчитать, насколько далеко конкретно наша разность между двумя средними отклонилась  \n",
    "от предполагаемого показателя ГС, тем самым рассчитать вероятность получить такие же или еще более выраженные отклонения при условии что на самом деле верна H0"
   ],
   "metadata": {}
  },
  {
   "cell_type": "code",
   "execution_count": 5,
   "source": [
    "t = (mean1 - mean2) / se\r\n",
    "print('t:', t)"
   ],
   "outputs": [
    {
     "output_type": "stream",
     "name": "stdout",
     "text": [
      "t: 2.529439633102561\n"
     ]
    }
   ],
   "metadata": {}
  },
  {
   "cell_type": "markdown",
   "source": [
    "Рассчитав соответствующее t значение и зная число степеней свободы, мы можем рассчитать соответствующий р-уровень значимости,  \n",
    "который скажет нам какая вероятность получить такое или еще более выраженное отличие между 2 средними, если на деле верна нулевая гипотеза."
   ],
   "metadata": {}
  },
  {
   "cell_type": "code",
   "execution_count": 6,
   "source": [
    "p_value = p_value_calc(t, df)\r\n",
    "print('p_value:', p_value)\r\n",
    "\r\n",
    "alpha = 0.05\r\n",
    "\r\n",
    "if p_value > alpha:\r\n",
    "    print(f'p_value(X < {t:.2f} or X > {t:.2f}) > alpha. Do not reject H0')\r\n",
    "else:\r\n",
    "    print(f'p_value(X < {t:.2f} or X > {t:.2f}) < alpha. Reject H0')"
   ],
   "outputs": [
    {
     "output_type": "stream",
     "name": "stdout",
     "text": [
      "p_value: 0.015815754660169823\n",
      "p_value(X < 2.53 or X > 2.53) < alpha. Reject H0\n"
     ]
    }
   ],
   "metadata": {}
  },
  {
   "cell_type": "code",
   "execution_count": 7,
   "source": [
    "print('Парный t-тест scipy.stats: ', st.ttest_ind_from_stats(mean1, sd1, n1, mean2, sd2, n2, equal_var=True, alternative='two-sided'))\r\n",
    "\r\n",
    "# st.ttest_ind(array1, array2)"
   ],
   "outputs": [
    {
     "output_type": "stream",
     "name": "stdout",
     "text": [
      "Парный t-тест scipy.stats:  Ttest_indResult(statistic=2.529439633102561, pvalue=0.0156935300771004)\n"
     ]
    }
   ],
   "metadata": {}
  },
  {
   "cell_type": "code",
   "execution_count": 8,
   "source": [
    "import pandas as pd\r\n",
    "import matplotlib.pyplot as plt\r\n",
    "\r\n",
    "array1 = [84.7, 105.0, 98.9, 97.9, 108.7, 81.3, 99.4, 89.4, 93.0, 119.3, 99.2, 99.4, 97.1, 112.4, 99.8, 94.7, 114.0, 95.1, 115.5, 111.5]\r\n",
    "array2 = [57.2, 68.6, 104.4, 95.1, 89.9, 70.8, 83.5, 60.1, 75.7, 102.0, 69.0, 79.6, 68.9, 98.6, 76.0, 74.8, 56.0, 55.6, 69.4, 59.5]\r\n",
    "\r\n",
    "df = pd.DataFrame({'Выборка1': array1, 'Выборка2': array2}).agg(['mean', 'std', 'count', 'sem']).transpose()\r\n",
    "df.columns = ['Mx', 'SD', 'N', 'SE']\r\n",
    "\r\n",
    "p = 0.95\r\n",
    "K = st.t.ppf((1 + p) / 2, df['Mx'] - 1)\r\n",
    "df['interval'] = K * df['SE']\r\n",
    "\r\n",
    "fig, (ax1, ax2) = plt.subplots(nrows=1, ncols=2, figsize=(14, 9))\r\n",
    "\r\n",
    "bplot1 = ax1.boxplot([array1, array2],\r\n",
    "                     vert=True, \r\n",
    "                     patch_artist=True,\r\n",
    "                     labels=['Выборка1', 'Выборка2'])\r\n",
    "\r\n",
    "bplot2 = ax2.errorbar(x=df.index, y=df['Mx'], yerr=df['interval'],\\\r\n",
    "                      color=\"black\", capsize=3, marker=\"s\", markersize=4, mfc=\"red\", mec=\"black\", fmt ='o')\r\n",
    "\r\n",
    "colors = ['pink', 'lightgreen']\r\n",
    "for patch, color in zip(bplot1['boxes'], colors):\r\n",
    "    patch.set_facecolor(color)\r\n",
    "    \r\n",
    "for ax in [ax1, ax2]:\r\n",
    "    ax.yaxis.grid(True)\r\n",
    "    ax.set_title('Температура плавления ДНК двух типов')\r\n",
    "    ax.set_xlabel('Сравнение двух выборок')\r\n",
    "    ax.set_ylabel('Температура F')\r\n",
    "    \r\n",
    "plt.show()\r\n",
    "\r\n",
    "print('Парный t тест scipy.stats: ', st.ttest_ind(array1, array2))\r\n",
    "## scipy.stats.ttest_ind(a, b, axis=0, equal_var=True, nan_policy='propagate', alternative='two-sided')[source]"
   ],
   "outputs": [
    {
     "output_type": "display_data",
     "data": {
      "image/png": "[encoded data removed]",
      "image/svg+xml": "<?xml version=\"1.0\" encoding=\"utf-8\" standalone=\"no\"?>\r\n<!DOCTYPE svg PUBLIC \"-//W3C//DTD SVG 1.1//EN\"\r\n  \"http://www.w3.org/Graphics/SVG/1.1/DTD/svg11.dtd\">\r\n<!-- Created with matplotlib (https://matplotlib.org/) -->\r\n<svg height=\"549.455pt\" version=\"1.1\" viewBox=\"0 0 845.186067 549.455\" width=\"845.186067pt\" xmlns=\"http://www.w3.org/2000/svg\" xmlns:xlink=\"http://www.w3.org/1999/xlink\">\r\n <metadata>\r\n  <rdf:RDF xmlns:cc=\"http://creativecommons.org/ns#\" xmlns:dc=\"http://purl.org/dc/elements/1.1/\" xmlns:rdf=\"http://www.w3.org/1999/02/22-rdf-syntax-ns#\">\r\n   <cc:Work>\r\n    <dc:type rdf:resource=\"http://purl.org/dc/dcmitype/StillImage\"/>\r\n    <dc:date>2021-06-25T10:37:04.157740</dc:date>\r\n    <dc:format>image/svg+xml</dc:format>\r\n    <dc:creator>\r\n     <cc:Agent>\r\n      <dc:title>Matplotlib v3.3.4, https://matplotlib.org/</dc:title>\r\n     </cc:Agent>\r\n    </dc:creator>\r\n   </cc:Work>\r\n  </rdf:RDF>\r\n </metadata>\r\n <defs>\r\n  <style type=\"text/css\">*{stroke-linecap:butt;stroke-linejoin:round;}</style>\r\n </defs>\r\n <g id=\"figure_1\">\r\n  <g id=\"patch_1\">\r\n   <path d=\"M 0 549.455 \r\nL 845.186067 549.455 \r\nL 845.186067 0 \r\nL 0 0 \r\nz\r\n\" style=\"fill:none;\"/>\r\n  </g>\r\n  <g id=\"axes_1\">\r\n   <g id=\"patch_2\">\r\n    <path d=\"M 46.965625 511.558125 \r\nL 402.056534 511.558125 \r\nL 402.056534 22.318125 \r\nL 46.965625 22.318125 \r\nz\r\n\" style=\"fill:#ffffff;\"/>\r\n   </g>\r\n   <g id=\"matplotlib.axis_1\">\r\n    <g id=\"xtick_1\">\r\n     <g id=\"line2d_1\">\r\n      <defs>\r\n       <path d=\"M 0 0 \r\nL 0 3.5 \r\n\" id=\"mb49150e5b2\" style=\"stroke:#000000;stroke-width:0.8;\"/>\r\n      </defs>\r\n      <g>\r\n       <use style=\"stroke:#000000;stroke-width:0.8;\" x=\"135.738352\" xlink:href=\"#mb49150e5b2\" y=\"511.558125\"/>\r\n      </g>\r\n     </g>\r\n     <g id=\"text_1\">\r\n      <!-- Выборка1 -->\r\n      <g transform=\"translate(109.777415 526.326875)scale(0.1 -0.1)\">\r\n       <defs>\r\n        <path d=\"M 19.671875 34.8125 \r\nL 19.671875 8.109375 \r\nL 35.5 8.109375 \r\nQ 43.453125 8.109375 47.28125 11.40625 \r\nQ 51.125 14.703125 51.125 21.484375 \r\nQ 51.125 28.328125 47.28125 31.5625 \r\nQ 43.453125 34.8125 35.5 34.8125 \r\nz\r\nM 19.671875 64.796875 \r\nL 19.671875 42.828125 \r\nL 34.28125 42.828125 \r\nQ 41.5 42.828125 45.03125 45.53125 \r\nQ 48.578125 48.25 48.578125 53.8125 \r\nQ 48.578125 59.328125 45.03125 62.0625 \r\nQ 41.5 64.796875 34.28125 64.796875 \r\nz\r\nM 9.8125 72.90625 \r\nL 35.015625 72.90625 \r\nQ 46.296875 72.90625 52.390625 68.21875 \r\nQ 58.5 63.53125 58.5 54.890625 \r\nQ 58.5 48.1875 55.375 44.234375 \r\nQ 52.25 40.28125 46.1875 39.3125 \r\nQ 53.46875 37.75 57.5 32.78125 \r\nQ 61.53125 27.828125 61.53125 20.40625 \r\nQ 61.53125 10.640625 54.890625 5.3125 \r\nQ 48.25 0 35.984375 0 \r\nL 9.8125 0 \r\nz\r\n\" id=\"DejaVuSans-1042\"/>\r\n        <path d=\"M 61.078125 54.6875 \r\nL 70.0625 54.6875 \r\nL 70.0625 0 \r\nL 61.078125 0 \r\nz\r\nM 65.578125 56 \r\nz\r\nM 43.453125 16.21875 \r\nQ 43.453125 20.609375 40.25 22.90625 \r\nQ 37.0625 25.203125 30.90625 25.203125 \r\nL 18.109375 25.203125 \r\nL 18.109375 7.171875 \r\nL 30.90625 7.171875 \r\nQ 37.0625 7.171875 40.25 9.484375 \r\nQ 43.453125 11.8125 43.453125 16.21875 \r\nz\r\nM 9.078125 54.6875 \r\nL 18.109375 54.6875 \r\nL 18.109375 32.375 \r\nL 31.296875 32.375 \r\nQ 41.75 32.375 47.390625 28.390625 \r\nQ 53.03125 24.421875 53.03125 16.21875 \r\nQ 53.03125 8.015625 47.390625 4 \r\nQ 41.75 0 31.296875 0 \r\nL 9.078125 0 \r\nz\r\n\" id=\"DejaVuSans-1099\"/>\r\n        <path d=\"M 31.109375 56 \r\nQ 42.828125 56 49.515625 48.375 \r\nQ 56.203125 40.765625 56.203125 27.296875 \r\nQ 56.203125 13.875 49.515625 6.21875 \r\nQ 42.828125 -1.421875 31.109375 -1.421875 \r\nQ 19.34375 -1.421875 12.84375 6 \r\nQ 6.34375 13.421875 6 27.296875 \r\nL 5.71875 38.484375 \r\nQ 5.46875 44.28125 5.46875 46.296875 \r\nQ 5.46875 54.109375 8.296875 59.859375 \r\nQ 12.75 68.890625 20.4375 72.796875 \r\nQ 28.125 76.703125 41.015625 76.8125 \r\nQ 46.96875 76.859375 49.609375 77.6875 \r\nL 52.09375 70.5625 \r\nQ 49.703125 69.578125 47.515625 69.53125 \r\nL 35.296875 68.703125 \r\nQ 29.15625 68.265625 25.4375 66.109375 \r\nQ 15.71875 60.40625 14.796875 52.9375 \r\nL 14.453125 50.203125 \r\nQ 20.796875 56 31.109375 56 \r\nz\r\nM 31.109375 48.390625 \r\nQ 23.875 48.390625 19.671875 42.75 \r\nQ 15.484375 37.109375 15.484375 27.296875 \r\nQ 15.484375 17.484375 19.65625 11.84375 \r\nQ 23.828125 6.203125 31.109375 6.203125 \r\nQ 38.28125 6.203125 42.484375 11.859375 \r\nQ 46.6875 17.53125 46.6875 27.296875 \r\nQ 46.6875 37.015625 42.484375 42.703125 \r\nQ 38.28125 48.390625 31.109375 48.390625 \r\nz\r\n\" id=\"DejaVuSans-1073\"/>\r\n        <path d=\"M 30.609375 48.390625 \r\nQ 23.390625 48.390625 19.1875 42.75 \r\nQ 14.984375 37.109375 14.984375 27.296875 \r\nQ 14.984375 17.484375 19.15625 11.84375 \r\nQ 23.34375 6.203125 30.609375 6.203125 \r\nQ 37.796875 6.203125 41.984375 11.859375 \r\nQ 46.1875 17.53125 46.1875 27.296875 \r\nQ 46.1875 37.015625 41.984375 42.703125 \r\nQ 37.796875 48.390625 30.609375 48.390625 \r\nz\r\nM 30.609375 56 \r\nQ 42.328125 56 49.015625 48.375 \r\nQ 55.71875 40.765625 55.71875 27.296875 \r\nQ 55.71875 13.875 49.015625 6.21875 \r\nQ 42.328125 -1.421875 30.609375 -1.421875 \r\nQ 18.84375 -1.421875 12.171875 6.21875 \r\nQ 5.515625 13.875 5.515625 27.296875 \r\nQ 5.515625 40.765625 12.171875 48.375 \r\nQ 18.84375 56 30.609375 56 \r\nz\r\n\" id=\"DejaVuSans-1086\"/>\r\n        <path d=\"M 18.109375 8.203125 \r\nL 18.109375 -20.796875 \r\nL 9.078125 -20.796875 \r\nL 9.078125 54.6875 \r\nL 18.109375 54.6875 \r\nL 18.109375 46.390625 \r\nQ 20.953125 51.265625 25.265625 53.625 \r\nQ 29.59375 56 35.59375 56 \r\nQ 45.5625 56 51.78125 48.09375 \r\nQ 58.015625 40.1875 58.015625 27.296875 \r\nQ 58.015625 14.40625 51.78125 6.484375 \r\nQ 45.5625 -1.421875 35.59375 -1.421875 \r\nQ 29.59375 -1.421875 25.265625 0.953125 \r\nQ 20.953125 3.328125 18.109375 8.203125 \r\nz\r\nM 48.6875 27.296875 \r\nQ 48.6875 37.203125 44.609375 42.84375 \r\nQ 40.53125 48.484375 33.40625 48.484375 \r\nQ 26.265625 48.484375 22.1875 42.84375 \r\nQ 18.109375 37.203125 18.109375 27.296875 \r\nQ 18.109375 17.390625 22.1875 11.75 \r\nQ 26.265625 6.109375 33.40625 6.109375 \r\nQ 40.53125 6.109375 44.609375 11.75 \r\nQ 48.6875 17.390625 48.6875 27.296875 \r\nz\r\n\" id=\"DejaVuSans-1088\"/>\r\n        <path d=\"M 9.078125 54.6875 \r\nL 18.015625 54.6875 \r\nL 18.015625 29 \r\nL 43.359375 54.6875 \r\nL 54.390625 54.6875 \r\nL 33.5 33.546875 \r\nL 57.078125 0 \r\nL 47.015625 0 \r\nL 27.640625 27.59375 \r\nL 18.015625 17.828125 \r\nL 18.015625 0 \r\nL 9.078125 0 \r\nz\r\n\" id=\"DejaVuSans-1082\"/>\r\n        <path d=\"M 34.28125 27.484375 \r\nQ 23.390625 27.484375 19.1875 25 \r\nQ 14.984375 22.515625 14.984375 16.5 \r\nQ 14.984375 11.71875 18.140625 8.90625 \r\nQ 21.296875 6.109375 26.703125 6.109375 \r\nQ 34.1875 6.109375 38.703125 11.40625 \r\nQ 43.21875 16.703125 43.21875 25.484375 \r\nL 43.21875 27.484375 \r\nz\r\nM 52.203125 31.203125 \r\nL 52.203125 0 \r\nL 43.21875 0 \r\nL 43.21875 8.296875 \r\nQ 40.140625 3.328125 35.546875 0.953125 \r\nQ 30.953125 -1.421875 24.3125 -1.421875 \r\nQ 15.921875 -1.421875 10.953125 3.296875 \r\nQ 6 8.015625 6 15.921875 \r\nQ 6 25.140625 12.171875 29.828125 \r\nQ 18.359375 34.515625 30.609375 34.515625 \r\nL 43.21875 34.515625 \r\nL 43.21875 35.40625 \r\nQ 43.21875 41.609375 39.140625 45 \r\nQ 35.0625 48.390625 27.6875 48.390625 \r\nQ 23 48.390625 18.546875 47.265625 \r\nQ 14.109375 46.140625 10.015625 43.890625 \r\nL 10.015625 52.203125 \r\nQ 14.9375 54.109375 19.578125 55.046875 \r\nQ 24.21875 56 28.609375 56 \r\nQ 40.484375 56 46.34375 49.84375 \r\nQ 52.203125 43.703125 52.203125 31.203125 \r\nz\r\n\" id=\"DejaVuSans-1072\"/>\r\n        <path d=\"M 12.40625 8.296875 \r\nL 28.515625 8.296875 \r\nL 28.515625 63.921875 \r\nL 10.984375 60.40625 \r\nL 10.984375 69.390625 \r\nL 28.421875 72.90625 \r\nL 38.28125 72.90625 \r\nL 38.28125 8.296875 \r\nL 54.390625 8.296875 \r\nL 54.390625 0 \r\nL 12.40625 0 \r\nz\r\n\" id=\"DejaVuSans-49\"/>\r\n       </defs>\r\n       <use xlink:href=\"#DejaVuSans-1042\"/>\r\n       <use x=\"68.603516\" xlink:href=\"#DejaVuSans-1099\"/>\r\n       <use x=\"147.558594\" xlink:href=\"#DejaVuSans-1073\"/>\r\n       <use x=\"209.228516\" xlink:href=\"#DejaVuSans-1086\"/>\r\n       <use x=\"270.410156\" xlink:href=\"#DejaVuSans-1088\"/>\r\n       <use x=\"333.886719\" xlink:href=\"#DejaVuSans-1082\"/>\r\n       <use x=\"394.287109\" xlink:href=\"#DejaVuSans-1072\"/>\r\n       <use x=\"455.566406\" xlink:href=\"#DejaVuSans-49\"/>\r\n      </g>\r\n     </g>\r\n    </g>\r\n    <g id=\"xtick_2\">\r\n     <g id=\"line2d_2\">\r\n      <g>\r\n       <use style=\"stroke:#000000;stroke-width:0.8;\" x=\"313.283807\" xlink:href=\"#mb49150e5b2\" y=\"511.558125\"/>\r\n      </g>\r\n     </g>\r\n     <g id=\"text_2\">\r\n      <!-- Выборка2 -->\r\n      <g transform=\"translate(287.322869 526.326875)scale(0.1 -0.1)\">\r\n       <defs>\r\n        <path d=\"M 19.1875 8.296875 \r\nL 53.609375 8.296875 \r\nL 53.609375 0 \r\nL 7.328125 0 \r\nL 7.328125 8.296875 \r\nQ 12.9375 14.109375 22.625 23.890625 \r\nQ 32.328125 33.6875 34.8125 36.53125 \r\nQ 39.546875 41.84375 41.421875 45.53125 \r\nQ 43.3125 49.21875 43.3125 52.78125 \r\nQ 43.3125 58.59375 39.234375 62.25 \r\nQ 35.15625 65.921875 28.609375 65.921875 \r\nQ 23.96875 65.921875 18.8125 64.3125 \r\nQ 13.671875 62.703125 7.8125 59.421875 \r\nL 7.8125 69.390625 \r\nQ 13.765625 71.78125 18.9375 73 \r\nQ 24.125 74.21875 28.421875 74.21875 \r\nQ 39.75 74.21875 46.484375 68.546875 \r\nQ 53.21875 62.890625 53.21875 53.421875 \r\nQ 53.21875 48.921875 51.53125 44.890625 \r\nQ 49.859375 40.875 45.40625 35.40625 \r\nQ 44.1875 33.984375 37.640625 27.21875 \r\nQ 31.109375 20.453125 19.1875 8.296875 \r\nz\r\n\" id=\"DejaVuSans-50\"/>\r\n       </defs>\r\n       <use xlink:href=\"#DejaVuSans-1042\"/>\r\n       <use x=\"68.603516\" xlink:href=\"#DejaVuSans-1099\"/>\r\n       <use x=\"147.558594\" xlink:href=\"#DejaVuSans-1073\"/>\r\n       <use x=\"209.228516\" xlink:href=\"#DejaVuSans-1086\"/>\r\n       <use x=\"270.410156\" xlink:href=\"#DejaVuSans-1088\"/>\r\n       <use x=\"333.886719\" xlink:href=\"#DejaVuSans-1082\"/>\r\n       <use x=\"394.287109\" xlink:href=\"#DejaVuSans-1072\"/>\r\n       <use x=\"455.566406\" xlink:href=\"#DejaVuSans-50\"/>\r\n      </g>\r\n     </g>\r\n    </g>\r\n    <g id=\"text_3\">\r\n     <!-- Сравнение двух выборок -->\r\n     <g transform=\"translate(158.102486 540.175312)scale(0.1 -0.1)\">\r\n      <defs>\r\n       <path d=\"M 64.40625 67.28125 \r\nL 64.40625 56.890625 \r\nQ 59.421875 61.53125 53.78125 63.8125 \r\nQ 48.140625 66.109375 41.796875 66.109375 \r\nQ 29.296875 66.109375 22.65625 58.46875 \r\nQ 16.015625 50.828125 16.015625 36.375 \r\nQ 16.015625 21.96875 22.65625 14.328125 \r\nQ 29.296875 6.6875 41.796875 6.6875 \r\nQ 48.140625 6.6875 53.78125 8.984375 \r\nQ 59.421875 11.28125 64.40625 15.921875 \r\nL 64.40625 5.609375 \r\nQ 59.234375 2.09375 53.4375 0.328125 \r\nQ 47.65625 -1.421875 41.21875 -1.421875 \r\nQ 24.65625 -1.421875 15.125 8.703125 \r\nQ 5.609375 18.84375 5.609375 36.375 \r\nQ 5.609375 53.953125 15.125 64.078125 \r\nQ 24.65625 74.21875 41.21875 74.21875 \r\nQ 47.75 74.21875 53.53125 72.484375 \r\nQ 59.328125 70.75 64.40625 67.28125 \r\nz\r\n\" id=\"DejaVuSans-1057\"/>\r\n       <path d=\"M 18.0625 25.203125 \r\nL 18.0625 7.171875 \r\nL 30.859375 7.171875 \r\nQ 37.015625 7.171875 40.234375 9.484375 \r\nQ 43.453125 11.8125 43.453125 16.21875 \r\nQ 43.453125 20.609375 40.234375 22.90625 \r\nQ 37.015625 25.203125 30.859375 25.203125 \r\nz\r\nM 18.0625 47.515625 \r\nL 18.0625 32.375 \r\nL 29.890625 32.375 \r\nQ 34.96875 32.375 38.1875 34.390625 \r\nQ 41.40625 36.421875 41.40625 40.046875 \r\nQ 41.40625 43.65625 38.1875 45.578125 \r\nQ 34.96875 47.515625 29.890625 47.515625 \r\nz\r\nM 9.078125 54.6875 \r\nL 30.46875 54.6875 \r\nQ 40.09375 54.6875 45.265625 51.171875 \r\nQ 50.4375 47.65625 50.4375 41.15625 \r\nQ 50.4375 36.140625 47.796875 33.171875 \r\nQ 45.171875 30.21875 39.984375 29.5 \r\nQ 46.1875 28.328125 49.609375 24.609375 \r\nQ 53.03125 20.90625 53.03125 15.328125 \r\nQ 53.03125 8.015625 47.390625 4 \r\nQ 41.75 0 31.296875 0 \r\nL 9.078125 0 \r\nz\r\n\" id=\"DejaVuSans-1074\"/>\r\n       <path d=\"M 9.078125 54.6875 \r\nL 18.109375 54.6875 \r\nL 18.109375 32.375 \r\nL 47.265625 32.375 \r\nL 47.265625 54.6875 \r\nL 56.296875 54.6875 \r\nL 56.296875 0 \r\nL 47.265625 0 \r\nL 47.265625 25.203125 \r\nL 18.109375 25.203125 \r\nL 18.109375 0 \r\nL 9.078125 0 \r\nz\r\n\" id=\"DejaVuSans-1085\"/>\r\n       <path d=\"M 56.203125 29.59375 \r\nL 56.203125 25.203125 \r\nL 14.890625 25.203125 \r\nQ 15.484375 15.921875 20.484375 11.0625 \r\nQ 25.484375 6.203125 34.421875 6.203125 \r\nQ 39.59375 6.203125 44.453125 7.46875 \r\nQ 49.3125 8.734375 54.109375 11.28125 \r\nL 54.109375 2.78125 \r\nQ 49.265625 0.734375 44.1875 -0.34375 \r\nQ 39.109375 -1.421875 33.890625 -1.421875 \r\nQ 20.796875 -1.421875 13.15625 6.1875 \r\nQ 5.515625 13.8125 5.515625 26.8125 \r\nQ 5.515625 40.234375 12.765625 48.109375 \r\nQ 20.015625 56 32.328125 56 \r\nQ 43.359375 56 49.78125 48.890625 \r\nQ 56.203125 41.796875 56.203125 29.59375 \r\nz\r\nM 47.21875 32.234375 \r\nQ 47.125 39.59375 43.09375 43.984375 \r\nQ 39.0625 48.390625 32.421875 48.390625 \r\nQ 24.90625 48.390625 20.390625 44.140625 \r\nQ 15.875 39.890625 15.1875 32.171875 \r\nz\r\n\" id=\"DejaVuSans-1077\"/>\r\n       <path d=\"M 55.90625 54.6875 \r\nL 55.90625 0 \r\nL 46.96875 0 \r\nL 46.96875 43.890625 \r\nL 20.609375 0 \r\nL 9.078125 0 \r\nL 9.078125 54.6875 \r\nL 18.015625 54.6875 \r\nL 18.015625 10.890625 \r\nL 44.34375 54.6875 \r\nz\r\n\" id=\"DejaVuSans-1080\"/>\r\n       <path id=\"DejaVuSans-32\"/>\r\n       <path d=\"M 21.625 7.171875 \r\nL 47.703125 7.171875 \r\nL 47.703125 47.515625 \r\nL 28.8125 47.515625 \r\nL 28.8125 40.671875 \r\nQ 28.8125 20.5625 23.046875 9.8125 \r\nz\r\nM 8.59375 7.171875 \r\nQ 13.03125 9.125 14.984375 13.28125 \r\nQ 19.78125 23.578125 19.78125 44.34375 \r\nL 19.78125 54.6875 \r\nL 56.734375 54.6875 \r\nL 56.734375 7.171875 \r\nL 63.921875 7.171875 \r\nL 63.921875 -13.8125 \r\nL 56.734375 -13.8125 \r\nL 56.734375 0 \r\nL 12.40625 0 \r\nL 12.40625 -13.8125 \r\nL 5.21875 -13.8125 \r\nL 5.21875 7.171875 \r\nz\r\n\" id=\"DejaVuSans-1076\"/>\r\n       <path d=\"M 32.171875 -5.078125 \r\nQ 28.375 -14.84375 24.75 -17.8125 \r\nQ 21.140625 -20.796875 15.09375 -20.796875 \r\nL 7.90625 -20.796875 \r\nL 7.90625 -13.28125 \r\nL 13.1875 -13.28125 \r\nQ 16.890625 -13.28125 18.9375 -11.515625 \r\nQ 21 -9.765625 23.484375 -3.21875 \r\nL 25.09375 0.875 \r\nL 2.984375 54.6875 \r\nL 12.5 54.6875 \r\nL 29.59375 11.921875 \r\nL 46.6875 54.6875 \r\nL 56.203125 54.6875 \r\nz\r\n\" id=\"DejaVuSans-1091\"/>\r\n       <path d=\"M 54.890625 54.6875 \r\nL 35.109375 28.078125 \r\nL 55.90625 0 \r\nL 45.3125 0 \r\nL 29.390625 21.484375 \r\nL 13.484375 0 \r\nL 2.875 0 \r\nL 24.125 28.609375 \r\nL 4.6875 54.6875 \r\nL 15.28125 54.6875 \r\nL 29.78125 35.203125 \r\nL 44.28125 54.6875 \r\nz\r\n\" id=\"DejaVuSans-1093\"/>\r\n      </defs>\r\n      <use xlink:href=\"#DejaVuSans-1057\"/>\r\n      <use x=\"69.824219\" xlink:href=\"#DejaVuSans-1088\"/>\r\n      <use x=\"133.300781\" xlink:href=\"#DejaVuSans-1072\"/>\r\n      <use x=\"194.580078\" xlink:href=\"#DejaVuSans-1074\"/>\r\n      <use x=\"253.515625\" xlink:href=\"#DejaVuSans-1085\"/>\r\n      <use x=\"318.896484\" xlink:href=\"#DejaVuSans-1077\"/>\r\n      <use x=\"380.419922\" xlink:href=\"#DejaVuSans-1085\"/>\r\n      <use x=\"445.800781\" xlink:href=\"#DejaVuSans-1080\"/>\r\n      <use x=\"510.791016\" xlink:href=\"#DejaVuSans-1077\"/>\r\n      <use x=\"572.314453\" xlink:href=\"#DejaVuSans-32\"/>\r\n      <use x=\"604.101562\" xlink:href=\"#DejaVuSans-1076\"/>\r\n      <use x=\"673.242188\" xlink:href=\"#DejaVuSans-1074\"/>\r\n      <use x=\"732.177734\" xlink:href=\"#DejaVuSans-1091\"/>\r\n      <use x=\"791.357422\" xlink:href=\"#DejaVuSans-1093\"/>\r\n      <use x=\"850.537109\" xlink:href=\"#DejaVuSans-32\"/>\r\n      <use x=\"882.324219\" xlink:href=\"#DejaVuSans-1074\"/>\r\n      <use x=\"941.259766\" xlink:href=\"#DejaVuSans-1099\"/>\r\n      <use x=\"1020.214844\" xlink:href=\"#DejaVuSans-1073\"/>\r\n      <use x=\"1081.884766\" xlink:href=\"#DejaVuSans-1086\"/>\r\n      <use x=\"1143.066406\" xlink:href=\"#DejaVuSans-1088\"/>\r\n      <use x=\"1206.542969\" xlink:href=\"#DejaVuSans-1086\"/>\r\n      <use x=\"1267.724609\" xlink:href=\"#DejaVuSans-1082\"/>\r\n     </g>\r\n    </g>\r\n   </g>\r\n   <g id=\"matplotlib.axis_2\">\r\n    <g id=\"ytick_1\">\r\n     <g id=\"line2d_3\">\r\n      <path clip-path=\"url(#pbd187716ac)\" d=\"M 46.965625 458.598436 \r\nL 402.056534 458.598436 \r\n\" style=\"fill:none;stroke:#b0b0b0;stroke-linecap:square;stroke-width:0.8;\"/>\r\n     </g>\r\n     <g id=\"line2d_4\">\r\n      <defs>\r\n       <path d=\"M 0 0 \r\nL -3.5 0 \r\n\" id=\"m2d14d3576f\" style=\"stroke:#000000;stroke-width:0.8;\"/>\r\n      </defs>\r\n      <g>\r\n       <use style=\"stroke:#000000;stroke-width:0.8;\" x=\"46.965625\" xlink:href=\"#m2d14d3576f\" y=\"458.598436\"/>\r\n      </g>\r\n     </g>\r\n     <g id=\"text_4\">\r\n      <!-- 60 -->\r\n      <g transform=\"translate(27.240625 462.397655)scale(0.1 -0.1)\">\r\n       <defs>\r\n        <path d=\"M 33.015625 40.375 \r\nQ 26.375 40.375 22.484375 35.828125 \r\nQ 18.609375 31.296875 18.609375 23.390625 \r\nQ 18.609375 15.53125 22.484375 10.953125 \r\nQ 26.375 6.390625 33.015625 6.390625 \r\nQ 39.65625 6.390625 43.53125 10.953125 \r\nQ 47.40625 15.53125 47.40625 23.390625 \r\nQ 47.40625 31.296875 43.53125 35.828125 \r\nQ 39.65625 40.375 33.015625 40.375 \r\nz\r\nM 52.59375 71.296875 \r\nL 52.59375 62.3125 \r\nQ 48.875 64.0625 45.09375 64.984375 \r\nQ 41.3125 65.921875 37.59375 65.921875 \r\nQ 27.828125 65.921875 22.671875 59.328125 \r\nQ 17.53125 52.734375 16.796875 39.40625 \r\nQ 19.671875 43.65625 24.015625 45.921875 \r\nQ 28.375 48.1875 33.59375 48.1875 \r\nQ 44.578125 48.1875 50.953125 41.515625 \r\nQ 57.328125 34.859375 57.328125 23.390625 \r\nQ 57.328125 12.15625 50.6875 5.359375 \r\nQ 44.046875 -1.421875 33.015625 -1.421875 \r\nQ 20.359375 -1.421875 13.671875 8.265625 \r\nQ 6.984375 17.96875 6.984375 36.375 \r\nQ 6.984375 53.65625 15.1875 63.9375 \r\nQ 23.390625 74.21875 37.203125 74.21875 \r\nQ 40.921875 74.21875 44.703125 73.484375 \r\nQ 48.484375 72.75 52.59375 71.296875 \r\nz\r\n\" id=\"DejaVuSans-54\"/>\r\n        <path d=\"M 31.78125 66.40625 \r\nQ 24.171875 66.40625 20.328125 58.90625 \r\nQ 16.5 51.421875 16.5 36.375 \r\nQ 16.5 21.390625 20.328125 13.890625 \r\nQ 24.171875 6.390625 31.78125 6.390625 \r\nQ 39.453125 6.390625 43.28125 13.890625 \r\nQ 47.125 21.390625 47.125 36.375 \r\nQ 47.125 51.421875 43.28125 58.90625 \r\nQ 39.453125 66.40625 31.78125 66.40625 \r\nz\r\nM 31.78125 74.21875 \r\nQ 44.046875 74.21875 50.515625 64.515625 \r\nQ 56.984375 54.828125 56.984375 36.375 \r\nQ 56.984375 17.96875 50.515625 8.265625 \r\nQ 44.046875 -1.421875 31.78125 -1.421875 \r\nQ 19.53125 -1.421875 13.0625 8.265625 \r\nQ 6.59375 17.96875 6.59375 36.375 \r\nQ 6.59375 54.828125 13.0625 64.515625 \r\nQ 19.53125 74.21875 31.78125 74.21875 \r\nz\r\n\" id=\"DejaVuSans-48\"/>\r\n       </defs>\r\n       <use xlink:href=\"#DejaVuSans-54\"/>\r\n       <use x=\"63.623047\" xlink:href=\"#DejaVuSans-48\"/>\r\n      </g>\r\n     </g>\r\n    </g>\r\n    <g id=\"ytick_2\">\r\n     <g id=\"line2d_5\">\r\n      <path clip-path=\"url(#pbd187716ac)\" d=\"M 46.965625 388.776829 \r\nL 402.056534 388.776829 \r\n\" style=\"fill:none;stroke:#b0b0b0;stroke-linecap:square;stroke-width:0.8;\"/>\r\n     </g>\r\n     <g id=\"line2d_6\">\r\n      <g>\r\n       <use style=\"stroke:#000000;stroke-width:0.8;\" x=\"46.965625\" xlink:href=\"#m2d14d3576f\" y=\"388.776829\"/>\r\n      </g>\r\n     </g>\r\n     <g id=\"text_5\">\r\n      <!-- 70 -->\r\n      <g transform=\"translate(27.240625 392.576048)scale(0.1 -0.1)\">\r\n       <defs>\r\n        <path d=\"M 8.203125 72.90625 \r\nL 55.078125 72.90625 \r\nL 55.078125 68.703125 \r\nL 28.609375 0 \r\nL 18.3125 0 \r\nL 43.21875 64.59375 \r\nL 8.203125 64.59375 \r\nz\r\n\" id=\"DejaVuSans-55\"/>\r\n       </defs>\r\n       <use xlink:href=\"#DejaVuSans-55\"/>\r\n       <use x=\"63.623047\" xlink:href=\"#DejaVuSans-48\"/>\r\n      </g>\r\n     </g>\r\n    </g>\r\n    <g id=\"ytick_3\">\r\n     <g id=\"line2d_7\">\r\n      <path clip-path=\"url(#pbd187716ac)\" d=\"M 46.965625 318.955222 \r\nL 402.056534 318.955222 \r\n\" style=\"fill:none;stroke:#b0b0b0;stroke-linecap:square;stroke-width:0.8;\"/>\r\n     </g>\r\n     <g id=\"line2d_8\">\r\n      <g>\r\n       <use style=\"stroke:#000000;stroke-width:0.8;\" x=\"46.965625\" xlink:href=\"#m2d14d3576f\" y=\"318.955222\"/>\r\n      </g>\r\n     </g>\r\n     <g id=\"text_6\">\r\n      <!-- 80 -->\r\n      <g transform=\"translate(27.240625 322.754441)scale(0.1 -0.1)\">\r\n       <defs>\r\n        <path d=\"M 31.78125 34.625 \r\nQ 24.75 34.625 20.71875 30.859375 \r\nQ 16.703125 27.09375 16.703125 20.515625 \r\nQ 16.703125 13.921875 20.71875 10.15625 \r\nQ 24.75 6.390625 31.78125 6.390625 \r\nQ 38.8125 6.390625 42.859375 10.171875 \r\nQ 46.921875 13.96875 46.921875 20.515625 \r\nQ 46.921875 27.09375 42.890625 30.859375 \r\nQ 38.875 34.625 31.78125 34.625 \r\nz\r\nM 21.921875 38.8125 \r\nQ 15.578125 40.375 12.03125 44.71875 \r\nQ 8.5 49.078125 8.5 55.328125 \r\nQ 8.5 64.0625 14.71875 69.140625 \r\nQ 20.953125 74.21875 31.78125 74.21875 \r\nQ 42.671875 74.21875 48.875 69.140625 \r\nQ 55.078125 64.0625 55.078125 55.328125 \r\nQ 55.078125 49.078125 51.53125 44.71875 \r\nQ 48 40.375 41.703125 38.8125 \r\nQ 48.828125 37.15625 52.796875 32.3125 \r\nQ 56.78125 27.484375 56.78125 20.515625 \r\nQ 56.78125 9.90625 50.3125 4.234375 \r\nQ 43.84375 -1.421875 31.78125 -1.421875 \r\nQ 19.734375 -1.421875 13.25 4.234375 \r\nQ 6.78125 9.90625 6.78125 20.515625 \r\nQ 6.78125 27.484375 10.78125 32.3125 \r\nQ 14.796875 37.15625 21.921875 38.8125 \r\nz\r\nM 18.3125 54.390625 \r\nQ 18.3125 48.734375 21.84375 45.5625 \r\nQ 25.390625 42.390625 31.78125 42.390625 \r\nQ 38.140625 42.390625 41.71875 45.5625 \r\nQ 45.3125 48.734375 45.3125 54.390625 \r\nQ 45.3125 60.0625 41.71875 63.234375 \r\nQ 38.140625 66.40625 31.78125 66.40625 \r\nQ 25.390625 66.40625 21.84375 63.234375 \r\nQ 18.3125 60.0625 18.3125 54.390625 \r\nz\r\n\" id=\"DejaVuSans-56\"/>\r\n       </defs>\r\n       <use xlink:href=\"#DejaVuSans-56\"/>\r\n       <use x=\"63.623047\" xlink:href=\"#DejaVuSans-48\"/>\r\n      </g>\r\n     </g>\r\n    </g>\r\n    <g id=\"ytick_4\">\r\n     <g id=\"line2d_9\">\r\n      <path clip-path=\"url(#pbd187716ac)\" d=\"M 46.965625 249.133615 \r\nL 402.056534 249.133615 \r\n\" style=\"fill:none;stroke:#b0b0b0;stroke-linecap:square;stroke-width:0.8;\"/>\r\n     </g>\r\n     <g id=\"line2d_10\">\r\n      <g>\r\n       <use style=\"stroke:#000000;stroke-width:0.8;\" x=\"46.965625\" xlink:href=\"#m2d14d3576f\" y=\"249.133615\"/>\r\n      </g>\r\n     </g>\r\n     <g id=\"text_7\">\r\n      <!-- 90 -->\r\n      <g transform=\"translate(27.240625 252.932834)scale(0.1 -0.1)\">\r\n       <defs>\r\n        <path d=\"M 10.984375 1.515625 \r\nL 10.984375 10.5 \r\nQ 14.703125 8.734375 18.5 7.8125 \r\nQ 22.3125 6.890625 25.984375 6.890625 \r\nQ 35.75 6.890625 40.890625 13.453125 \r\nQ 46.046875 20.015625 46.78125 33.40625 \r\nQ 43.953125 29.203125 39.59375 26.953125 \r\nQ 35.25 24.703125 29.984375 24.703125 \r\nQ 19.046875 24.703125 12.671875 31.3125 \r\nQ 6.296875 37.9375 6.296875 49.421875 \r\nQ 6.296875 60.640625 12.9375 67.421875 \r\nQ 19.578125 74.21875 30.609375 74.21875 \r\nQ 43.265625 74.21875 49.921875 64.515625 \r\nQ 56.59375 54.828125 56.59375 36.375 \r\nQ 56.59375 19.140625 48.40625 8.859375 \r\nQ 40.234375 -1.421875 26.421875 -1.421875 \r\nQ 22.703125 -1.421875 18.890625 -0.6875 \r\nQ 15.09375 0.046875 10.984375 1.515625 \r\nz\r\nM 30.609375 32.421875 \r\nQ 37.25 32.421875 41.125 36.953125 \r\nQ 45.015625 41.5 45.015625 49.421875 \r\nQ 45.015625 57.28125 41.125 61.84375 \r\nQ 37.25 66.40625 30.609375 66.40625 \r\nQ 23.96875 66.40625 20.09375 61.84375 \r\nQ 16.21875 57.28125 16.21875 49.421875 \r\nQ 16.21875 41.5 20.09375 36.953125 \r\nQ 23.96875 32.421875 30.609375 32.421875 \r\nz\r\n\" id=\"DejaVuSans-57\"/>\r\n       </defs>\r\n       <use xlink:href=\"#DejaVuSans-57\"/>\r\n       <use x=\"63.623047\" xlink:href=\"#DejaVuSans-48\"/>\r\n      </g>\r\n     </g>\r\n    </g>\r\n    <g id=\"ytick_5\">\r\n     <g id=\"line2d_11\">\r\n      <path clip-path=\"url(#pbd187716ac)\" d=\"M 46.965625 179.312008 \r\nL 402.056534 179.312008 \r\n\" style=\"fill:none;stroke:#b0b0b0;stroke-linecap:square;stroke-width:0.8;\"/>\r\n     </g>\r\n     <g id=\"line2d_12\">\r\n      <g>\r\n       <use style=\"stroke:#000000;stroke-width:0.8;\" x=\"46.965625\" xlink:href=\"#m2d14d3576f\" y=\"179.312008\"/>\r\n      </g>\r\n     </g>\r\n     <g id=\"text_8\">\r\n      <!-- 100 -->\r\n      <g transform=\"translate(20.878125 183.111227)scale(0.1 -0.1)\">\r\n       <use xlink:href=\"#DejaVuSans-49\"/>\r\n       <use x=\"63.623047\" xlink:href=\"#DejaVuSans-48\"/>\r\n       <use x=\"127.246094\" xlink:href=\"#DejaVuSans-48\"/>\r\n      </g>\r\n     </g>\r\n    </g>\r\n    <g id=\"ytick_6\">\r\n     <g id=\"line2d_13\">\r\n      <path clip-path=\"url(#pbd187716ac)\" d=\"M 46.965625 109.490401 \r\nL 402.056534 109.490401 \r\n\" style=\"fill:none;stroke:#b0b0b0;stroke-linecap:square;stroke-width:0.8;\"/>\r\n     </g>\r\n     <g id=\"line2d_14\">\r\n      <g>\r\n       <use style=\"stroke:#000000;stroke-width:0.8;\" x=\"46.965625\" xlink:href=\"#m2d14d3576f\" y=\"109.490401\"/>\r\n      </g>\r\n     </g>\r\n     <g id=\"text_9\">\r\n      <!-- 110 -->\r\n      <g transform=\"translate(20.878125 113.28962)scale(0.1 -0.1)\">\r\n       <use xlink:href=\"#DejaVuSans-49\"/>\r\n       <use x=\"63.623047\" xlink:href=\"#DejaVuSans-49\"/>\r\n       <use x=\"127.246094\" xlink:href=\"#DejaVuSans-48\"/>\r\n      </g>\r\n     </g>\r\n    </g>\r\n    <g id=\"ytick_7\">\r\n     <g id=\"line2d_15\">\r\n      <path clip-path=\"url(#pbd187716ac)\" d=\"M 46.965625 39.668794 \r\nL 402.056534 39.668794 \r\n\" style=\"fill:none;stroke:#b0b0b0;stroke-linecap:square;stroke-width:0.8;\"/>\r\n     </g>\r\n     <g id=\"line2d_16\">\r\n      <g>\r\n       <use style=\"stroke:#000000;stroke-width:0.8;\" x=\"46.965625\" xlink:href=\"#m2d14d3576f\" y=\"39.668794\"/>\r\n      </g>\r\n     </g>\r\n     <g id=\"text_10\">\r\n      <!-- 120 -->\r\n      <g transform=\"translate(20.878125 43.468013)scale(0.1 -0.1)\">\r\n       <use xlink:href=\"#DejaVuSans-49\"/>\r\n       <use x=\"63.623047\" xlink:href=\"#DejaVuSans-50\"/>\r\n       <use x=\"127.246094\" xlink:href=\"#DejaVuSans-48\"/>\r\n      </g>\r\n     </g>\r\n    </g>\r\n    <g id=\"text_11\">\r\n     <!-- Температура F -->\r\n     <g transform=\"translate(14.798438 305.999062)rotate(-90)scale(0.1 -0.1)\">\r\n      <defs>\r\n       <path d=\"M -0.296875 72.90625 \r\nL 61.375 72.90625 \r\nL 61.375 64.59375 \r\nL 35.5 64.59375 \r\nL 35.5 0 \r\nL 25.59375 0 \r\nL 25.59375 64.59375 \r\nL -0.296875 64.59375 \r\nz\r\n\" id=\"DejaVuSans-1058\"/>\r\n       <path d=\"M 9.078125 54.6875 \r\nL 22.21875 54.6875 \r\nL 37.75 18.0625 \r\nL 53.328125 54.6875 \r\nL 66.359375 54.6875 \r\nL 66.359375 0 \r\nL 57.328125 0 \r\nL 57.328125 46.09375 \r\nL 42.234375 10.5 \r\nL 33.25 10.5 \r\nL 18.109375 46.09375 \r\nL 18.109375 0 \r\nL 9.078125 0 \r\nz\r\n\" id=\"DejaVuSans-1084\"/>\r\n       <path d=\"M 56.296875 54.6875 \r\nL 56.296875 0 \r\nL 47.265625 0 \r\nL 47.265625 47.515625 \r\nL 18.109375 47.515625 \r\nL 18.109375 0 \r\nL 9.078125 0 \r\nL 9.078125 54.6875 \r\nz\r\n\" id=\"DejaVuSans-1087\"/>\r\n       <path d=\"M 2.9375 54.6875 \r\nL 55.328125 54.6875 \r\nL 55.328125 47.515625 \r\nL 33.546875 47.515625 \r\nL 33.546875 0 \r\nL 24.703125 0 \r\nL 24.703125 47.515625 \r\nL 2.9375 47.515625 \r\nz\r\n\" id=\"DejaVuSans-1090\"/>\r\n       <path d=\"M 9.8125 72.90625 \r\nL 51.703125 72.90625 \r\nL 51.703125 64.59375 \r\nL 19.671875 64.59375 \r\nL 19.671875 43.109375 \r\nL 48.578125 43.109375 \r\nL 48.578125 34.8125 \r\nL 19.671875 34.8125 \r\nL 19.671875 0 \r\nL 9.8125 0 \r\nz\r\n\" id=\"DejaVuSans-70\"/>\r\n      </defs>\r\n      <use xlink:href=\"#DejaVuSans-1058\"/>\r\n      <use x=\"61.083984\" xlink:href=\"#DejaVuSans-1077\"/>\r\n      <use x=\"122.607422\" xlink:href=\"#DejaVuSans-1084\"/>\r\n      <use x=\"198.046875\" xlink:href=\"#DejaVuSans-1087\"/>\r\n      <use x=\"263.427734\" xlink:href=\"#DejaVuSans-1077\"/>\r\n      <use x=\"324.951172\" xlink:href=\"#DejaVuSans-1088\"/>\r\n      <use x=\"388.427734\" xlink:href=\"#DejaVuSans-1072\"/>\r\n      <use x=\"449.707031\" xlink:href=\"#DejaVuSans-1090\"/>\r\n      <use x=\"507.958984\" xlink:href=\"#DejaVuSans-1091\"/>\r\n      <use x=\"567.138672\" xlink:href=\"#DejaVuSans-1088\"/>\r\n      <use x=\"630.615234\" xlink:href=\"#DejaVuSans-1072\"/>\r\n      <use x=\"691.894531\" xlink:href=\"#DejaVuSans-32\"/>\r\n      <use x=\"723.681641\" xlink:href=\"#DejaVuSans-70\"/>\r\n     </g>\r\n    </g>\r\n   </g>\r\n   <g id=\"line2d_17\">\r\n    <path clip-path=\"url(#pbd187716ac)\" d=\"M 135.738352 214.222812 \r\nL 135.738352 309.878413 \r\n\" style=\"fill:none;stroke:#000000;stroke-linecap:square;\"/>\r\n   </g>\r\n   <g id=\"line2d_18\">\r\n    <path clip-path=\"url(#pbd187716ac)\" d=\"M 135.738352 113.679698 \r\nL 135.738352 44.556307 \r\n\" style=\"fill:none;stroke:#000000;stroke-linecap:square;\"/>\r\n   </g>\r\n   <g id=\"line2d_19\">\r\n    <path clip-path=\"url(#pbd187716ac)\" d=\"M 129.080398 309.878413 \r\nL 142.396307 309.878413 \r\n\" style=\"fill:none;stroke:#000000;stroke-linecap:square;\"/>\r\n   </g>\r\n   <g id=\"line2d_20\">\r\n    <path clip-path=\"url(#pbd187716ac)\" d=\"M 129.080398 44.556307 \r\nL 142.396307 44.556307 \r\n\" style=\"fill:none;stroke:#000000;stroke-linecap:square;\"/>\r\n   </g>\r\n   <g id=\"line2d_21\"/>\r\n   <g id=\"line2d_22\">\r\n    <path clip-path=\"url(#pbd187716ac)\" d=\"M 313.283807 413.388946 \r\nL 313.283807 489.319943 \r\n\" style=\"fill:none;stroke:#000000;stroke-linecap:square;\"/>\r\n   </g>\r\n   <g id=\"line2d_23\">\r\n    <path clip-path=\"url(#pbd187716ac)\" d=\"M 313.283807 283.346203 \r\nL 313.283807 148.590501 \r\n\" style=\"fill:none;stroke:#000000;stroke-linecap:square;\"/>\r\n   </g>\r\n   <g id=\"line2d_24\">\r\n    <path clip-path=\"url(#pbd187716ac)\" d=\"M 306.625852 489.319943 \r\nL 319.941761 489.319943 \r\n\" style=\"fill:none;stroke:#000000;stroke-linecap:square;\"/>\r\n   </g>\r\n   <g id=\"line2d_25\">\r\n    <path clip-path=\"url(#pbd187716ac)\" d=\"M 306.625852 148.590501 \r\nL 319.941761 148.590501 \r\n\" style=\"fill:none;stroke:#000000;stroke-linecap:square;\"/>\r\n   </g>\r\n   <g id=\"line2d_26\"/>\r\n   <g id=\"patch_3\">\r\n    <path clip-path=\"url(#pbd187716ac)\" d=\"M 122.422443 214.222812 \r\nL 149.054261 214.222812 \r\nL 149.054261 113.679698 \r\nL 122.422443 113.679698 \r\nL 122.422443 214.222812 \r\nz\r\n\" style=\"fill:#ffc0cb;stroke:#000000;stroke-linejoin:miter;\"/>\r\n   </g>\r\n   <g id=\"patch_4\">\r\n    <path clip-path=\"url(#pbd187716ac)\" d=\"M 299.967898 413.388946 \r\nL 326.599716 413.388946 \r\nL 326.599716 283.346203 \r\nL 299.967898 283.346203 \r\nL 299.967898 413.388946 \r\nz\r\n\" style=\"fill:#90ee90;stroke:#000000;stroke-linejoin:miter;\"/>\r\n   </g>\r\n   <g id=\"line2d_27\">\r\n    <path clip-path=\"url(#pbd187716ac)\" d=\"M 122.422443 184.199521 \r\nL 149.054261 184.199521 \r\n\" style=\"fill:none;stroke:#ff7f0e;stroke-linecap:square;\"/>\r\n   </g>\r\n   <g id=\"line2d_28\">\r\n    <path clip-path=\"url(#pbd187716ac)\" d=\"M 299.967898 369.226779 \r\nL 326.599716 369.226779 \r\n\" style=\"fill:none;stroke:#ff7f0e;stroke-linecap:square;\"/>\r\n   </g>\r\n   <g id=\"patch_5\">\r\n    <path d=\"M 46.965625 511.558125 \r\nL 46.965625 22.318125 \r\n\" style=\"fill:none;stroke:#000000;stroke-linecap:square;stroke-linejoin:miter;stroke-width:0.8;\"/>\r\n   </g>\r\n   <g id=\"patch_6\">\r\n    <path d=\"M 402.056534 511.558125 \r\nL 402.056534 22.318125 \r\n\" style=\"fill:none;stroke:#000000;stroke-linecap:square;stroke-linejoin:miter;stroke-width:0.8;\"/>\r\n   </g>\r\n   <g id=\"patch_7\">\r\n    <path d=\"M 46.965625 511.558125 \r\nL 402.056534 511.558125 \r\n\" style=\"fill:none;stroke:#000000;stroke-linecap:square;stroke-linejoin:miter;stroke-width:0.8;\"/>\r\n   </g>\r\n   <g id=\"patch_8\">\r\n    <path d=\"M 46.965625 22.318125 \r\nL 402.056534 22.318125 \r\n\" style=\"fill:none;stroke:#000000;stroke-linecap:square;stroke-linejoin:miter;stroke-width:0.8;\"/>\r\n   </g>\r\n   <g id=\"text_12\">\r\n    <!-- Температура плавления ДНК двух типов -->\r\n    <g transform=\"translate(94.668267 16.318125)scale(0.12 -0.12)\">\r\n     <defs>\r\n      <path d=\"M 3.71875 0 \r\nL 3.71875 7.46875 \r\nQ 12.59375 8.84375 15.328125 14.984375 \r\nQ 18.65625 23.640625 18.65625 45.75 \r\nL 18.65625 54.6875 \r\nL 55.609375 54.6875 \r\nL 55.609375 0 \r\nL 46.625 0 \r\nL 46.625 47.515625 \r\nL 27.640625 47.515625 \r\nL 27.640625 42.09375 \r\nQ 27.640625 21 23.34375 11.53125 \r\nQ 18.75 1.421875 3.71875 0 \r\nz\r\n\" id=\"DejaVuSans-1083\"/>\r\n      <path d=\"M 18.453125 38.921875 \r\nQ 18.453125 34.859375 21.578125 32.5625 \r\nQ 24.703125 30.28125 30.515625 30.28125 \r\nL 42.625 30.28125 \r\nL 42.625 47.515625 \r\nL 30.515625 47.515625 \r\nQ 24.703125 47.515625 21.578125 45.265625 \r\nQ 18.453125 43.015625 18.453125 38.921875 \r\nz\r\nM 5.671875 0 \r\nL 22.359375 23.96875 \r\nQ 16.703125 25.25 12.9375 28.59375 \r\nQ 9.1875 31.9375 9.1875 38.921875 \r\nQ 9.1875 46.828125 14.421875 50.75 \r\nQ 19.671875 54.6875 30.28125 54.6875 \r\nL 51.65625 54.6875 \r\nL 51.65625 0 \r\nL 42.625 0 \r\nL 42.625 23.09375 \r\nL 31.453125 23.09375 \r\nL 15.328125 0 \r\nz\r\n\" id=\"DejaVuSans-1103\"/>\r\n      <path d=\"M 22.796875 8.296875 \r\nL 55.03125 8.296875 \r\nL 55.03125 64.59375 \r\nL 31.34375 64.59375 \r\nL 31.34375 54.25 \r\nQ 31.34375 29.890625 25.875 13.71875 \r\nQ 24.75 10.40625 22.796875 8.296875 \r\nz\r\nM 8.40625 8.296875 \r\nQ 14.9375 11.375 16.796875 17.234375 \r\nQ 21.53125 32.28125 21.53125 59.125 \r\nL 21.53125 72.90625 \r\nL 64.890625 72.90625 \r\nL 64.890625 8.296875 \r\nL 73.1875 8.296875 \r\nL 73.1875 -15.671875 \r\nL 64.890625 -15.671875 \r\nL 64.890625 0 \r\nL 13.234375 0 \r\nL 13.234375 -15.671875 \r\nL 4.9375 -15.671875 \r\nL 4.9375 8.296875 \r\nz\r\n\" id=\"DejaVuSans-1044\"/>\r\n      <path d=\"M 9.8125 72.90625 \r\nL 19.671875 72.90625 \r\nL 19.671875 43.015625 \r\nL 55.515625 43.015625 \r\nL 55.515625 72.90625 \r\nL 65.375 72.90625 \r\nL 65.375 0 \r\nL 55.515625 0 \r\nL 55.515625 34.71875 \r\nL 19.671875 34.71875 \r\nL 19.671875 0 \r\nL 9.8125 0 \r\nz\r\n\" id=\"DejaVuSans-1053\"/>\r\n      <path d=\"M 9.8125 72.90625 \r\nL 19.671875 72.90625 \r\nL 19.671875 36.859375 \r\nL 54.9375 72.90625 \r\nL 67.578125 72.90625 \r\nL 39.40625 44.09375 \r\nL 69.046875 0 \r\nL 58.296875 0 \r\nL 33.015625 37.546875 \r\nL 19.671875 23.921875 \r\nL 19.671875 0 \r\nL 9.8125 0 \r\nz\r\n\" id=\"DejaVuSans-1050\"/>\r\n     </defs>\r\n     <use xlink:href=\"#DejaVuSans-1058\"/>\r\n     <use x=\"61.083984\" xlink:href=\"#DejaVuSans-1077\"/>\r\n     <use x=\"122.607422\" xlink:href=\"#DejaVuSans-1084\"/>\r\n     <use x=\"198.046875\" xlink:href=\"#DejaVuSans-1087\"/>\r\n     <use x=\"263.427734\" xlink:href=\"#DejaVuSans-1077\"/>\r\n     <use x=\"324.951172\" xlink:href=\"#DejaVuSans-1088\"/>\r\n     <use x=\"388.427734\" xlink:href=\"#DejaVuSans-1072\"/>\r\n     <use x=\"449.707031\" xlink:href=\"#DejaVuSans-1090\"/>\r\n     <use x=\"507.958984\" xlink:href=\"#DejaVuSans-1091\"/>\r\n     <use x=\"567.138672\" xlink:href=\"#DejaVuSans-1088\"/>\r\n     <use x=\"630.615234\" xlink:href=\"#DejaVuSans-1072\"/>\r\n     <use x=\"691.894531\" xlink:href=\"#DejaVuSans-32\"/>\r\n     <use x=\"723.681641\" xlink:href=\"#DejaVuSans-1087\"/>\r\n     <use x=\"789.0625\" xlink:href=\"#DejaVuSans-1083\"/>\r\n     <use x=\"852.978516\" xlink:href=\"#DejaVuSans-1072\"/>\r\n     <use x=\"914.257812\" xlink:href=\"#DejaVuSans-1074\"/>\r\n     <use x=\"973.193359\" xlink:href=\"#DejaVuSans-1083\"/>\r\n     <use x=\"1037.109375\" xlink:href=\"#DejaVuSans-1077\"/>\r\n     <use x=\"1098.632812\" xlink:href=\"#DejaVuSans-1085\"/>\r\n     <use x=\"1164.013672\" xlink:href=\"#DejaVuSans-1080\"/>\r\n     <use x=\"1229.003906\" xlink:href=\"#DejaVuSans-1103\"/>\r\n     <use x=\"1289.160156\" xlink:href=\"#DejaVuSans-32\"/>\r\n     <use x=\"1320.947266\" xlink:href=\"#DejaVuSans-1044\"/>\r\n     <use x=\"1399.072266\" xlink:href=\"#DejaVuSans-1053\"/>\r\n     <use x=\"1474.267578\" xlink:href=\"#DejaVuSans-1050\"/>\r\n     <use x=\"1545.263672\" xlink:href=\"#DejaVuSans-32\"/>\r\n     <use x=\"1577.050781\" xlink:href=\"#DejaVuSans-1076\"/>\r\n     <use x=\"1646.191406\" xlink:href=\"#DejaVuSans-1074\"/>\r\n     <use x=\"1705.126953\" xlink:href=\"#DejaVuSans-1091\"/>\r\n     <use x=\"1764.306641\" xlink:href=\"#DejaVuSans-1093\"/>\r\n     <use x=\"1823.486328\" xlink:href=\"#DejaVuSans-32\"/>\r\n     <use x=\"1855.273438\" xlink:href=\"#DejaVuSans-1090\"/>\r\n     <use x=\"1913.525391\" xlink:href=\"#DejaVuSans-1080\"/>\r\n     <use x=\"1978.515625\" xlink:href=\"#DejaVuSans-1087\"/>\r\n     <use x=\"2043.896484\" xlink:href=\"#DejaVuSans-1086\"/>\r\n     <use x=\"2105.078125\" xlink:href=\"#DejaVuSans-1074\"/>\r\n    </g>\r\n   </g>\r\n  </g>\r\n  <g id=\"axes_2\">\r\n   <g id=\"patch_9\">\r\n    <path d=\"M 473.074716 511.558125 \r\nL 828.165625 511.558125 \r\nL 828.165625 22.318125 \r\nL 473.074716 22.318125 \r\nz\r\n\" style=\"fill:#ffffff;\"/>\r\n   </g>\r\n   <g id=\"matplotlib.axis_3\">\r\n    <g id=\"xtick_3\">\r\n     <g id=\"line2d_29\">\r\n      <g>\r\n       <use style=\"stroke:#000000;stroke-width:0.8;\" x=\"489.215212\" xlink:href=\"#mb49150e5b2\" y=\"511.558125\"/>\r\n      </g>\r\n     </g>\r\n     <g id=\"text_13\">\r\n      <!-- Выборка1 -->\r\n      <g transform=\"translate(463.254274 526.326875)scale(0.1 -0.1)\">\r\n       <use xlink:href=\"#DejaVuSans-1042\"/>\r\n       <use x=\"68.603516\" xlink:href=\"#DejaVuSans-1099\"/>\r\n       <use x=\"147.558594\" xlink:href=\"#DejaVuSans-1073\"/>\r\n       <use x=\"209.228516\" xlink:href=\"#DejaVuSans-1086\"/>\r\n       <use x=\"270.410156\" xlink:href=\"#DejaVuSans-1088\"/>\r\n       <use x=\"333.886719\" xlink:href=\"#DejaVuSans-1082\"/>\r\n       <use x=\"394.287109\" xlink:href=\"#DejaVuSans-1072\"/>\r\n       <use x=\"455.566406\" xlink:href=\"#DejaVuSans-49\"/>\r\n      </g>\r\n     </g>\r\n    </g>\r\n    <g id=\"xtick_4\">\r\n     <g id=\"line2d_30\">\r\n      <g>\r\n       <use style=\"stroke:#000000;stroke-width:0.8;\" x=\"812.025129\" xlink:href=\"#mb49150e5b2\" y=\"511.558125\"/>\r\n      </g>\r\n     </g>\r\n     <g id=\"text_14\">\r\n      <!-- Выборка2 -->\r\n      <g transform=\"translate(786.064192 526.326875)scale(0.1 -0.1)\">\r\n       <use xlink:href=\"#DejaVuSans-1042\"/>\r\n       <use x=\"68.603516\" xlink:href=\"#DejaVuSans-1099\"/>\r\n       <use x=\"147.558594\" xlink:href=\"#DejaVuSans-1073\"/>\r\n       <use x=\"209.228516\" xlink:href=\"#DejaVuSans-1086\"/>\r\n       <use x=\"270.410156\" xlink:href=\"#DejaVuSans-1088\"/>\r\n       <use x=\"333.886719\" xlink:href=\"#DejaVuSans-1082\"/>\r\n       <use x=\"394.287109\" xlink:href=\"#DejaVuSans-1072\"/>\r\n       <use x=\"455.566406\" xlink:href=\"#DejaVuSans-50\"/>\r\n      </g>\r\n     </g>\r\n    </g>\r\n    <g id=\"text_15\">\r\n     <!-- Сравнение двух выборок -->\r\n     <g transform=\"translate(584.211577 540.175312)scale(0.1 -0.1)\">\r\n      <use xlink:href=\"#DejaVuSans-1057\"/>\r\n      <use x=\"69.824219\" xlink:href=\"#DejaVuSans-1088\"/>\r\n      <use x=\"133.300781\" xlink:href=\"#DejaVuSans-1072\"/>\r\n      <use x=\"194.580078\" xlink:href=\"#DejaVuSans-1074\"/>\r\n      <use x=\"253.515625\" xlink:href=\"#DejaVuSans-1085\"/>\r\n      <use x=\"318.896484\" xlink:href=\"#DejaVuSans-1077\"/>\r\n      <use x=\"380.419922\" xlink:href=\"#DejaVuSans-1085\"/>\r\n      <use x=\"445.800781\" xlink:href=\"#DejaVuSans-1080\"/>\r\n      <use x=\"510.791016\" xlink:href=\"#DejaVuSans-1077\"/>\r\n      <use x=\"572.314453\" xlink:href=\"#DejaVuSans-32\"/>\r\n      <use x=\"604.101562\" xlink:href=\"#DejaVuSans-1076\"/>\r\n      <use x=\"673.242188\" xlink:href=\"#DejaVuSans-1074\"/>\r\n      <use x=\"732.177734\" xlink:href=\"#DejaVuSans-1091\"/>\r\n      <use x=\"791.357422\" xlink:href=\"#DejaVuSans-1093\"/>\r\n      <use x=\"850.537109\" xlink:href=\"#DejaVuSans-32\"/>\r\n      <use x=\"882.324219\" xlink:href=\"#DejaVuSans-1074\"/>\r\n      <use x=\"941.259766\" xlink:href=\"#DejaVuSans-1099\"/>\r\n      <use x=\"1020.214844\" xlink:href=\"#DejaVuSans-1073\"/>\r\n      <use x=\"1081.884766\" xlink:href=\"#DejaVuSans-1086\"/>\r\n      <use x=\"1143.066406\" xlink:href=\"#DejaVuSans-1088\"/>\r\n      <use x=\"1206.542969\" xlink:href=\"#DejaVuSans-1086\"/>\r\n      <use x=\"1267.724609\" xlink:href=\"#DejaVuSans-1082\"/>\r\n     </g>\r\n    </g>\r\n   </g>\r\n   <g id=\"matplotlib.axis_4\">\r\n    <g id=\"ytick_8\">\r\n     <g id=\"line2d_31\">\r\n      <path clip-path=\"url(#p34d75546cd)\" d=\"M 473.074716 475.297114 \r\nL 828.165625 475.297114 \r\n\" style=\"fill:none;stroke:#b0b0b0;stroke-linecap:square;stroke-width:0.8;\"/>\r\n     </g>\r\n     <g id=\"line2d_32\">\r\n      <g>\r\n       <use style=\"stroke:#000000;stroke-width:0.8;\" x=\"473.074716\" xlink:href=\"#m2d14d3576f\" y=\"475.297114\"/>\r\n      </g>\r\n     </g>\r\n     <g id=\"text_16\">\r\n      <!-- 70 -->\r\n      <g transform=\"translate(453.349716 479.096333)scale(0.1 -0.1)\">\r\n       <use xlink:href=\"#DejaVuSans-55\"/>\r\n       <use x=\"63.623047\" xlink:href=\"#DejaVuSans-48\"/>\r\n      </g>\r\n     </g>\r\n    </g>\r\n    <g id=\"ytick_9\">\r\n     <g id=\"line2d_33\">\r\n      <path clip-path=\"url(#p34d75546cd)\" d=\"M 473.074716 414.390494 \r\nL 828.165625 414.390494 \r\n\" style=\"fill:none;stroke:#b0b0b0;stroke-linecap:square;stroke-width:0.8;\"/>\r\n     </g>\r\n     <g id=\"line2d_34\">\r\n      <g>\r\n       <use style=\"stroke:#000000;stroke-width:0.8;\" x=\"473.074716\" xlink:href=\"#m2d14d3576f\" y=\"414.390494\"/>\r\n      </g>\r\n     </g>\r\n     <g id=\"text_17\">\r\n      <!-- 75 -->\r\n      <g transform=\"translate(453.349716 418.189712)scale(0.1 -0.1)\">\r\n       <defs>\r\n        <path d=\"M 10.796875 72.90625 \r\nL 49.515625 72.90625 \r\nL 49.515625 64.59375 \r\nL 19.828125 64.59375 \r\nL 19.828125 46.734375 \r\nQ 21.96875 47.46875 24.109375 47.828125 \r\nQ 26.265625 48.1875 28.421875 48.1875 \r\nQ 40.625 48.1875 47.75 41.5 \r\nQ 54.890625 34.8125 54.890625 23.390625 \r\nQ 54.890625 11.625 47.5625 5.09375 \r\nQ 40.234375 -1.421875 26.90625 -1.421875 \r\nQ 22.3125 -1.421875 17.546875 -0.640625 \r\nQ 12.796875 0.140625 7.71875 1.703125 \r\nL 7.71875 11.625 \r\nQ 12.109375 9.234375 16.796875 8.0625 \r\nQ 21.484375 6.890625 26.703125 6.890625 \r\nQ 35.15625 6.890625 40.078125 11.328125 \r\nQ 45.015625 15.765625 45.015625 23.390625 \r\nQ 45.015625 31 40.078125 35.4375 \r\nQ 35.15625 39.890625 26.703125 39.890625 \r\nQ 22.75 39.890625 18.8125 39.015625 \r\nQ 14.890625 38.140625 10.796875 36.28125 \r\nz\r\n\" id=\"DejaVuSans-53\"/>\r\n       </defs>\r\n       <use xlink:href=\"#DejaVuSans-55\"/>\r\n       <use x=\"63.623047\" xlink:href=\"#DejaVuSans-53\"/>\r\n      </g>\r\n     </g>\r\n    </g>\r\n    <g id=\"ytick_10\">\r\n     <g id=\"line2d_35\">\r\n      <path clip-path=\"url(#p34d75546cd)\" d=\"M 473.074716 353.483873 \r\nL 828.165625 353.483873 \r\n\" style=\"fill:none;stroke:#b0b0b0;stroke-linecap:square;stroke-width:0.8;\"/>\r\n     </g>\r\n     <g id=\"line2d_36\">\r\n      <g>\r\n       <use style=\"stroke:#000000;stroke-width:0.8;\" x=\"473.074716\" xlink:href=\"#m2d14d3576f\" y=\"353.483873\"/>\r\n      </g>\r\n     </g>\r\n     <g id=\"text_18\">\r\n      <!-- 80 -->\r\n      <g transform=\"translate(453.349716 357.283092)scale(0.1 -0.1)\">\r\n       <use xlink:href=\"#DejaVuSans-56\"/>\r\n       <use x=\"63.623047\" xlink:href=\"#DejaVuSans-48\"/>\r\n      </g>\r\n     </g>\r\n    </g>\r\n    <g id=\"ytick_11\">\r\n     <g id=\"line2d_37\">\r\n      <path clip-path=\"url(#p34d75546cd)\" d=\"M 473.074716 292.577253 \r\nL 828.165625 292.577253 \r\n\" style=\"fill:none;stroke:#b0b0b0;stroke-linecap:square;stroke-width:0.8;\"/>\r\n     </g>\r\n     <g id=\"line2d_38\">\r\n      <g>\r\n       <use style=\"stroke:#000000;stroke-width:0.8;\" x=\"473.074716\" xlink:href=\"#m2d14d3576f\" y=\"292.577253\"/>\r\n      </g>\r\n     </g>\r\n     <g id=\"text_19\">\r\n      <!-- 85 -->\r\n      <g transform=\"translate(453.349716 296.376471)scale(0.1 -0.1)\">\r\n       <use xlink:href=\"#DejaVuSans-56\"/>\r\n       <use x=\"63.623047\" xlink:href=\"#DejaVuSans-53\"/>\r\n      </g>\r\n     </g>\r\n    </g>\r\n    <g id=\"ytick_12\">\r\n     <g id=\"line2d_39\">\r\n      <path clip-path=\"url(#p34d75546cd)\" d=\"M 473.074716 231.670632 \r\nL 828.165625 231.670632 \r\n\" style=\"fill:none;stroke:#b0b0b0;stroke-linecap:square;stroke-width:0.8;\"/>\r\n     </g>\r\n     <g id=\"line2d_40\">\r\n      <g>\r\n       <use style=\"stroke:#000000;stroke-width:0.8;\" x=\"473.074716\" xlink:href=\"#m2d14d3576f\" y=\"231.670632\"/>\r\n      </g>\r\n     </g>\r\n     <g id=\"text_20\">\r\n      <!-- 90 -->\r\n      <g transform=\"translate(453.349716 235.469851)scale(0.1 -0.1)\">\r\n       <use xlink:href=\"#DejaVuSans-57\"/>\r\n       <use x=\"63.623047\" xlink:href=\"#DejaVuSans-48\"/>\r\n      </g>\r\n     </g>\r\n    </g>\r\n    <g id=\"ytick_13\">\r\n     <g id=\"line2d_41\">\r\n      <path clip-path=\"url(#p34d75546cd)\" d=\"M 473.074716 170.764012 \r\nL 828.165625 170.764012 \r\n\" style=\"fill:none;stroke:#b0b0b0;stroke-linecap:square;stroke-width:0.8;\"/>\r\n     </g>\r\n     <g id=\"line2d_42\">\r\n      <g>\r\n       <use style=\"stroke:#000000;stroke-width:0.8;\" x=\"473.074716\" xlink:href=\"#m2d14d3576f\" y=\"170.764012\"/>\r\n      </g>\r\n     </g>\r\n     <g id=\"text_21\">\r\n      <!-- 95 -->\r\n      <g transform=\"translate(453.349716 174.56323)scale(0.1 -0.1)\">\r\n       <use xlink:href=\"#DejaVuSans-57\"/>\r\n       <use x=\"63.623047\" xlink:href=\"#DejaVuSans-53\"/>\r\n      </g>\r\n     </g>\r\n    </g>\r\n    <g id=\"ytick_14\">\r\n     <g id=\"line2d_43\">\r\n      <path clip-path=\"url(#p34d75546cd)\" d=\"M 473.074716 109.857391 \r\nL 828.165625 109.857391 \r\n\" style=\"fill:none;stroke:#b0b0b0;stroke-linecap:square;stroke-width:0.8;\"/>\r\n     </g>\r\n     <g id=\"line2d_44\">\r\n      <g>\r\n       <use style=\"stroke:#000000;stroke-width:0.8;\" x=\"473.074716\" xlink:href=\"#m2d14d3576f\" y=\"109.857391\"/>\r\n      </g>\r\n     </g>\r\n     <g id=\"text_22\">\r\n      <!-- 100 -->\r\n      <g transform=\"translate(446.987216 113.65661)scale(0.1 -0.1)\">\r\n       <use xlink:href=\"#DejaVuSans-49\"/>\r\n       <use x=\"63.623047\" xlink:href=\"#DejaVuSans-48\"/>\r\n       <use x=\"127.246094\" xlink:href=\"#DejaVuSans-48\"/>\r\n      </g>\r\n     </g>\r\n    </g>\r\n    <g id=\"ytick_15\">\r\n     <g id=\"line2d_45\">\r\n      <path clip-path=\"url(#p34d75546cd)\" d=\"M 473.074716 48.950771 \r\nL 828.165625 48.950771 \r\n\" style=\"fill:none;stroke:#b0b0b0;stroke-linecap:square;stroke-width:0.8;\"/>\r\n     </g>\r\n     <g id=\"line2d_46\">\r\n      <g>\r\n       <use style=\"stroke:#000000;stroke-width:0.8;\" x=\"473.074716\" xlink:href=\"#m2d14d3576f\" y=\"48.950771\"/>\r\n      </g>\r\n     </g>\r\n     <g id=\"text_23\">\r\n      <!-- 105 -->\r\n      <g transform=\"translate(446.987216 52.749989)scale(0.1 -0.1)\">\r\n       <use xlink:href=\"#DejaVuSans-49\"/>\r\n       <use x=\"63.623047\" xlink:href=\"#DejaVuSans-48\"/>\r\n       <use x=\"127.246094\" xlink:href=\"#DejaVuSans-53\"/>\r\n      </g>\r\n     </g>\r\n    </g>\r\n    <g id=\"text_24\">\r\n     <!-- Температура F -->\r\n     <g transform=\"translate(440.907528 305.999062)rotate(-90)scale(0.1 -0.1)\">\r\n      <use xlink:href=\"#DejaVuSans-1058\"/>\r\n      <use x=\"61.083984\" xlink:href=\"#DejaVuSans-1077\"/>\r\n      <use x=\"122.607422\" xlink:href=\"#DejaVuSans-1084\"/>\r\n      <use x=\"198.046875\" xlink:href=\"#DejaVuSans-1087\"/>\r\n      <use x=\"263.427734\" xlink:href=\"#DejaVuSans-1077\"/>\r\n      <use x=\"324.951172\" xlink:href=\"#DejaVuSans-1088\"/>\r\n      <use x=\"388.427734\" xlink:href=\"#DejaVuSans-1072\"/>\r\n      <use x=\"449.707031\" xlink:href=\"#DejaVuSans-1090\"/>\r\n      <use x=\"507.958984\" xlink:href=\"#DejaVuSans-1091\"/>\r\n      <use x=\"567.138672\" xlink:href=\"#DejaVuSans-1088\"/>\r\n      <use x=\"630.615234\" xlink:href=\"#DejaVuSans-1072\"/>\r\n      <use x=\"691.894531\" xlink:href=\"#DejaVuSans-32\"/>\r\n      <use x=\"723.681641\" xlink:href=\"#DejaVuSans-70\"/>\r\n     </g>\r\n    </g>\r\n   </g>\r\n   <g id=\"LineCollection_1\">\r\n    <path clip-path=\"url(#p34d75546cd)\" d=\"M 489.215212 155.302917 \r\nL 489.215212 44.556307 \r\n\" style=\"fill:none;stroke:#000000;stroke-width:1.5;\"/>\r\n    <path clip-path=\"url(#p34d75546cd)\" d=\"M 812.025129 489.319943 \r\nL 812.025129 321.554498 \r\n\" style=\"fill:none;stroke:#000000;stroke-width:1.5;\"/>\r\n   </g>\r\n   <g id=\"line2d_47\">\r\n    <defs>\r\n     <path d=\"M 3 0 \r\nL -3 -0 \r\n\" id=\"m983fdea308\" style=\"stroke:#000000;\"/>\r\n    </defs>\r\n    <g clip-path=\"url(#p34d75546cd)\">\r\n     <use style=\"stroke:#000000;\" x=\"489.215212\" xlink:href=\"#m983fdea308\" y=\"155.302917\"/>\r\n     <use style=\"stroke:#000000;\" x=\"812.025129\" xlink:href=\"#m983fdea308\" y=\"489.319943\"/>\r\n    </g>\r\n   </g>\r\n   <g id=\"line2d_48\">\r\n    <g clip-path=\"url(#p34d75546cd)\">\r\n     <use style=\"stroke:#000000;\" x=\"489.215212\" xlink:href=\"#m983fdea308\" y=\"44.556307\"/>\r\n     <use style=\"stroke:#000000;\" x=\"812.025129\" xlink:href=\"#m983fdea308\" y=\"321.554498\"/>\r\n    </g>\r\n   </g>\r\n   <g id=\"line2d_49\">\r\n    <defs>\r\n     <path d=\"M -2 2 \r\nL 2 2 \r\nL 2 -2 \r\nL -2 -2 \r\nz\r\n\" id=\"mb8673bf5a4\" style=\"stroke:#000000;stroke-linejoin:miter;\"/>\r\n    </defs>\r\n    <g clip-path=\"url(#p34d75546cd)\">\r\n     <use style=\"fill:#ff0000;stroke:#000000;stroke-linejoin:miter;\" x=\"489.215212\" xlink:href=\"#mb8673bf5a4\" y=\"99.929612\"/>\r\n     <use style=\"fill:#ff0000;stroke:#000000;stroke-linejoin:miter;\" x=\"812.025129\" xlink:href=\"#mb8673bf5a4\" y=\"405.43722\"/>\r\n    </g>\r\n   </g>\r\n   <g id=\"patch_10\">\r\n    <path d=\"M 473.074716 511.558125 \r\nL 473.074716 22.318125 \r\n\" style=\"fill:none;stroke:#000000;stroke-linecap:square;stroke-linejoin:miter;stroke-width:0.8;\"/>\r\n   </g>\r\n   <g id=\"patch_11\">\r\n    <path d=\"M 828.165625 511.558125 \r\nL 828.165625 22.318125 \r\n\" style=\"fill:none;stroke:#000000;stroke-linecap:square;stroke-linejoin:miter;stroke-width:0.8;\"/>\r\n   </g>\r\n   <g id=\"patch_12\">\r\n    <path d=\"M 473.074716 511.558125 \r\nL 828.165625 511.558125 \r\n\" style=\"fill:none;stroke:#000000;stroke-linecap:square;stroke-linejoin:miter;stroke-width:0.8;\"/>\r\n   </g>\r\n   <g id=\"patch_13\">\r\n    <path d=\"M 473.074716 22.318125 \r\nL 828.165625 22.318125 \r\n\" style=\"fill:none;stroke:#000000;stroke-linecap:square;stroke-linejoin:miter;stroke-width:0.8;\"/>\r\n   </g>\r\n   <g id=\"text_25\">\r\n    <!-- Температура плавления ДНК двух типов -->\r\n    <g transform=\"translate(520.777358 16.318125)scale(0.12 -0.12)\">\r\n     <use xlink:href=\"#DejaVuSans-1058\"/>\r\n     <use x=\"61.083984\" xlink:href=\"#DejaVuSans-1077\"/>\r\n     <use x=\"122.607422\" xlink:href=\"#DejaVuSans-1084\"/>\r\n     <use x=\"198.046875\" xlink:href=\"#DejaVuSans-1087\"/>\r\n     <use x=\"263.427734\" xlink:href=\"#DejaVuSans-1077\"/>\r\n     <use x=\"324.951172\" xlink:href=\"#DejaVuSans-1088\"/>\r\n     <use x=\"388.427734\" xlink:href=\"#DejaVuSans-1072\"/>\r\n     <use x=\"449.707031\" xlink:href=\"#DejaVuSans-1090\"/>\r\n     <use x=\"507.958984\" xlink:href=\"#DejaVuSans-1091\"/>\r\n     <use x=\"567.138672\" xlink:href=\"#DejaVuSans-1088\"/>\r\n     <use x=\"630.615234\" xlink:href=\"#DejaVuSans-1072\"/>\r\n     <use x=\"691.894531\" xlink:href=\"#DejaVuSans-32\"/>\r\n     <use x=\"723.681641\" xlink:href=\"#DejaVuSans-1087\"/>\r\n     <use x=\"789.0625\" xlink:href=\"#DejaVuSans-1083\"/>\r\n     <use x=\"852.978516\" xlink:href=\"#DejaVuSans-1072\"/>\r\n     <use x=\"914.257812\" xlink:href=\"#DejaVuSans-1074\"/>\r\n     <use x=\"973.193359\" xlink:href=\"#DejaVuSans-1083\"/>\r\n     <use x=\"1037.109375\" xlink:href=\"#DejaVuSans-1077\"/>\r\n     <use x=\"1098.632812\" xlink:href=\"#DejaVuSans-1085\"/>\r\n     <use x=\"1164.013672\" xlink:href=\"#DejaVuSans-1080\"/>\r\n     <use x=\"1229.003906\" xlink:href=\"#DejaVuSans-1103\"/>\r\n     <use x=\"1289.160156\" xlink:href=\"#DejaVuSans-32\"/>\r\n     <use x=\"1320.947266\" xlink:href=\"#DejaVuSans-1044\"/>\r\n     <use x=\"1399.072266\" xlink:href=\"#DejaVuSans-1053\"/>\r\n     <use x=\"1474.267578\" xlink:href=\"#DejaVuSans-1050\"/>\r\n     <use x=\"1545.263672\" xlink:href=\"#DejaVuSans-32\"/>\r\n     <use x=\"1577.050781\" xlink:href=\"#DejaVuSans-1076\"/>\r\n     <use x=\"1646.191406\" xlink:href=\"#DejaVuSans-1074\"/>\r\n     <use x=\"1705.126953\" xlink:href=\"#DejaVuSans-1091\"/>\r\n     <use x=\"1764.306641\" xlink:href=\"#DejaVuSans-1093\"/>\r\n     <use x=\"1823.486328\" xlink:href=\"#DejaVuSans-32\"/>\r\n     <use x=\"1855.273438\" xlink:href=\"#DejaVuSans-1090\"/>\r\n     <use x=\"1913.525391\" xlink:href=\"#DejaVuSans-1080\"/>\r\n     <use x=\"1978.515625\" xlink:href=\"#DejaVuSans-1087\"/>\r\n     <use x=\"2043.896484\" xlink:href=\"#DejaVuSans-1086\"/>\r\n     <use x=\"2105.078125\" xlink:href=\"#DejaVuSans-1074\"/>\r\n    </g>\r\n   </g>\r\n  </g>\r\n </g>\r\n <defs>\r\n  <clipPath id=\"pbd187716ac\">\r\n   <rect height=\"489.24\" width=\"355.090909\" x=\"46.965625\" y=\"22.318125\"/>\r\n  </clipPath>\r\n  <clipPath id=\"p34d75546cd\">\r\n   <rect height=\"489.24\" width=\"355.090909\" x=\"473.074716\" y=\"22.318125\"/>\r\n  </clipPath>\r\n </defs>\r\n</svg>\r\n",
      "text/plain": [
       "<Figure size 1008x648 with 2 Axes>"
      ]
     },
     "metadata": {
      "needs_background": "light"
     }
    },
    {
     "output_type": "stream",
     "name": "stdout",
     "text": [
      "Парный t тест scipy.stats:  Ttest_indResult(statistic=6.04781958789892, pvalue=4.894702897415829e-07)\n"
     ]
    }
   ],
   "metadata": {}
  },
  {
   "cell_type": "markdown",
   "source": [
    "### Задача\n",
    "Ожидается, что добавление специальных веществ уменьшит жесткость воды. По оценке жесткости воды до после добавления специальных веществ по 40-ка и 50-ти  \n",
    "пробам соответственно получим средние значения жесткости (в стандартных единицах),  равные 4,0 и 0,8. Дисперсия измерений в обоих случаях предполагается равна 0,25.  \n",
    "Подтверждают ли эти результаты ожидаемый эффект? Принять α = 0,05. Контролируемая величина имеет нормальное распределение."
   ],
   "metadata": {}
  },
  {
   "cell_type": "code",
   "execution_count": 9,
   "source": [
    "n1 = 40\r\n",
    "mean1 = 4.0\r\n",
    "\r\n",
    "n2 = 50\r\n",
    "mean2 = 0.8\r\n",
    "\r\n",
    "sd = 0.25 ** 0.5\r\n",
    "\r\n",
    "# H0: M1 = M2\r\n",
    "# H1: M1 != M2\r\n",
    "alpha = 0.05\r\n",
    "\r\n",
    "se = (sd ** 2 / n1 + sd ** 2 / n2) ** 0.5\r\n",
    "\r\n",
    "t = (mean1 - mean2) / se\r\n",
    "print('t:', t)\r\n",
    "\r\n",
    "df = n1 + n2 - 2\r\n",
    "p_value = p_value_calc(t, df)\r\n",
    "print('p_value:', p_value)\r\n",
    "\r\n",
    "if p_value > alpha:\r\n",
    "    print(f'p_value(X < {t:.2f} or X > {t:.2f}) > alpha. Do not reject H0')\r\n",
    "else:\r\n",
    "    print(f'p_value(X < {t:.2f} or X > {t:.2f}) < alpha. Reject H0')"
   ],
   "outputs": [
    {
     "output_type": "stream",
     "name": "stdout",
     "text": [
      "t: 30.16988933062603\n",
      "p_value: 0.0\n",
      "p_value(X < 30.17 or X > 30.17) < alpha. Reject H0\n"
     ]
    }
   ],
   "metadata": {}
  },
  {
   "cell_type": "code",
   "execution_count": 10,
   "source": [
    "se1 = sd / n1 ** 0.5\r\n",
    "print('Доверительный интервал для 1-го набора измерений', st.t.interval(0.95, n1 - 1, loc=mean1, scale=se1))\r\n",
    "\r\n",
    "se2 = sd / n2 ** 0.5\r\n",
    "print('Доверительный интервал для 2-го набора измерений', st.t.interval(0.95, n2 - 1, loc=mean2, scale=se2))"
   ],
   "outputs": [
    {
     "output_type": "stream",
     "name": "stdout",
     "text": [
      "Доверительный интервал для 1-го набора измерений (3.8400922429098916, 4.159907757090108)\n",
      "Доверительный интервал для 2-го набора измерений (0.6579015724388134, 0.9420984275611867)\n"
     ]
    }
   ],
   "metadata": {}
  },
  {
   "cell_type": "code",
   "execution_count": 11,
   "source": [
    "print('Парный t тест scipy.stats: ', st.ttest_ind_from_stats(mean1, sd, n1, mean2, sd, n2, equal_var=True, alternative='two-sided'))"
   ],
   "outputs": [
    {
     "output_type": "stream",
     "name": "stdout",
     "text": [
      "Парный t тест scipy.stats:  Ttest_indResult(statistic=30.16988933062603, pvalue=3.461615558926927e-48)\n"
     ]
    }
   ],
   "metadata": {}
  },
  {
   "cell_type": "markdown",
   "source": [
    "### Задача  \n",
    "Первые премии Оскар за лучшую мужскую и женскую роль были вручены в 1929.  \n",
    "Данные гистограммы демонстрируют распределение возраста победителей с 1929 по 2014 год (100 мужчин, 100 женщин).   \n",
    "Используя t - критерий проверьте, можно ли считать наблюдаемые различия в возрасте между лучшими актрисами  \n",
    "и актерами  статистически достоверными.\n",
    "Средний возраст мужчин равен 45, sd = 9.\n",
    "Средний возраст женщин равен 34, sd = 10."
   ],
   "metadata": {}
  },
  {
   "cell_type": "code",
   "execution_count": 12,
   "source": [
    "mean_man = 45\r\n",
    "sd_man = 9\r\n",
    "\r\n",
    "mean_woman = 34\r\n",
    "sd_woman = 10\r\n",
    "\r\n",
    "n = 100\r\n",
    "\r\n",
    "# H0: M1 = M2\r\n",
    "# H1: M1 != M2\r\n",
    "alpha = 0.05\r\n",
    "\r\n",
    "t_test_results = st.ttest_ind_from_stats(mean_man, sd_man, n, mean_woman, sd_woman, n, equal_var=True, alternative='two-sided')\r\n",
    "\r\n",
    "t = t_test_results.statistic\r\n",
    "print('t:', t)\r\n",
    "\r\n",
    "p_value = t_test_results.pvalue\r\n",
    "print('p_value:', p_value)\r\n",
    "\r\n",
    "if p_value > alpha:\r\n",
    "    print(f'p_value(X < {t:.2f} or X > {t:.2f}) > alpha. Do not reject H0')\r\n",
    "else:\r\n",
    "    print(f'p_value(X < {t:.2f} or X > {t:.2f}) < alpha. Reject H0')"
   ],
   "outputs": [
    {
     "output_type": "stream",
     "name": "stdout",
     "text": [
      "t: 8.176235608718828\n",
      "p_value: 3.455544014290269e-14\n",
      "p_value(X < 8.18 or X > 8.18) < alpha. Reject H0\n"
     ]
    }
   ],
   "metadata": {}
  },
  {
   "cell_type": "code",
   "execution_count": 13,
   "source": [
    "se1 = sd_man / n ** 0.5\r\n",
    "print('Доверительный интервал для лучших актёров', st.t.interval(0.95, n - 1, loc=mean_man, scale=se1))\r\n",
    "\r\n",
    "se2 = sd_woman / n ** 0.5\r\n",
    "print('Доверительный интервал для лучших актрис', st.t.interval(0.95, n - 1, loc=mean_woman, scale=se2))"
   ],
   "outputs": [
    {
     "output_type": "stream",
     "name": "stdout",
     "text": [
      "Доверительный интервал для лучших актёров (43.214204743642185, 46.785795256357815)\n",
      "Доверительный интервал для лучших актрис (32.015783048491315, 35.984216951508685)\n"
     ]
    }
   ],
   "metadata": {}
  },
  {
   "cell_type": "markdown",
   "source": [
    "## Непараметрический аналог t-критерию Стьюдента — U-критерий Манна-Уитни  \n",
    "Почему отклонения от нормального распределения могут негативно повлиять на результаты исследования?  \n",
    "Выбросы – экстремально высокие или экстремально низкие значения. Представьте, что мы добавим  \n",
    "очень маленькое наблюдение в 1 выборку, и очень большое во 2. На боксплоте и на QQ plot мы бы заметили,  \n",
    "что максимальное значение в выборке слишком максимально для нормального (слишком далеко отклонилось от среднего значения).  \n",
    "\n",
    "Всего два значения уничтожат все значимые результаты: Т-критерий Стьюдента скажет, что вероятность  \n",
    "получить такие или еще более выраженные различия составит 97%, нулевую гипотезу мы отклонить не сможем.  \n",
    "Если распределение признака отличается от нормального, можно использовать непараметрический аналог –  \n",
    "U-критерий Манна-Уитни. Он переводит все данные в ранговую шкалу (ранжирует показатели температуры от 1 до последнего),  \n",
    "после этого считает какой средний ранг оказался в первой группе и какой во второй.  \n",
    "Этот критерий менее чувствителен к экстремальным отклонениям от нормальности и наличию выбросов."
   ],
   "metadata": {}
  },
  {
   "cell_type": "markdown",
   "source": [
    "Разумно применять вместо t - теста:  \n",
    "* Распределения хотя бы в одной из выборок значительно отличается от нормального. \n",
    "* Есть заметные выбросы в данных. \n",
    "* В некоторых задачах мощность теста даже выше, чем t критерия  \n",
    "(например, когда обеих выборках наблюдается заметная асимметрия в одинаковом направлении).  \n",
    "\n",
    "Неразумно применять:  \n",
    "* Выборки разного размера, с различным направлением асимметрии.  "
   ],
   "metadata": {}
  },
  {
   "cell_type": "markdown",
   "source": [
    "### Задача \n",
    "Результаты тестирования по 30-бальной шкале для группы X и группы Y представлены в таблице.  \n",
    "Сравнить эффективность двух методов обучения студентов в двух группах для уровня статистической значимости 5%"
   ],
   "metadata": {}
  },
  {
   "cell_type": "code",
   "execution_count": 14,
   "source": [
    "import numpy as np\r\n",
    "\r\n",
    "sample1 = [18, 10, 7, 15, 14, 11, 13]\r\n",
    "sample2 = [15, 20, 10, 8, 16, 10, 19, 7, 15, 14, 29]\r\n",
    "\r\n",
    "# H0: M1 = M2\r\n",
    "# H1: M1 != M2\r\n",
    "alpha = 0.05\r\n",
    "\r\n",
    "test_results = st.mannwhitneyu(sample1, sample2)\r\n",
    "\r\n",
    "u = test_results.statistic\r\n",
    "print('u:', u)\r\n",
    "\r\n",
    "p_value = test_results.pvalue\r\n",
    "print('p_value:', p_value)\r\n",
    "\r\n",
    "if p_value > alpha:\r\n",
    "    print(f'p_value(X < {u:.2f} or X > {u:.2f}) > alpha. Do not reject H0')\r\n",
    "else:\r\n",
    "    print(f'p_value(X < {u:.2f} or X > {u:.2f}) < alpha. Reject H0')"
   ],
   "outputs": [
    {
     "output_type": "stream",
     "name": "stdout",
     "text": [
      "u: 30.0\n",
      "p_value: 0.23321461069836286\n",
      "p_value(X < 30.00 or X > 30.00) > alpha. Do not reject H0\n"
     ]
    }
   ],
   "metadata": {}
  }
 ],
 "metadata": {
  "kernelspec": {
   "name": "python3",
   "display_name": "Python 3.8.8 64-bit (conda)"
  },
  "language_info": {
   "codemirror_mode": {
    "name": "ipython",
    "version": 3
   },
   "file_extension": ".py",
   "mimetype": "text/x-python",
   "name": "python",
   "nbconvert_exporter": "python",
   "pygments_lexer": "ipython3",
   "version": "3.8.8"
  },
  "interpreter": {
   "hash": "b3ba2566441a7c06988d0923437866b63cedc61552a5af99d1f4fb67d367b25f"
  }
 },
 "nbformat": 4,
 "nbformat_minor": 5
}