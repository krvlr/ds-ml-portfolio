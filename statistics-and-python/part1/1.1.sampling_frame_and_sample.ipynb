{
 "cells": [
  {
   "source": [
    "## Случайная выборка (simple random sample)  \n",
    "Случайный набор объектов из генеральной совокупности."
   ],
   "cell_type": "markdown",
   "metadata": {}
  },
  {
   "cell_type": "code",
   "execution_count": 1,
   "metadata": {},
   "outputs": [],
   "source": [
    "sampling_frame = list(range(0, 30))\n",
    "\n",
    "SIZE = 6"
   ]
  },
  {
   "cell_type": "code",
   "execution_count": 2,
   "id": "1562a658",
   "metadata": {},
   "outputs": [
    {
     "output_type": "stream",
     "name": "stdout",
     "text": [
      "[9, 17, 16, 14, 1, 8]\n"
     ]
    }
   ],
   "source": [
    "import random as rm\n",
    "\n",
    "sample = rm.sample(sampling_frame, SIZE)\n",
    "print(sample)"
   ]
  },
  {
   "cell_type": "code",
   "execution_count": 3,
   "metadata": {},
   "outputs": [
    {
     "output_type": "stream",
     "name": "stdout",
     "text": [
      "[26  4  4 11 19  4]\n"
     ]
    }
   ],
   "source": [
    "import numpy as np\n",
    "\n",
    "sample = np.random.choice(sampling_frame, size=SIZE)\n",
    "print(sample)"
   ]
  },
  {
   "cell_type": "code",
   "execution_count": 4,
   "metadata": {},
   "outputs": [
    {
     "output_type": "stream",
     "name": "stdout",
     "text": [
      "10000\n      Gender     Height      Weight\n4791    Male  66.183575  180.112060\n680     Male  68.608208  181.724837\n2249    Male  67.672653  169.810675\n4925    Male  69.388732  194.230428\n7833  Female  67.714481  147.672830\n8066  Female  65.518311  162.048231\n"
     ]
    }
   ],
   "source": [
    "import pandas as pd\n",
    "\n",
    "sampling_data_frame = pd.read_csv('./data/weight-height.csv')\n",
    "print(len(sampling_data_frame))\n",
    "\n",
    "sample = sampling_data_frame.sample(SIZE)\n",
    "print(sample)"
   ]
  },
  {
   "source": [
    "## Стратифицированная выборка (stratified sample)  \n",
    "Перед тем как случайным образом отобрать объекты из генеральной совокупности, разбиваем её на несколько страт (групп). Потом уже из этих групп случайно набираем по N объектов."
   ],
   "cell_type": "markdown",
   "metadata": {}
  },
  {
   "cell_type": "code",
   "execution_count": 5,
   "id": "f2b7bd4b",
   "metadata": {},
   "outputs": [
    {
     "output_type": "stream",
     "name": "stdout",
     "text": [
      "      Gender     Height      Weight\n9836  Female  64.895819  158.212861\n7296  Female  67.434864  170.955041\n8080  Female  69.156942  161.114171\n6933  Female  62.311533  136.236833\n9433  Female  69.300428  185.187970\n6788  Female  65.240941  155.400046\n4162    Male  69.701668  197.350489\n3807    Male  67.745804  197.923248\n436     Male  73.181044  213.847453\n4359    Male  71.789780  207.493691\n3025    Male  74.319890  210.041703\n4095    Male  73.749537  197.605875\n"
     ]
    }
   ],
   "source": [
    "sample = sampling_data_frame.groupby('Gender', group_keys=False).apply(lambda x: x.sample(min(len(x), SIZE)))\n",
    "\n",
    "print(sample)"
   ]
  },
  {
   "cell_type": "code",
   "execution_count": 6,
   "metadata": {},
   "outputs": [
    {
     "output_type": "stream",
     "name": "stdout",
     "text": [
      "Test len: 2000\nGender\nFemale    1000\nMale      1000\ndtype: int64\n"
     ]
    }
   ],
   "source": [
    "from sklearn.model_selection import train_test_split\n",
    "y = sampling_data_frame.get('Gender')\n",
    "\n",
    "train, test = train_test_split(sampling_data_frame, test_size=0.2, stratify=y, random_state=1)\n",
    "\n",
    "print('Test len:', len(test))\n",
    "print(test.groupby('Gender', group_keys=False).size())"
   ]
  },
  {
   "source": [
    "## Групповая выборка (cluster sample)  \n",
    "Сначала делим генеральную совокупность на кластеры, только считаем, что они между собой схожи. Потом случайно набираем объекты только из одного кластера для исследования."
   ],
   "cell_type": "markdown",
   "metadata": {}
  },
  {
   "cell_type": "code",
   "execution_count": 7,
   "id": "4c6cd66f",
   "metadata": {},
   "outputs": [
    {
     "output_type": "stream",
     "name": "stdout",
     "text": [
      "   Product  Price Discount\n82     BCA    118    False\n63     BCA    122    False\n43     BCA    102     True\n50     BCA    129    False\n51     BCA    121     True\n93     BCA    114    False\n"
     ]
    }
   ],
   "source": [
    "SIZE = 100\n",
    "\n",
    "data = {'Product': np.random.choice(['ABC', 'BCA', 'CAB'], size=SIZE),\n",
    "          'Price': np.random.randint(100, 130, size=SIZE),\n",
    "       'Discount': np.random.choice(['True', 'False'], size=SIZE)}\n",
    "\n",
    "sampling_data_frame = pd.DataFrame(data, columns = ['Product', 'Price', 'Discount'])\n",
    "\n",
    "sample = sampling_data_frame.groupby('Product', group_keys=False).get_group('BCA').sample(6)\n",
    "\n",
    "print(sample)"
   ]
  }
 ],
 "metadata": {
  "kernelspec": {
   "name": "python3",
   "display_name": "Python 3.8.8 64-bit (conda)"
  },
  "language_info": {
   "codemirror_mode": {
    "name": "ipython",
    "version": 3
   },
   "file_extension": ".py",
   "mimetype": "text/x-python",
   "name": "python",
   "nbconvert_exporter": "python",
   "pygments_lexer": "ipython3",
   "version": "3.8.8"
  },
  "interpreter": {
   "hash": "b3ba2566441a7c06988d0923437866b63cedc61552a5af99d1f4fb67d367b25f"
  }
 },
 "nbformat": 4,
 "nbformat_minor": 5
}