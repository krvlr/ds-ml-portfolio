{
 "cells": [
  {
   "cell_type": "markdown",
   "id": "865319b0",
   "metadata": {},
   "source": [
    "## Проверка статистических гипотез (для нормального распределения)"
   ]
  },
  {
   "source": [
    "### Задача  \n",
    "В среднем пользователь пользуется нашим приложением 20 раз в день. Ваш коллега добавил несколько новых функций в приложение и сделал их доступными для части пользователей (N=64),  \n",
    "а через какое-то время снова замерил среднее количество использования приложением пользователями, теперь среднее равно 18.4 раз со стандартным отклонением 4.  \n",
    "H0: ничего не поменялось, результат случайный  \n",
    "H1: изменение значимо, пользователи стали реже пользоваться приложением."
   ],
   "cell_type": "markdown",
   "metadata": {}
  },
  {
   "cell_type": "code",
   "execution_count": 8,
   "id": "932bfdd2",
   "metadata": {},
   "outputs": [],
   "source": [
    "import scipy.stats as st\n",
    "\n",
    "M = 20\n",
    "\n",
    "n = 64\n",
    "mean = 18.5\n",
    "sd = 4\n",
    "\n",
    "# H0: M = 20\n",
    "# H1: M! = 20\n",
    "alpha = 0.05"
   ]
  },
  {
   "source": [
    "Если верна H_0, то в соответствии с ЦПТ выборочные средние распределились бы нормально вокруг среднего ГС (пока что мы думаем, что оно 20)  \n",
    "со стандартным отклонением (стандартной ошибкой среднего):"
   ],
   "cell_type": "markdown",
   "metadata": {}
  },
  {
   "cell_type": "code",
   "execution_count": 2,
   "metadata": {},
   "outputs": [
    {
     "output_type": "stream",
     "name": "stdout",
     "text": [
      "se: 0.5\n"
     ]
    }
   ],
   "source": [
    "se = sd / (n ** 0.5)\n",
    "print('se:', se)"
   ]
  },
  {
   "source": [
    "Теперь посчитаем, насколько наше выборочное среднее (18.4) отклонилось от среднего ГС (20) в единицах стандартного отклонения → сделаем Z-преобразование:"
   ],
   "cell_type": "markdown",
   "metadata": {}
  },
  {
   "cell_type": "code",
   "execution_count": 3,
   "metadata": {},
   "outputs": [
    {
     "output_type": "stream",
     "name": "stdout",
     "text": [
      "Z: -3.0\n"
     ]
    }
   ],
   "source": [
    "Z = (mean - M) / se\n",
    "print('Z:', Z)"
   ]
  },
  {
   "source": [
    "Как это интерпретировать: если бы среднее в ГС было равно 20, то наше выборочное среднее находилось бы от него в 3 стандартных отклонениях (в левую сторону).  \n",
    "  \n",
    "Теперь считаем вероятность такого (-3 или 3) или еще более сильного отклонения (>-3 или 3<)  "
   ],
   "cell_type": "markdown",
   "metadata": {}
  },
  {
   "cell_type": "code",
   "execution_count": 4,
   "metadata": {},
   "outputs": [
    {
     "output_type": "stream",
     "name": "stdout",
     "text": [
      "p_value: 0.0026997960632601866\n"
     ]
    }
   ],
   "source": [
    "p_value = st.norm.cdf(Z) * 2\n",
    "print('p_value:', p_value)"
   ]
  },
  {
   "source": [
    "Чем меньше p-значение, тем больше оснований отклонить нулевую гипотезу. Классические пороги для отклонения нулевой гипотезы равны 0.05 или 0.01 (более строгий вариант)."
   ],
   "cell_type": "markdown",
   "metadata": {}
  },
  {
   "cell_type": "code",
   "execution_count": 5,
   "metadata": {},
   "outputs": [
    {
     "output_type": "stream",
     "name": "stdout",
     "text": [
      "reject H0\n"
     ]
    }
   ],
   "source": [
    "if p_value > alpha:\n",
    "    print('do not reject H0')\n",
    "else:\n",
    "    print('reject H0')"
   ]
  },
  {
   "source": [
    "Вывод: в нашем случае коллега статистически значимо ухудшил приложение"
   ],
   "cell_type": "markdown",
   "metadata": {}
  },
  {
   "source": [
    "### Ошибки первого и второго рода  \n",
    "Ошибка 1 рода (False positive): отклонили нулевую гипотезу, хотя она была верна (сказали, что есть эффект, когда на деле его нет, false alarm)  \n",
    "Ошибка 2 рода (False negative): не отклонили нулевую гипотезу, хотя верна была альтернативная (говорим, что нет эффекта, когда на самом деле он есть)  "
   ],
   "cell_type": "markdown",
   "metadata": {}
  }
 ],
 "metadata": {
  "kernelspec": {
   "name": "python3",
   "display_name": "Python 3.8.8 64-bit (conda)"
  },
  "language_info": {
   "codemirror_mode": {
    "name": "ipython",
    "version": 3
   },
   "file_extension": ".py",
   "mimetype": "text/x-python",
   "name": "python",
   "nbconvert_exporter": "python",
   "pygments_lexer": "ipython3",
   "version": "3.8.8"
  },
  "interpreter": {
   "hash": "b3ba2566441a7c06988d0923437866b63cedc61552a5af99d1f4fb67d367b25f"
  }
 },
 "nbformat": 4,
 "nbformat_minor": 5
}