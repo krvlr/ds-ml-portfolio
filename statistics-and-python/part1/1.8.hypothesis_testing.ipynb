{
 "cells": [
  {
   "cell_type": "markdown",
   "source": [
    "## Проверка статистических гипотез (для нормального распределения)"
   ],
   "metadata": {}
  },
  {
   "cell_type": "markdown",
   "source": [
    "### Задача  \r\n",
    "В среднем пользователь пользуется нашим приложением 20 раз в день. Ваш коллега добавил несколько новых функций в приложение и сделал их доступными для части пользователей (N=64),  \r\n",
    "а через какое-то время снова замерил среднее количество использования приложением пользователями, теперь среднее равно 18.4 раз со стандартным отклонением 4.  \r\n",
    "H0: ничего не поменялось, результат случайный  \r\n",
    "H1: изменение значимо, пользователи стали реже пользоваться приложением."
   ],
   "metadata": {}
  },
  {
   "cell_type": "code",
   "execution_count": 1,
   "source": [
    "M = 20\r\n",
    "\r\n",
    "n = 64\r\n",
    "mean = 18.5\r\n",
    "sd = 4\r\n",
    "\r\n",
    "# H0: M = 20\r\n",
    "# H1: M! = 20\r\n",
    "alpha = 0.05"
   ],
   "outputs": [],
   "metadata": {}
  },
  {
   "cell_type": "markdown",
   "source": [
    "Если верна H0, то в соответствии с ЦПТ выборочные средние распределились бы нормально вокруг среднего ГС (пока что мы думаем, что оно 20)  \r\n",
    "со стандартным отклонением (стандартной ошибкой среднего):"
   ],
   "metadata": {}
  },
  {
   "cell_type": "code",
   "execution_count": 2,
   "source": [
    "se = sd / (n ** 0.5)\r\n",
    "print('se:', se)"
   ],
   "outputs": [
    {
     "output_type": "stream",
     "name": "stdout",
     "text": [
      "se: 0.5\n"
     ]
    }
   ],
   "metadata": {}
  },
  {
   "cell_type": "markdown",
   "source": [
    "Теперь посчитаем, насколько наше выборочное среднее (18.4) отклонилось от среднего ГС (20) в единицах стандартного отклонения → сделаем Z-преобразование:"
   ],
   "metadata": {}
  },
  {
   "cell_type": "code",
   "execution_count": 3,
   "source": [
    "Z = (mean - M) / se\r\n",
    "print('Z:', Z)"
   ],
   "outputs": [
    {
     "output_type": "stream",
     "name": "stdout",
     "text": [
      "Z: -3.0\n"
     ]
    }
   ],
   "metadata": {}
  },
  {
   "cell_type": "markdown",
   "source": [
    "Как это интерпретировать: если бы среднее в ГС было равно 20, то наше выборочное среднее находилось бы от него в 3 стандартных отклонениях (в левую сторону).  \n",
    "  \n",
    "Теперь считаем вероятность такого (-3 или 3) или еще более сильного отклонения (>-3 или 3<)  "
   ],
   "metadata": {}
  },
  {
   "cell_type": "code",
   "execution_count": 4,
   "source": [
    "import scipy.stats as st\r\n",
    "\r\n",
    "p_value = st.norm.cdf(Z) * 2\r\n",
    "print('p_value:', p_value)"
   ],
   "outputs": [
    {
     "output_type": "stream",
     "name": "stdout",
     "text": [
      "p_value: 0.0026997960632601866\n"
     ]
    }
   ],
   "metadata": {}
  },
  {
   "cell_type": "markdown",
   "source": [
    "Чем меньше p-значение, тем больше оснований отклонить нулевую гипотезу. Классические пороги для отклонения нулевой гипотезы равны 0.05 или 0.01 (более строгий вариант)."
   ],
   "metadata": {}
  },
  {
   "cell_type": "code",
   "execution_count": 5,
   "source": [
    "if p_value > alpha:\r\n",
    "    print('do not reject H0')\r\n",
    "else:\r\n",
    "    print('reject H0')"
   ],
   "outputs": [
    {
     "output_type": "stream",
     "name": "stdout",
     "text": [
      "reject H0\n"
     ]
    }
   ],
   "metadata": {}
  },
  {
   "cell_type": "markdown",
   "source": [
    "Вывод: в нашем случае коллега статистически значимо ухудшил приложение"
   ],
   "metadata": {}
  },
  {
   "cell_type": "markdown",
   "source": [
    "### Ошибки первого и второго рода  \n",
    "Ошибка 1 рода (False positive): отклонили нулевую гипотезу, хотя она была верна (сказали, что есть эффект, когда на деле его нет, false alarm)  \n",
    "Ошибка 2 рода (False negative): не отклонили нулевую гипотезу, хотя верна была альтернативная (говорим, что нет эффекта, когда на самом деле он есть)  "
   ],
   "metadata": {}
  }
 ],
 "metadata": {
  "kernelspec": {
   "name": "python3",
   "display_name": "Python 3.8.10 64-bit"
  },
  "language_info": {
   "codemirror_mode": {
    "name": "ipython",
    "version": 3
   },
   "file_extension": ".py",
   "mimetype": "text/x-python",
   "name": "python",
   "nbconvert_exporter": "python",
   "pygments_lexer": "ipython3",
   "version": "3.8.10"
  },
  "interpreter": {
   "hash": "188e6a6f1be7acb7ef13240439b1aed38d0658e28f5b11628d8f8d604f4d20f0"
  }
 },
 "nbformat": 4,
 "nbformat_minor": 5
}