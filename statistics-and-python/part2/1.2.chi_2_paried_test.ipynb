{
 "cells": [
  {
   "source": [
    "## Проверка гипотез о взаимосвязи двух номинативных переменных. Анализ таблиц сопряженности  \n",
    "\n",
    "Требования к данным:  \n",
    "* Все наблюдения должны быть независимые.\n",
    "* Требования к минимальному ожидаемому значению частот:  \n",
    "1. При анализе четырехпольных таблиц ожидаемые значения в каждой из ячеек должны быть не менее 10.  \n",
    "В том случае, если хотя бы в одной ячейке ожидаемое явление принимает значение от 5 до 9,  \n",
    "критерий хи-квадрат должен рассчитываться с поправкой Йейтса.  \n",
    "Если хотя бы в одной ячейке ожидаемое явление меньше 5, то для анализа должен использоваться точный критерий Фишера.  \n",
    "2. В случае анализа многопольных таблиц ожидаемое число наблюдений не должно принимать значения менее 5 более чем в 20% ячеек.\n"
   ],
   "cell_type": "markdown",
   "metadata": {}
  },
  {
   "source": [
    "### Задача\n",
    "По таблице количесва юношей и девушек в группах биологии и информатики определить,  \n",
    "отличается ли распределение числа юношей и девушек от равномерного.  \n",
    "\n",
    "|  | Юноши | Девушки |\n",
    "| --- | --- | --- |\n",
    "| Биология | 15 | 9 |\n",
    "| Информатика | 11 | 6 |\n"
   ],
   "cell_type": "markdown",
   "metadata": {}
  },
  {
   "cell_type": "code",
   "execution_count": 1,
   "metadata": {},
   "outputs": [],
   "source": [
    "observed = [[15, 9], [11, 6]]"
   ]
  },
  {
   "source": [
    "Расчет ожидаемых частот."
   ],
   "cell_type": "markdown",
   "metadata": {}
  },
  {
   "cell_type": "code",
   "execution_count": 2,
   "metadata": {},
   "outputs": [
    {
     "output_type": "stream",
     "name": "stdout",
     "text": [
      "expected: [[15.21951219512195, 8.78048780487805], [10.78048780487805, 6.219512195121951]]\n"
     ]
    }
   ],
   "source": [
    "import numpy as np\n",
    "\n",
    "sum_axis = [np.sum(observed, axis=0), np.sum(observed, axis=1)]\n",
    "sum_total = np.sum(observed)\n",
    "\n",
    "f11 = sum_axis[0][0] * sum_axis[1][0] / sum_total\n",
    "expected = [[f11, sum_axis[0][1] * sum_axis[1][0] / sum_total],\n",
    "            [sum_axis[0][0] * sum_axis[1][1] / sum_total, sum_axis[0][1]* sum_axis[1][1] / sum_total]]\n",
    "print('expected:', expected)"
   ]
  },
  {
   "cell_type": "code",
   "execution_count": 3,
   "metadata": {},
   "outputs": [
    {
     "output_type": "stream",
     "name": "stdout",
     "text": [
      "expected: [[15.2195122  8.7804878]\n [10.7804878  6.2195122]]\n"
     ]
    }
   ],
   "source": [
    "from scipy.stats.contingency import expected_freq\n",
    "\n",
    "print('expected:', expected_freq(observed))"
   ]
  },
  {
   "source": [
    "Гипотезы:  \n",
    "H0: Распределение не отличается от ожидаемого (нет взаимосвязи между переменными).  \n",
    "H1: Распределение отличается (две переменные взаимосвязаны)."
   ],
   "cell_type": "markdown",
   "metadata": {}
  },
  {
   "source": [
    "Вычисление Хи-квадрат с поправкой Йется. Поправка применяется, когда ожидаемые частоты меньше 10."
   ],
   "cell_type": "markdown",
   "metadata": {}
  },
  {
   "cell_type": "code",
   "execution_count": 4,
   "metadata": {},
   "outputs": [
    {
     "output_type": "stream",
     "name": "stdout",
     "text": [
      "chi_2_Yates: 0.0340764831573656\n"
     ]
    }
   ],
   "source": [
    "chi_2_Yates = sum([(abs(observed[i][j] - expected[i][j]) - 0.5) ** 2 / expected[i][j] for i in range(len(observed)) for j in range(len(observed[i]))])\n",
    "print('chi_2_Yates:', chi_2_Yates)"
   ]
  },
  {
   "source": [
    "Число степеней свободы вычисляется по формуле:"
   ],
   "cell_type": "markdown",
   "metadata": {}
  },
  {
   "cell_type": "code",
   "execution_count": 5,
   "metadata": {},
   "outputs": [
    {
     "output_type": "stream",
     "name": "stdout",
     "text": [
      "df: 1\n"
     ]
    }
   ],
   "source": [
    "df = (len(observed[0]) - 1) * (len(observed[1]) - 1)\n",
    "print('df:', df)"
   ]
  },
  {
   "source": [
    "Определяем p-value:"
   ],
   "cell_type": "markdown",
   "metadata": {}
  },
  {
   "cell_type": "code",
   "execution_count": 6,
   "metadata": {},
   "outputs": [
    {
     "output_type": "stream",
     "name": "stdout",
     "text": [
      "p_value: 0.8535442239746989\np_value(X > 0.03) > alpha. Do not reject H0\n"
     ]
    }
   ],
   "source": [
    "import scipy.stats as st\n",
    "\n",
    "p_value = 1 - st.chi2.cdf(chi_2_Yates, df)\n",
    "print('p_value:', p_value)\n",
    "\n",
    "alpha = 0.05\n",
    "if p_value > alpha:\n",
    "    print(f'p_value(X > {chi_2_Yates:.2f}) > alpha. Do not reject H0')\n",
    "else:\n",
    "    print(f'p_value(X > {chi_2_Yates:.2f}) < alpha. Reject H0')"
   ]
  },
  {
   "cell_type": "code",
   "execution_count": 7,
   "metadata": {},
   "outputs": [
    {
     "output_type": "stream",
     "name": "stdout",
     "text": [
      "expected: [[15.2195122  8.7804878]\n [10.7804878  6.2195122]]\nchi_2_Yates: 0.0340764831573656\ndf: 1\np_value: 0.8535442239746989\n"
     ]
    }
   ],
   "source": [
    "chi_2_Yates, p_value, df, expected = st.chi2_contingency(observed)\n",
    "print('expected:', expected)\n",
    "print('chi_2_Yates:', chi_2_Yates)\n",
    "print('df:', df)\n",
    "print('p_value:', p_value)"
   ]
  },
  {
   "source": [
    "### Задача  \n",
    "Перед знаком стоп некоторые водители останавливаются полностью, другие лишь сбавляют скорость,  \n",
    "но некоторые не останавливаются вообще. Важнейший вопрос, есть ли взаимосвязь между полом и  \n",
    "стилем вождения автомобиля!  \n",
    "Ниже представлена таблица сопряженности данных исследования, посвященного этому вопросу.\n",
    "\n",
    "|  | Мужчины | Женщины |\n",
    "| --- | --- | --- |\n",
    "| Тормозят | 20 | 15 |\n",
    "| Притормаживают | 11 | 12 |\n",
    "| Не тормозят | 7 | 9 |"
   ],
   "cell_type": "markdown",
   "metadata": {}
  },
  {
   "cell_type": "code",
   "execution_count": 8,
   "metadata": {},
   "outputs": [
    {
     "output_type": "stream",
     "name": "stdout",
     "text": [
      "expected: [[17.97297297 17.02702703]\n [11.81081081 11.18918919]\n [ 8.21621622  7.78378378]]\nchi_2: 0.9544070774762996\ndf: 2\np_value: 0.6205162173513055\np_value(X > 0.95) > alpha. Do not reject H0\n"
     ]
    }
   ],
   "source": [
    "observed = [[20, 15], [11, 12], [7, 9]]\n",
    "\n",
    "# H0: Нет взаимосвязи между переменными\n",
    "\n",
    "chi_2, p_value, df, expected = st.chi2_contingency(observed)\n",
    "print('expected:', expected)\n",
    "print('chi_2:', chi_2)\n",
    "print('df:', df)\n",
    "print('p_value:', p_value)\n",
    "\n",
    "if p_value > alpha:\n",
    "    print(f'p_value(X > {chi_2:.2f}) > alpha. Do not reject H0')\n",
    "else:\n",
    "    print(f'p_value(X > {chi_2:.2f}) < alpha. Reject H0')"
   ]
  },
  {
   "source": [
    "### Задача  \n",
    "Нельзя ли снизить риск тромбоза назначением небольших доз аспирина (160мг/сут)?\n",
    "\n",
    "|  | Есть тромбоз | Нет тромбоза |\n",
    "| --- | --- | --- |\n",
    "| Плацебо | 18 | 7 |\n",
    "| Аспирин | 6 | 13 |"
   ],
   "cell_type": "markdown",
   "metadata": {}
  },
  {
   "cell_type": "code",
   "execution_count": 9,
   "metadata": {},
   "outputs": [
    {
     "output_type": "stream",
     "name": "stdout",
     "text": [
      "expected: [[13.63636364 11.36363636]\n [10.36363636  8.63636364]]\nchi_2: 5.57719298245614\ndf: 1\np_value: 0.018195864430772903\np_value(X > 5.58) < alpha. Reject H0\n"
     ]
    }
   ],
   "source": [
    "observed = [[18, 7], [6, 13]]\n",
    "\n",
    "# H0: Нет взаимосвязи между переменными\n",
    "# H1: Есть взаимосвязь\n",
    "\n",
    "chi_2, p_value, df, expected = st.chi2_contingency(observed)\n",
    "print('expected:', expected)\n",
    "print('chi_2:', chi_2)\n",
    "print('df:', df)\n",
    "print('p_value:', p_value)\n",
    "\n",
    "if p_value > alpha:\n",
    "    print(f'p_value(X > {chi_2:.2f}) > alpha. Do not reject H0')\n",
    "else:\n",
    "    print(f'p_value(X > {chi_2:.2f}) < alpha. Reject H0')"
   ]
  }
 ],
 "metadata": {
  "kernelspec": {
   "name": "python3",
   "display_name": "Python 3.8.8 64-bit (conda)"
  },
  "language_info": {
   "codemirror_mode": {
    "name": "ipython",
    "version": 3
   },
   "file_extension": ".py",
   "mimetype": "text/x-python",
   "name": "python",
   "nbconvert_exporter": "python",
   "pygments_lexer": "ipython3",
   "version": "3.8.8"
  },
  "interpreter": {
   "hash": "b3ba2566441a7c06988d0923437866b63cedc61552a5af99d1f4fb67d367b25f"
  }
 },
 "nbformat": 4,
 "nbformat_minor": 5
}