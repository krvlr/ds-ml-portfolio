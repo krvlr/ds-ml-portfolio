{
 "cells": [
  {
   "cell_type": "markdown",
   "source": [
    "## Логистическая регрессия. Анализ номинативных данных  \n",
    "Это расширение классической линейной регрессии, заточенное под анализ связи независимой переменной  \n",
    "и бинарной зависимой (переменной с двумя градациями).  \n",
    "В некотором смысле на логистическую регрессию можно взглянуть как на t-критерий наоборот  \n",
    "(в t-критерии мы проверяем, как две группы различаются по одной количественной переменной,  \n",
    "а в логистической регрессии мы проверяем, как одна или несколько количественных переменных  \n",
    "влияют на возникновение одной или другой группы)."
   ],
   "metadata": {}
  },
  {
   "cell_type": "markdown",
   "source": [
    "### Задача  \r\n",
    "На основе данных о пассажирах корабля титаника оценим шансы пассажира выжить.   \r\n",
    "\r\n",
    "### Модель без предикторов (анализ без участия предикторов)  \r\n",
    "Вычислим натуральный логарифм шансов выжить (intercept модели логистической регрессии)."
   ],
   "metadata": {}
  },
  {
   "cell_type": "code",
   "execution_count": 1,
   "source": [
    "import pandas as pd\r\n",
    "\r\n",
    "titanic_data = pd.read_csv('./data/titanik_full_data.csv', sep='\\t')\r\n",
    "\r\n",
    "survived_dead_count  = titanic_data[['PassengerId', 'Survived']].groupby(['Survived']).count()\r\n",
    "\r\n",
    "survived_count = survived_dead_count.loc[1, 'PassengerId']\r\n",
    "dead_count = survived_dead_count.loc[0, 'PassengerId']"
   ],
   "outputs": [],
   "metadata": {}
  },
  {
   "cell_type": "markdown",
   "source": [
    "Вычислим общие шансы выжить при кораблекрушении. "
   ],
   "metadata": {}
  },
  {
   "cell_type": "code",
   "execution_count": 2,
   "source": [
    "odds = survived_count / dead_count\r\n",
    "print('odds:', odds)"
   ],
   "outputs": [
    {
     "output_type": "stream",
     "name": "stdout",
     "text": [
      "odds: 0.6061349693251534\n"
     ]
    }
   ],
   "metadata": {}
  },
  {
   "cell_type": "markdown",
   "source": [
    "Вычилим intercept модели логистической регрессии."
   ],
   "metadata": {}
  },
  {
   "cell_type": "code",
   "execution_count": 3,
   "source": [
    "import math\r\n",
    "\r\n",
    "intercept = math.log(odds)\r\n",
    "print('intercept:', intercept)"
   ],
   "outputs": [
    {
     "output_type": "stream",
     "name": "stdout",
     "text": [
      "intercept: -0.5006525960529401\n"
     ]
    }
   ],
   "metadata": {}
  },
  {
   "cell_type": "markdown",
   "source": [
    "Проверим гипотезу о том, что распределение частот показателя выживаемости значимо отличается от равномерного.  \n",
    "H0: intercept = ln(odds) = 0 (odds = 1)"
   ],
   "metadata": {}
  },
  {
   "cell_type": "code",
   "execution_count": 4,
   "source": [
    "import scipy.stats as st\r\n",
    "\r\n",
    "se = 0.057 # TODO how to calculate standard error?\r\n",
    "print('se:', se)\r\n",
    "\r\n",
    "Z = (intercept - 0) / se\r\n",
    "print('Z:', Z)\r\n",
    "\r\n",
    "p_value = st.norm.cdf(Z) * 2\r\n",
    "print('p_value:', p_value)\r\n",
    "\r\n",
    "alpha = 0.05\r\n",
    "if p_value > alpha:\r\n",
    "    print(f'p_value > alpha. Do not reject H0')\r\n",
    "else:\r\n",
    "    print(f'p_value < alpha. Reject H0')"
   ],
   "outputs": [
    {
     "output_type": "stream",
     "name": "stdout",
     "text": [
      "se: 0.057\n",
      "Z: -8.783378878121756\n",
      "p_value: 1.5863569516489108e-18\n",
      "p_value < alpha. Reject H0\n"
     ]
    }
   ],
   "metadata": {}
  },
  {
   "cell_type": "code",
   "execution_count": 5,
   "source": [
    "import statsmodels.api as sm\r\n",
    "import statsmodels.formula.api as sf\r\n",
    "\r\n",
    "sf.glm('Survived ~ 1', titanic_data, family=sm.families.Binomial()).fit().summary()"
   ],
   "outputs": [
    {
     "output_type": "execute_result",
     "data": {
      "text/html": [
       "<table class=\"simpletable\">\n",
       "<caption>Generalized Linear Model Regression Results</caption>\n",
       "<tr>\n",
       "  <th>Dep. Variable:</th>       <td>Survived</td>     <th>  No. Observations:  </th>  <td>  1309</td> \n",
       "</tr>\n",
       "<tr>\n",
       "  <th>Model:</th>                  <td>GLM</td>       <th>  Df Residuals:      </th>  <td>  1308</td> \n",
       "</tr>\n",
       "<tr>\n",
       "  <th>Model Family:</th>        <td>Binomial</td>     <th>  Df Model:          </th>  <td>     0</td> \n",
       "</tr>\n",
       "<tr>\n",
       "  <th>Link Function:</th>         <td>logit</td>      <th>  Scale:             </th> <td>  1.0000</td>\n",
       "</tr>\n",
       "<tr>\n",
       "  <th>Method:</th>                <td>IRLS</td>       <th>  Log-Likelihood:    </th> <td> -867.57</td>\n",
       "</tr>\n",
       "<tr>\n",
       "  <th>Date:</th>            <td>Fri, 25 Jun 2021</td> <th>  Deviance:          </th> <td>  1735.1</td>\n",
       "</tr>\n",
       "<tr>\n",
       "  <th>Time:</th>                <td>15:05:09</td>     <th>  Pearson chi2:      </th> <td>1.31e+03</td>\n",
       "</tr>\n",
       "<tr>\n",
       "  <th>No. Iterations:</th>          <td>4</td>        <th>                     </th>     <td> </td>   \n",
       "</tr>\n",
       "<tr>\n",
       "  <th>Covariance Type:</th>     <td>nonrobust</td>    <th>                     </th>     <td> </td>   \n",
       "</tr>\n",
       "</table>\n",
       "<table class=\"simpletable\">\n",
       "<tr>\n",
       "      <td></td>         <th>coef</th>     <th>std err</th>      <th>z</th>      <th>P>|z|</th>  <th>[0.025</th>    <th>0.975]</th>  \n",
       "</tr>\n",
       "<tr>\n",
       "  <th>Intercept</th> <td>   -0.5007</td> <td>    0.057</td> <td>   -8.780</td> <td> 0.000</td> <td>   -0.612</td> <td>   -0.389</td>\n",
       "</tr>\n",
       "</table>"
      ],
      "text/plain": [
       "<class 'statsmodels.iolib.summary.Summary'>\n",
       "\"\"\"\n",
       "                 Generalized Linear Model Regression Results                  \n",
       "==============================================================================\n",
       "Dep. Variable:               Survived   No. Observations:                 1309\n",
       "Model:                            GLM   Df Residuals:                     1308\n",
       "Model Family:                Binomial   Df Model:                            0\n",
       "Link Function:                  logit   Scale:                          1.0000\n",
       "Method:                          IRLS   Log-Likelihood:                -867.57\n",
       "Date:                Fri, 25 Jun 2021   Deviance:                       1735.1\n",
       "Time:                        15:05:09   Pearson chi2:                 1.31e+03\n",
       "No. Iterations:                     4                                         \n",
       "Covariance Type:            nonrobust                                         \n",
       "==============================================================================\n",
       "                 coef    std err          z      P>|z|      [0.025      0.975]\n",
       "------------------------------------------------------------------------------\n",
       "Intercept     -0.5007      0.057     -8.780      0.000      -0.612      -0.389\n",
       "==============================================================================\n",
       "\"\"\""
      ]
     },
     "metadata": {},
     "execution_count": 5
    }
   ],
   "metadata": {}
  },
  {
   "cell_type": "markdown",
   "source": [
    "### Модель с одним номинативным предиктором  \n",
    "\n",
    "Анализ с участием одного предиктора - пола.  "
   ],
   "metadata": {}
  },
  {
   "cell_type": "markdown",
   "source": [
    "Построим таблицу выживаемости пассажиров в зависимости от пола."
   ],
   "metadata": {}
  },
  {
   "cell_type": "code",
   "execution_count": 6,
   "source": [
    "titanic_crosstab = pd.crosstab(titanic_data['Survived'], titanic_data['Sex'], margins=False)\r\n",
    "print(titanic_crosstab)"
   ],
   "outputs": [
    {
     "output_type": "stream",
     "name": "stdout",
     "text": [
      "Sex       female  male\n",
      "Survived              \n",
      "0             81   734\n",
      "1            385   109\n"
     ]
    }
   ],
   "metadata": {}
  },
  {
   "cell_type": "markdown",
   "source": [
    "Рассчитаем шансы выжить для мужчин."
   ],
   "metadata": {}
  },
  {
   "cell_type": "code",
   "execution_count": 7,
   "source": [
    "odds_man = titanic_crosstab.loc[1, 'male'] / titanic_crosstab.loc[0, 'male']\r\n",
    "print('odds_man:', odds_man)\r\n",
    "print('ln(odds_man):', math.log(odds_man))"
   ],
   "outputs": [
    {
     "output_type": "stream",
     "name": "stdout",
     "text": [
      "odds_man: 0.14850136239782016\n",
      "ln(odds_man): -1.907161146385372\n"
     ]
    }
   ],
   "metadata": {}
  },
  {
   "cell_type": "markdown",
   "source": [
    "Рассчитаем шансы выжить для женщин."
   ],
   "metadata": {}
  },
  {
   "cell_type": "code",
   "execution_count": 8,
   "source": [
    "odds_female = titanic_crosstab.loc[1, 'female'] / titanic_crosstab.loc[0, 'female']\r\n",
    "print('odds_female:', odds_female)\r\n",
    "print('ln(odds_female):', math.log(odds_female))"
   ],
   "outputs": [
    {
     "output_type": "stream",
     "name": "stdout",
     "text": [
      "odds_female: 4.753086419753086\n",
      "ln(odds_female): 1.5587941796153455\n"
     ]
    }
   ],
   "metadata": {}
  },
  {
   "cell_type": "markdown",
   "source": [
    "Рассчитаем коэффициент b1 модели, как натуральный логарифм отношения шансов выжить для мужчин и женщин."
   ],
   "metadata": {}
  },
  {
   "cell_type": "code",
   "execution_count": 9,
   "source": [
    "odds_ratio = odds_man / odds_female\r\n",
    "print('odds_ratio:', odds_ratio)\r\n",
    "print('b1: ln(odds_ratio):', math.log(odds_ratio))"
   ],
   "outputs": [
    {
     "output_type": "stream",
     "name": "stdout",
     "text": [
      "odds_ratio: 0.031243143777203723\n",
      "b1: ln(odds_ratio): -3.465955326000717\n"
     ]
    }
   ],
   "metadata": {}
  },
  {
   "cell_type": "code",
   "execution_count": 10,
   "source": [
    "sf.glm('Survived ~ C(Sex)', titanic_data, family=sm.families.Binomial()).fit().summary()"
   ],
   "outputs": [
    {
     "output_type": "execute_result",
     "data": {
      "text/html": [
       "<table class=\"simpletable\">\n",
       "<caption>Generalized Linear Model Regression Results</caption>\n",
       "<tr>\n",
       "  <th>Dep. Variable:</th>       <td>Survived</td>     <th>  No. Observations:  </th>  <td>  1309</td> \n",
       "</tr>\n",
       "<tr>\n",
       "  <th>Model:</th>                  <td>GLM</td>       <th>  Df Residuals:      </th>  <td>  1307</td> \n",
       "</tr>\n",
       "<tr>\n",
       "  <th>Model Family:</th>        <td>Binomial</td>     <th>  Df Model:          </th>  <td>     1</td> \n",
       "</tr>\n",
       "<tr>\n",
       "  <th>Link Function:</th>         <td>logit</td>      <th>  Scale:             </th> <td>  1.0000</td>\n",
       "</tr>\n",
       "<tr>\n",
       "  <th>Method:</th>                <td>IRLS</td>       <th>  Log-Likelihood:    </th> <td> -539.84</td>\n",
       "</tr>\n",
       "<tr>\n",
       "  <th>Date:</th>            <td>Fri, 25 Jun 2021</td> <th>  Deviance:          </th> <td>  1079.7</td>\n",
       "</tr>\n",
       "<tr>\n",
       "  <th>Time:</th>                <td>15:05:10</td>     <th>  Pearson chi2:      </th> <td>1.31e+03</td>\n",
       "</tr>\n",
       "<tr>\n",
       "  <th>No. Iterations:</th>          <td>4</td>        <th>                     </th>     <td> </td>   \n",
       "</tr>\n",
       "<tr>\n",
       "  <th>Covariance Type:</th>     <td>nonrobust</td>    <th>                     </th>     <td> </td>   \n",
       "</tr>\n",
       "</table>\n",
       "<table class=\"simpletable\">\n",
       "<tr>\n",
       "         <td></td>           <th>coef</th>     <th>std err</th>      <th>z</th>      <th>P>|z|</th>  <th>[0.025</th>    <th>0.975]</th>  \n",
       "</tr>\n",
       "<tr>\n",
       "  <th>Intercept</th>      <td>    1.5588</td> <td>    0.122</td> <td>   12.752</td> <td> 0.000</td> <td>    1.319</td> <td>    1.798</td>\n",
       "</tr>\n",
       "<tr>\n",
       "  <th>C(Sex)[T.male]</th> <td>   -3.4660</td> <td>    0.160</td> <td>  -21.713</td> <td> 0.000</td> <td>   -3.779</td> <td>   -3.153</td>\n",
       "</tr>\n",
       "</table>"
      ],
      "text/plain": [
       "<class 'statsmodels.iolib.summary.Summary'>\n",
       "\"\"\"\n",
       "                 Generalized Linear Model Regression Results                  \n",
       "==============================================================================\n",
       "Dep. Variable:               Survived   No. Observations:                 1309\n",
       "Model:                            GLM   Df Residuals:                     1307\n",
       "Model Family:                Binomial   Df Model:                            1\n",
       "Link Function:                  logit   Scale:                          1.0000\n",
       "Method:                          IRLS   Log-Likelihood:                -539.84\n",
       "Date:                Fri, 25 Jun 2021   Deviance:                       1079.7\n",
       "Time:                        15:05:10   Pearson chi2:                 1.31e+03\n",
       "No. Iterations:                     4                                         \n",
       "Covariance Type:            nonrobust                                         \n",
       "==================================================================================\n",
       "                     coef    std err          z      P>|z|      [0.025      0.975]\n",
       "----------------------------------------------------------------------------------\n",
       "Intercept          1.5588      0.122     12.752      0.000       1.319       1.798\n",
       "C(Sex)[T.male]    -3.4660      0.160    -21.713      0.000      -3.779      -3.153\n",
       "==================================================================================\n",
       "\"\"\""
      ]
     },
     "metadata": {},
     "execution_count": 10
    }
   ],
   "metadata": {}
  },
  {
   "cell_type": "markdown",
   "source": [
    "Проведём регрессионный анализ, где зависимая переменная будет выживаемостью пассажира, предиктором - тип билета (три класса)."
   ],
   "metadata": {}
  },
  {
   "cell_type": "code",
   "execution_count": 11,
   "source": [
    "sf.glm('Survived ~ C(Pclass)', titanic_data, family=sm.families.Binomial()).fit().summary()"
   ],
   "outputs": [
    {
     "output_type": "execute_result",
     "data": {
      "text/html": [
       "<table class=\"simpletable\">\n",
       "<caption>Generalized Linear Model Regression Results</caption>\n",
       "<tr>\n",
       "  <th>Dep. Variable:</th>       <td>Survived</td>     <th>  No. Observations:  </th>  <td>  1309</td> \n",
       "</tr>\n",
       "<tr>\n",
       "  <th>Model:</th>                  <td>GLM</td>       <th>  Df Residuals:      </th>  <td>  1306</td> \n",
       "</tr>\n",
       "<tr>\n",
       "  <th>Model Family:</th>        <td>Binomial</td>     <th>  Df Model:          </th>  <td>     2</td> \n",
       "</tr>\n",
       "<tr>\n",
       "  <th>Link Function:</th>         <td>logit</td>      <th>  Scale:             </th> <td>  1.0000</td>\n",
       "</tr>\n",
       "<tr>\n",
       "  <th>Method:</th>                <td>IRLS</td>       <th>  Log-Likelihood:    </th> <td> -821.91</td>\n",
       "</tr>\n",
       "<tr>\n",
       "  <th>Date:</th>            <td>Fri, 25 Jun 2021</td> <th>  Deviance:          </th> <td>  1643.8</td>\n",
       "</tr>\n",
       "<tr>\n",
       "  <th>Time:</th>                <td>15:05:10</td>     <th>  Pearson chi2:      </th> <td>1.31e+03</td>\n",
       "</tr>\n",
       "<tr>\n",
       "  <th>No. Iterations:</th>          <td>4</td>        <th>                     </th>     <td> </td>   \n",
       "</tr>\n",
       "<tr>\n",
       "  <th>Covariance Type:</th>     <td>nonrobust</td>    <th>                     </th>     <td> </td>   \n",
       "</tr>\n",
       "</table>\n",
       "<table class=\"simpletable\">\n",
       "<tr>\n",
       "         <td></td>           <th>coef</th>     <th>std err</th>      <th>z</th>      <th>P>|z|</th>  <th>[0.025</th>    <th>0.975]</th>  \n",
       "</tr>\n",
       "<tr>\n",
       "  <th>Intercept</th>      <td>    0.3058</td> <td>    0.113</td> <td>    2.716</td> <td> 0.007</td> <td>    0.085</td> <td>    0.526</td>\n",
       "</tr>\n",
       "<tr>\n",
       "  <th>C(Pclass)[T.2]</th> <td>   -0.6188</td> <td>    0.166</td> <td>   -3.733</td> <td> 0.000</td> <td>   -0.944</td> <td>   -0.294</td>\n",
       "</tr>\n",
       "<tr>\n",
       "  <th>C(Pclass)[T.3]</th> <td>   -1.3035</td> <td>    0.141</td> <td>   -9.254</td> <td> 0.000</td> <td>   -1.580</td> <td>   -1.027</td>\n",
       "</tr>\n",
       "</table>"
      ],
      "text/plain": [
       "<class 'statsmodels.iolib.summary.Summary'>\n",
       "\"\"\"\n",
       "                 Generalized Linear Model Regression Results                  \n",
       "==============================================================================\n",
       "Dep. Variable:               Survived   No. Observations:                 1309\n",
       "Model:                            GLM   Df Residuals:                     1306\n",
       "Model Family:                Binomial   Df Model:                            2\n",
       "Link Function:                  logit   Scale:                          1.0000\n",
       "Method:                          IRLS   Log-Likelihood:                -821.91\n",
       "Date:                Fri, 25 Jun 2021   Deviance:                       1643.8\n",
       "Time:                        15:05:10   Pearson chi2:                 1.31e+03\n",
       "No. Iterations:                     4                                         \n",
       "Covariance Type:            nonrobust                                         \n",
       "==================================================================================\n",
       "                     coef    std err          z      P>|z|      [0.025      0.975]\n",
       "----------------------------------------------------------------------------------\n",
       "Intercept          0.3058      0.113      2.716      0.007       0.085       0.526\n",
       "C(Pclass)[T.2]    -0.6188      0.166     -3.733      0.000      -0.944      -0.294\n",
       "C(Pclass)[T.3]    -1.3035      0.141     -9.254      0.000      -1.580      -1.027\n",
       "==================================================================================\n",
       "\"\"\""
      ]
     },
     "metadata": {},
     "execution_count": 11
    }
   ],
   "metadata": {}
  },
  {
   "cell_type": "markdown",
   "source": [
    "### Модель с двумя номинативными предикторами  \n",
    "Проведём регрессионный анализ двух номинативных переменных, где в качестве зависимой переменная будет  \n",
    "выживаемостью пассажира, предикторами - пол и тип билета.  \n",
    "3 гипотезы:  \n",
    "* о значимости фактора \"пол\"  \n",
    "* о значимости фактора \"класс билета\"  \n",
    "* о взаимодействии факторов \"пол\" и \"класс билета\""
   ],
   "metadata": {}
  },
  {
   "cell_type": "code",
   "execution_count": 12,
   "source": [
    "glm = sf.glm('Survived ~ C(Sex) * C(Pclass)', titanic_data, family=sm.families.Binomial()).fit()\r\n",
    "glm.summary()"
   ],
   "outputs": [
    {
     "output_type": "execute_result",
     "data": {
      "text/html": [
       "<table class=\"simpletable\">\n",
       "<caption>Generalized Linear Model Regression Results</caption>\n",
       "<tr>\n",
       "  <th>Dep. Variable:</th>       <td>Survived</td>     <th>  No. Observations:  </th>  <td>  1309</td> \n",
       "</tr>\n",
       "<tr>\n",
       "  <th>Model:</th>                  <td>GLM</td>       <th>  Df Residuals:      </th>  <td>  1303</td> \n",
       "</tr>\n",
       "<tr>\n",
       "  <th>Model Family:</th>        <td>Binomial</td>     <th>  Df Model:          </th>  <td>     5</td> \n",
       "</tr>\n",
       "<tr>\n",
       "  <th>Link Function:</th>         <td>logit</td>      <th>  Scale:             </th> <td>  1.0000</td>\n",
       "</tr>\n",
       "<tr>\n",
       "  <th>Method:</th>                <td>IRLS</td>       <th>  Log-Likelihood:    </th> <td> -486.58</td>\n",
       "</tr>\n",
       "<tr>\n",
       "  <th>Date:</th>            <td>Fri, 25 Jun 2021</td> <th>  Deviance:          </th> <td>  973.16</td>\n",
       "</tr>\n",
       "<tr>\n",
       "  <th>Time:</th>                <td>15:05:10</td>     <th>  Pearson chi2:      </th> <td>1.31e+03</td>\n",
       "</tr>\n",
       "<tr>\n",
       "  <th>No. Iterations:</th>          <td>7</td>        <th>                     </th>     <td> </td>   \n",
       "</tr>\n",
       "<tr>\n",
       "  <th>Covariance Type:</th>     <td>nonrobust</td>    <th>                     </th>     <td> </td>   \n",
       "</tr>\n",
       "</table>\n",
       "<table class=\"simpletable\">\n",
       "<tr>\n",
       "                <td></td>                   <th>coef</th>     <th>std err</th>      <th>z</th>      <th>P>|z|</th>  <th>[0.025</th>    <th>0.975]</th>  \n",
       "</tr>\n",
       "<tr>\n",
       "  <th>Intercept</th>                     <td>    3.8501</td> <td>    0.583</td> <td>    6.599</td> <td> 0.000</td> <td>    2.707</td> <td>    4.994</td>\n",
       "</tr>\n",
       "<tr>\n",
       "  <th>C(Sex)[T.male]</th>                <td>   -4.9413</td> <td>    0.608</td> <td>   -8.122</td> <td> 0.000</td> <td>   -6.134</td> <td>   -3.749</td>\n",
       "</tr>\n",
       "<tr>\n",
       "  <th>C(Pclass)[T.2]</th>                <td>   -1.0367</td> <td>    0.719</td> <td>   -1.442</td> <td> 0.149</td> <td>   -2.446</td> <td>    0.373</td>\n",
       "</tr>\n",
       "<tr>\n",
       "  <th>C(Pclass)[T.3]</th>                <td>   -3.1570</td> <td>    0.601</td> <td>   -5.252</td> <td> 0.000</td> <td>   -4.335</td> <td>   -1.979</td>\n",
       "</tr>\n",
       "<tr>\n",
       "  <th>C(Sex)[T.male]:C(Pclass)[T.2]</th> <td>   -0.0758</td> <td>    0.782</td> <td>   -0.097</td> <td> 0.923</td> <td>   -1.609</td> <td>    1.458</td>\n",
       "</tr>\n",
       "<tr>\n",
       "  <th>C(Sex)[T.male]:C(Pclass)[T.3]</th> <td>    1.9980</td> <td>    0.644</td> <td>    3.104</td> <td> 0.002</td> <td>    0.736</td> <td>    3.260</td>\n",
       "</tr>\n",
       "</table>"
      ],
      "text/plain": [
       "<class 'statsmodels.iolib.summary.Summary'>\n",
       "\"\"\"\n",
       "                 Generalized Linear Model Regression Results                  \n",
       "==============================================================================\n",
       "Dep. Variable:               Survived   No. Observations:                 1309\n",
       "Model:                            GLM   Df Residuals:                     1303\n",
       "Model Family:                Binomial   Df Model:                            5\n",
       "Link Function:                  logit   Scale:                          1.0000\n",
       "Method:                          IRLS   Log-Likelihood:                -486.58\n",
       "Date:                Fri, 25 Jun 2021   Deviance:                       973.16\n",
       "Time:                        15:05:10   Pearson chi2:                 1.31e+03\n",
       "No. Iterations:                     7                                         \n",
       "Covariance Type:            nonrobust                                         \n",
       "=================================================================================================\n",
       "                                    coef    std err          z      P>|z|      [0.025      0.975]\n",
       "-------------------------------------------------------------------------------------------------\n",
       "Intercept                         3.8501      0.583      6.599      0.000       2.707       4.994\n",
       "C(Sex)[T.male]                   -4.9413      0.608     -8.122      0.000      -6.134      -3.749\n",
       "C(Pclass)[T.2]                   -1.0367      0.719     -1.442      0.149      -2.446       0.373\n",
       "C(Pclass)[T.3]                   -3.1570      0.601     -5.252      0.000      -4.335      -1.979\n",
       "C(Sex)[T.male]:C(Pclass)[T.2]    -0.0758      0.782     -0.097      0.923      -1.609       1.458\n",
       "C(Sex)[T.male]:C(Pclass)[T.3]     1.9980      0.644      3.104      0.002       0.736       3.260\n",
       "=================================================================================================\n",
       "\"\"\""
      ]
     },
     "metadata": {},
     "execution_count": 12
    }
   ],
   "metadata": {}
  },
  {
   "cell_type": "markdown",
   "source": [
    "### Интерпретация результатов анализа  \n",
    "* Intercept - ln(шансов положительного исхода для женщин в первом классе).  \n",
    "* C(Sex)\\[T.male] - ln(отношения шансов выжить для мужчин и женщин в 1-ом классе) или  \n",
    "по свойству логарифма: ln(шансов выжить для мужчин в 1-ом классе) - ln(шансов выжить для женщин в 1-ом классе).  \n",
    "Значение b1 = -4.9413 при P>|z| = 0.000 говорит о том, что шансов выжить у мужчин значимо меньше, чем у женщин в 1-ом классе.  \n",
    "* C(Pclass)\\[T.2] - ln(отношения шансов выжить для женщин в 1-ом классе и во 2-ом классе).  \n",
    "Шансы выжить для женщин 1-го и 2-го класса отличаются статистически не значимо (P>|z| = 0.149 > 0.05).  \n",
    "* C(Pclass)\\[T.3] - ln(отношения шансов выжить для женщин в 1 классе и во 3 классе).  \n",
    "Шансы выжить для женщин 1-го и 3-го класса статистически значимо отличаются (P>|z| = 0.000).  \n",
    "\n",
    "Взаимодействие предикторов  \n",
    "* C(Sex)\\[T.male]:C(Pclass)\\[T.2] - разность ln(отношения шансов выжить для мужчин и женщин 2-го класса)  \n",
    "и ln(отношения шансов выжить для мужчин и женщин 1-го класса)  \n",
    "Значение -0.0758 при P>|z| = 0.923 говорит о том, что изменение отношения шансов выжить для мужчин к шансам выжить для женщин  \n",
    "для разных классов статистически незначимо.\n",
    "* C(Sex)\\[T.male]:C(Pclass)\\[T.3] - разность ln(отношения шансов выжить для мужчин и женщин 3-го класса)  \n",
    "и ln(отношения шансов выжить для мужчин и женщин 1-го класса)  \n",
    "Значение 1.9980\t при P>|z| = 0.002 говорит о том, что изменение отношения шансов выжить для мужчин к шансам выжить для женщин  \n",
    "для разных классов статистически значимо. Существует взаимосвязь между полом и тем, выжил ли человек или не выжил, для 1-го и 3-го класса.\n"
   ],
   "metadata": {}
  },
  {
   "cell_type": "markdown",
   "source": [
    "### Прогнозирование шансов"
   ],
   "metadata": {}
  },
  {
   "cell_type": "code",
   "execution_count": 13,
   "source": [
    "ln_odds_female_class1 = glm.predict({'Sex': ['female'], 'Pclass': [1]}, linear=True)\r\n",
    "print('Intercept = ln_odds_female_class1:', ln_odds_female_class1[0])"
   ],
   "outputs": [
    {
     "output_type": "stream",
     "name": "stdout",
     "text": [
      "Intercept = ln_odds_female_class1: 3.8501476017100518\n"
     ]
    }
   ],
   "metadata": {}
  },
  {
   "cell_type": "markdown",
   "source": [
    "Рассчитаем шансы выжить для женщин в 1 классе."
   ],
   "metadata": {}
  },
  {
   "cell_type": "code",
   "execution_count": 14,
   "source": [
    "odds_female_class1 = math.exp(ln_odds_female_class1)\r\n",
    "print('odds_female_class1:', odds_female_class1)"
   ],
   "outputs": [
    {
     "output_type": "stream",
     "name": "stdout",
     "text": [
      "odds_female_class1: 46.99999999999968\n"
     ]
    }
   ],
   "metadata": {}
  },
  {
   "cell_type": "markdown",
   "source": [
    "Рассчитаем вероятность выжить для женщин в 1 классе."
   ],
   "metadata": {}
  },
  {
   "cell_type": "code",
   "execution_count": 15,
   "source": [
    "p_female_class1 = odds_female_class1 / (1 + odds_female_class1)\r\n",
    "print('p_female_class1:', p_female_class1)"
   ],
   "outputs": [
    {
     "output_type": "stream",
     "name": "stdout",
     "text": [
      "p_female_class1: 0.9791666666666665\n"
     ]
    }
   ],
   "metadata": {}
  },
  {
   "cell_type": "code",
   "execution_count": 16,
   "source": [
    "p_female_class1 = glm.predict({'Sex': ['female'], 'Pclass': [1]})\r\n",
    "print('p_female_class1:', p_female_class1[0])"
   ],
   "outputs": [
    {
     "output_type": "stream",
     "name": "stdout",
     "text": [
      "p_female_class1: 0.9791666666666665\n"
     ]
    }
   ],
   "metadata": {}
  },
  {
   "cell_type": "markdown",
   "source": [
    "## Логистическая регрессия. Количественные и номинативные данные"
   ],
   "metadata": {}
  },
  {
   "cell_type": "markdown",
   "source": [
    "На основе данных о пассажирах корабля титаника оценим шансы пассажира выжить,  \n",
    "учитывая номинативные переменные \"пол\" и \"класс\", а также количественную - \"возраст\""
   ],
   "metadata": {}
  },
  {
   "cell_type": "code",
   "execution_count": 17,
   "source": [
    "glm = sf.glm('Survived ~ C(Sex) + C(Pclass) + Age', titanic_data, family=sm.families.Binomial()).fit()\r\n",
    "glm.summary()"
   ],
   "outputs": [
    {
     "output_type": "execute_result",
     "data": {
      "text/html": [
       "<table class=\"simpletable\">\n",
       "<caption>Generalized Linear Model Regression Results</caption>\n",
       "<tr>\n",
       "  <th>Dep. Variable:</th>       <td>Survived</td>     <th>  No. Observations:  </th>  <td>  1046</td> \n",
       "</tr>\n",
       "<tr>\n",
       "  <th>Model:</th>                  <td>GLM</td>       <th>  Df Residuals:      </th>  <td>  1041</td> \n",
       "</tr>\n",
       "<tr>\n",
       "  <th>Model Family:</th>        <td>Binomial</td>     <th>  Df Model:          </th>  <td>     4</td> \n",
       "</tr>\n",
       "<tr>\n",
       "  <th>Link Function:</th>         <td>logit</td>      <th>  Scale:             </th> <td>  1.0000</td>\n",
       "</tr>\n",
       "<tr>\n",
       "  <th>Method:</th>                <td>IRLS</td>       <th>  Log-Likelihood:    </th> <td> -398.21</td>\n",
       "</tr>\n",
       "<tr>\n",
       "  <th>Date:</th>            <td>Fri, 25 Jun 2021</td> <th>  Deviance:          </th> <td>  796.42</td>\n",
       "</tr>\n",
       "<tr>\n",
       "  <th>Time:</th>                <td>15:05:10</td>     <th>  Pearson chi2:      </th> <td>1.10e+03</td>\n",
       "</tr>\n",
       "<tr>\n",
       "  <th>No. Iterations:</th>          <td>5</td>        <th>                     </th>     <td> </td>   \n",
       "</tr>\n",
       "<tr>\n",
       "  <th>Covariance Type:</th>     <td>nonrobust</td>    <th>                     </th>     <td> </td>   \n",
       "</tr>\n",
       "</table>\n",
       "<table class=\"simpletable\">\n",
       "<tr>\n",
       "         <td></td>           <th>coef</th>     <th>std err</th>      <th>z</th>      <th>P>|z|</th>  <th>[0.025</th>    <th>0.975]</th>  \n",
       "</tr>\n",
       "<tr>\n",
       "  <th>Intercept</th>      <td>    3.9568</td> <td>    0.372</td> <td>   10.641</td> <td> 0.000</td> <td>    3.228</td> <td>    4.686</td>\n",
       "</tr>\n",
       "<tr>\n",
       "  <th>C(Sex)[T.male]</th> <td>   -3.5601</td> <td>    0.196</td> <td>  -18.158</td> <td> 0.000</td> <td>   -3.944</td> <td>   -3.176</td>\n",
       "</tr>\n",
       "<tr>\n",
       "  <th>C(Pclass)[T.2]</th> <td>   -1.2370</td> <td>    0.256</td> <td>   -4.833</td> <td> 0.000</td> <td>   -1.739</td> <td>   -0.735</td>\n",
       "</tr>\n",
       "<tr>\n",
       "  <th>C(Pclass)[T.3]</th> <td>   -2.2390</td> <td>    0.256</td> <td>   -8.759</td> <td> 0.000</td> <td>   -2.740</td> <td>   -1.738</td>\n",
       "</tr>\n",
       "<tr>\n",
       "  <th>Age</th>            <td>   -0.0313</td> <td>    0.007</td> <td>   -4.407</td> <td> 0.000</td> <td>   -0.045</td> <td>   -0.017</td>\n",
       "</tr>\n",
       "</table>"
      ],
      "text/plain": [
       "<class 'statsmodels.iolib.summary.Summary'>\n",
       "\"\"\"\n",
       "                 Generalized Linear Model Regression Results                  \n",
       "==============================================================================\n",
       "Dep. Variable:               Survived   No. Observations:                 1046\n",
       "Model:                            GLM   Df Residuals:                     1041\n",
       "Model Family:                Binomial   Df Model:                            4\n",
       "Link Function:                  logit   Scale:                          1.0000\n",
       "Method:                          IRLS   Log-Likelihood:                -398.21\n",
       "Date:                Fri, 25 Jun 2021   Deviance:                       796.42\n",
       "Time:                        15:05:10   Pearson chi2:                 1.10e+03\n",
       "No. Iterations:                     5                                         \n",
       "Covariance Type:            nonrobust                                         \n",
       "==================================================================================\n",
       "                     coef    std err          z      P>|z|      [0.025      0.975]\n",
       "----------------------------------------------------------------------------------\n",
       "Intercept          3.9568      0.372     10.641      0.000       3.228       4.686\n",
       "C(Sex)[T.male]    -3.5601      0.196    -18.158      0.000      -3.944      -3.176\n",
       "C(Pclass)[T.2]    -1.2370      0.256     -4.833      0.000      -1.739      -0.735\n",
       "C(Pclass)[T.3]    -2.2390      0.256     -8.759      0.000      -2.740      -1.738\n",
       "Age               -0.0313      0.007     -4.407      0.000      -0.045      -0.017\n",
       "==================================================================================\n",
       "\"\"\""
      ]
     },
     "metadata": {},
     "execution_count": 17
    }
   ],
   "metadata": {}
  },
  {
   "cell_type": "markdown",
   "source": [
    "Intercept в данном случае равен ln(шансов положительного исхода для женщин в первом классе при возрасте = 0).  \n",
    "\n",
    "Рассчитаем, на сколько будет влиять увеличение возраста на 1 год, для женщины в 1 классе, на вероятность выживания."
   ],
   "metadata": {}
  },
  {
   "cell_type": "code",
   "execution_count": 18,
   "source": [
    "ln_odds_female_class1_0_year = glm.predict({'Sex': ['female'], 'Pclass': [1], 'Age': [0]})\n",
    "ln_odds_female_class1_1_year = glm.predict({'Sex': ['female'], 'Pclass': [1], 'Age': [1]})\n",
    "print(math.exp(ln_odds_female_class1_1_year[0])-math.exp(ln_odds_female_class1_0_year))"
   ],
   "outputs": [
    {
     "output_type": "stream",
     "name": "stdout",
     "text": [
      "-0.0015597927703976389\n"
     ]
    }
   ],
   "metadata": {}
  }
 ],
 "metadata": {
  "kernelspec": {
   "name": "python3",
   "display_name": "Python 3.8.10 64-bit ('base': conda)"
  },
  "language_info": {
   "codemirror_mode": {
    "name": "ipython",
    "version": 3
   },
   "file_extension": ".py",
   "mimetype": "text/x-python",
   "name": "python",
   "nbconvert_exporter": "python",
   "pygments_lexer": "ipython3",
   "version": "3.8.10"
  },
  "interpreter": {
   "hash": "188e6a6f1be7acb7ef13240439b1aed38d0658e28f5b11628d8f8d604f4d20f0"
  }
 },
 "nbformat": 4,
 "nbformat_minor": 5
}