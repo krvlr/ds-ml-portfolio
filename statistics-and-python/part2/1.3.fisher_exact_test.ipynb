{
 "cells": [
  {
   "source": [
    "## Точный критерий Фишера\n",
    "\n",
    "Часто применяется, если при сравнении двух номинативных переменных невозможно выполнить требование к минимальному ожидаемому значению частот."
   ],
   "cell_type": "markdown",
   "metadata": {}
  },
  {
   "source": [
    "### Задача\n",
    "Определить, есть ли взаимосвязь между типом лекарства и выздоровлением.  \n",
    "\n",
    "|  | Поправился | Не поправился |\n",
    "| --- | --- | --- |\n",
    "| Лекарство 1 | 3 | 1 |\n",
    "| Лекарство 2 | 1 | 3 |"
   ],
   "cell_type": "markdown",
   "metadata": {}
  },
  {
   "cell_type": "code",
   "execution_count": 1,
   "metadata": {},
   "outputs": [
    {
     "output_type": "stream",
     "name": "stdout",
     "text": [
      "odds_ratio: 0.1111111111111111\np_value: 0.48571428571428527\np_value > alpha. Do not reject H0\n"
     ]
    }
   ],
   "source": [
    "import scipy.stats as st\n",
    "\n",
    "# H0: взаимосвязи нет\n",
    "\n",
    "odds_ratio, p_value = st.fisher_exact([[1, 3], [3, 1]])\n",
    "\n",
    "print('odds_ratio:', odds_ratio)\n",
    "print('p_value:', p_value)\n",
    "\n",
    "alpha = 0.05\n",
    "if p_value > alpha:\n",
    "    print(f'p_value > alpha. Do not reject H0')\n",
    "else:\n",
    "    print(f'p_value < alpha. Reject H0')"
   ]
  },
  {
   "source": [
    "### Задача  \n",
    "\n",
    "Изучается зависимость частоты рождения детей с врожденными пороками развития (ВПР) от курения матери во время беременности.  \n",
    "Для этого выбраны две группы беременных женщин, одна из которых - экспериментальная, состоящая из 80 женщин,  \n",
    "куривших в первом триместре беременности, а вторая - группа сравнения, включающая 90 женщин, ведущих здоровый образ жизни  \n",
    "на протяжении всей беременности. Число случаев ВПР плода в экспериментальной группе составило 10, в группе сравнения - 2.  \n",
    "\n",
    "Таблица сопряженности:  \n",
    "\n",
    "|  | Наличие ВПР | Отсутствие ВПР |\n",
    "| --- | --- | --- |\n",
    "| Курящие | 10 | 70 |\n",
    "| Некурящие | 2 | 88 |"
   ],
   "cell_type": "markdown",
   "metadata": {}
  },
  {
   "cell_type": "code",
   "execution_count": 2,
   "metadata": {},
   "outputs": [
    {
     "output_type": "stream",
     "name": "stdout",
     "text": [
      "odds_ratio: 6.285714285714286\np_value: 0.013699380948654513\np_value < alpha. Reject H0\n"
     ]
    }
   ],
   "source": [
    "# H0: взаимосвязи нет\n",
    "\n",
    "odds_ratio, p_value = st.fisher_exact([[10, 70], [2, 88]])\n",
    "\n",
    "print('odds_ratio:', odds_ratio)\n",
    "print('p_value:', p_value)\n",
    "\n",
    "alpha = 0.05\n",
    "if p_value > alpha:\n",
    "    print(f'p_value > alpha. Do not reject H0')\n",
    "else:\n",
    "    print(f'p_value < alpha. Reject H0')"
   ]
  }
 ],
 "metadata": {
  "kernelspec": {
   "name": "python3",
   "display_name": "Python 3.8.8 64-bit (conda)"
  },
  "language_info": {
   "codemirror_mode": {
    "name": "ipython",
    "version": 3
   },
   "file_extension": ".py",
   "mimetype": "text/x-python",
   "name": "python",
   "nbconvert_exporter": "python",
   "pygments_lexer": "ipython3",
   "version": "3.8.8"
  },
  "interpreter": {
   "hash": "b3ba2566441a7c06988d0923437866b63cedc61552a5af99d1f4fb67d367b25f"
  }
 },
 "nbformat": 4,
 "nbformat_minor": 5
}